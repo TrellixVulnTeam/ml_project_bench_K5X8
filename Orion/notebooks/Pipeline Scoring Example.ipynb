{
 "cells": [
  {
   "cell_type": "markdown",
   "metadata": {},
   "source": [
    "# Pipeline Scoring Example"
   ]
  },
  {
   "cell_type": "markdown",
   "metadata": {},
   "source": [
    "This is a demo notebook showing how to use the `orion.analysis.analyze` function on one of the\n",
    "signals from the Demo Dataset and afterwards evaluate how well the pipeline performed.\n",
    "\n",
    "In this case, we will be processing the `S-1` signal with the `lstm_dynamic_threshold.json`\n",
    "pipeline."
   ]
  },
  {
   "cell_type": "markdown",
   "metadata": {},
   "source": [
    "## 1. Load the data\n",
    "\n",
    "In the first step, we setup the environment and load the **S-1** signal from the **Demo Dataset**,\n",
    "\n",
    "To do so, we need to import the `orion.data.load_signal` function and call it passing\n",
    "the `'S-1'` name."
   ]
  },
  {
   "cell_type": "code",
   "execution_count": 1,
   "metadata": {},
   "outputs": [],
   "source": [
    "import logging;\n",
    "\n",
    "logging.basicConfig(level=logging.ERROR)\n",
    "logging.getLogger().setLevel(level=logging.ERROR)\n",
    "\n",
    "import warnings\n",
    "warnings.simplefilter(\"ignore\")"
   ]
  },
  {
   "cell_type": "code",
   "execution_count": 2,
   "metadata": {},
   "outputs": [
    {
     "data": {
      "text/html": [
       "<div>\n",
       "<style scoped>\n",
       "    .dataframe tbody tr th:only-of-type {\n",
       "        vertical-align: middle;\n",
       "    }\n",
       "\n",
       "    .dataframe tbody tr th {\n",
       "        vertical-align: top;\n",
       "    }\n",
       "\n",
       "    .dataframe thead th {\n",
       "        text-align: right;\n",
       "    }\n",
       "</style>\n",
       "<table border=\"1\" class=\"dataframe\">\n",
       "  <thead>\n",
       "    <tr style=\"text-align: right;\">\n",
       "      <th></th>\n",
       "      <th>timestamp</th>\n",
       "      <th>value</th>\n",
       "    </tr>\n",
       "  </thead>\n",
       "  <tbody>\n",
       "    <tr>\n",
       "      <th>0</th>\n",
       "      <td>1222819200</td>\n",
       "      <td>-0.366359</td>\n",
       "    </tr>\n",
       "    <tr>\n",
       "      <th>1</th>\n",
       "      <td>1222840800</td>\n",
       "      <td>-0.394108</td>\n",
       "    </tr>\n",
       "    <tr>\n",
       "      <th>2</th>\n",
       "      <td>1222862400</td>\n",
       "      <td>0.403625</td>\n",
       "    </tr>\n",
       "    <tr>\n",
       "      <th>3</th>\n",
       "      <td>1222884000</td>\n",
       "      <td>-0.362759</td>\n",
       "    </tr>\n",
       "    <tr>\n",
       "      <th>4</th>\n",
       "      <td>1222905600</td>\n",
       "      <td>-0.370746</td>\n",
       "    </tr>\n",
       "  </tbody>\n",
       "</table>\n",
       "</div>"
      ],
      "text/plain": [
       "    timestamp     value\n",
       "0  1222819200 -0.366359\n",
       "1  1222840800 -0.394108\n",
       "2  1222862400  0.403625\n",
       "3  1222884000 -0.362759\n",
       "4  1222905600 -0.370746"
      ]
     },
     "execution_count": 2,
     "metadata": {},
     "output_type": "execute_result"
    }
   ],
   "source": [
    "from orion.data import load_signal\n",
    "\n",
    "train = load_signal('S-1-train')\n",
    "test = load_signal('S-1-test')\n",
    "train.head()"
   ]
  },
  {
   "cell_type": "markdown",
   "metadata": {},
   "source": [
    "## 2. Detect anomalies using a pipeline\n",
    "\n",
    "Once we have the data, let us try to use the LSTM pipeline to analyze it and search for anomalies.\n",
    "\n",
    "In order to do so, we will have import the `orion.analysis.analyze` function and pass it\n",
    "the loaded data and the path to the pipeline JSON that we want to use.\n",
    "\n",
    "The output will be a ``pandas.DataFrame`` containing a table with the detected anomalies."
   ]
  },
  {
   "cell_type": "code",
   "execution_count": 3,
   "metadata": {
    "scrolled": false
   },
   "outputs": [
    {
     "name": "stderr",
     "output_type": "stream",
     "text": [
      "Using TensorFlow backend.\n"
     ]
    },
    {
     "name": "stdout",
     "output_type": "stream",
     "text": [
      "Train on 2054 samples, validate on 514 samples\n",
      "Epoch 1/35\n",
      "2054/2054 [==============================] - 12s 6ms/step - loss: 0.1063 - mean_squared_error: 0.1063 - val_loss: 0.1073 - val_mean_squared_error: 0.1073\n",
      "Epoch 2/35\n",
      "2054/2054 [==============================] - 11s 5ms/step - loss: 0.1015 - mean_squared_error: 0.1015 - val_loss: 0.1080 - val_mean_squared_error: 0.1080\n",
      "Epoch 3/35\n",
      "2054/2054 [==============================] - 11s 5ms/step - loss: 0.1020 - mean_squared_error: 0.1020 - val_loss: 0.1057 - val_mean_squared_error: 0.1057\n",
      "Epoch 4/35\n",
      "2054/2054 [==============================] - 11s 5ms/step - loss: 0.1015 - mean_squared_error: 0.1015 - val_loss: 0.1053 - val_mean_squared_error: 0.1053\n",
      "Epoch 5/35\n",
      "2054/2054 [==============================] - 11s 5ms/step - loss: 0.1005 - mean_squared_error: 0.1005 - val_loss: 0.1059 - val_mean_squared_error: 0.1059\n",
      "Epoch 6/35\n",
      "2054/2054 [==============================] - 11s 5ms/step - loss: 0.1002 - mean_squared_error: 0.1002 - val_loss: 0.1045 - val_mean_squared_error: 0.1045\n",
      "Epoch 7/35\n",
      "2054/2054 [==============================] - 11s 5ms/step - loss: 0.1003 - mean_squared_error: 0.1003 - val_loss: 0.1036 - val_mean_squared_error: 0.1036\n",
      "Epoch 8/35\n",
      "2054/2054 [==============================] - 11s 5ms/step - loss: 0.0988 - mean_squared_error: 0.0988 - val_loss: 0.1027 - val_mean_squared_error: 0.1027\n",
      "Epoch 9/35\n",
      "2054/2054 [==============================] - 11s 6ms/step - loss: 0.0986 - mean_squared_error: 0.0986 - val_loss: 0.1015 - val_mean_squared_error: 0.1015\n",
      "Epoch 10/35\n",
      "2054/2054 [==============================] - 11s 5ms/step - loss: 0.0969 - mean_squared_error: 0.0969 - val_loss: 0.1007 - val_mean_squared_error: 0.1007\n",
      "Epoch 11/35\n",
      "2054/2054 [==============================] - 11s 5ms/step - loss: 0.0962 - mean_squared_error: 0.0962 - val_loss: 0.1004 - val_mean_squared_error: 0.1004\n",
      "Epoch 12/35\n",
      "2054/2054 [==============================] - 11s 6ms/step - loss: 0.0967 - mean_squared_error: 0.0967 - val_loss: 0.0998 - val_mean_squared_error: 0.0998\n",
      "Epoch 13/35\n",
      "2054/2054 [==============================] - 11s 5ms/step - loss: 0.0962 - mean_squared_error: 0.0962 - val_loss: 0.0999 - val_mean_squared_error: 0.0999\n",
      "Epoch 14/35\n",
      "2054/2054 [==============================] - 11s 5ms/step - loss: 0.0958 - mean_squared_error: 0.0958 - val_loss: 0.0996 - val_mean_squared_error: 0.0996\n",
      "Epoch 15/35\n",
      "2054/2054 [==============================] - 11s 5ms/step - loss: 0.0952 - mean_squared_error: 0.0952 - val_loss: 0.0990 - val_mean_squared_error: 0.0990\n",
      "Epoch 16/35\n",
      "2054/2054 [==============================] - 11s 5ms/step - loss: 0.0956 - mean_squared_error: 0.0956 - val_loss: 0.1005 - val_mean_squared_error: 0.1005\n",
      "Epoch 17/35\n",
      "2054/2054 [==============================] - 11s 5ms/step - loss: 0.0957 - mean_squared_error: 0.0957 - val_loss: 0.0998 - val_mean_squared_error: 0.0998\n",
      "Epoch 18/35\n",
      "2054/2054 [==============================] - 11s 5ms/step - loss: 0.0955 - mean_squared_error: 0.0955 - val_loss: 0.0986 - val_mean_squared_error: 0.0986\n",
      "Epoch 19/35\n",
      "2054/2054 [==============================] - 11s 5ms/step - loss: 0.0939 - mean_squared_error: 0.0939 - val_loss: 0.0974 - val_mean_squared_error: 0.0974\n",
      "Epoch 20/35\n",
      "2054/2054 [==============================] - 11s 5ms/step - loss: 0.0932 - mean_squared_error: 0.0932 - val_loss: 0.0987 - val_mean_squared_error: 0.0987\n",
      "Epoch 21/35\n",
      "2054/2054 [==============================] - 11s 5ms/step - loss: 0.0944 - mean_squared_error: 0.0944 - val_loss: 0.0961 - val_mean_squared_error: 0.0961\n",
      "Epoch 22/35\n",
      "2054/2054 [==============================] - 11s 5ms/step - loss: 0.0933 - mean_squared_error: 0.0933 - val_loss: 0.1008 - val_mean_squared_error: 0.1008\n",
      "Epoch 23/35\n",
      "2054/2054 [==============================] - 11s 5ms/step - loss: 0.0939 - mean_squared_error: 0.0939 - val_loss: 0.0972 - val_mean_squared_error: 0.0972\n",
      "Epoch 24/35\n",
      "2054/2054 [==============================] - 11s 5ms/step - loss: 0.0913 - mean_squared_error: 0.0913 - val_loss: 0.0958 - val_mean_squared_error: 0.0958\n",
      "Epoch 25/35\n",
      "2054/2054 [==============================] - 11s 6ms/step - loss: 0.0913 - mean_squared_error: 0.0913 - val_loss: 0.0955 - val_mean_squared_error: 0.0955\n",
      "Epoch 26/35\n",
      "2054/2054 [==============================] - 11s 5ms/step - loss: 0.0910 - mean_squared_error: 0.0910 - val_loss: 0.0944 - val_mean_squared_error: 0.0944\n",
      "Epoch 27/35\n",
      "2054/2054 [==============================] - 11s 5ms/step - loss: 0.0890 - mean_squared_error: 0.0890 - val_loss: 0.0948 - val_mean_squared_error: 0.0948\n",
      "Epoch 28/35\n",
      "2054/2054 [==============================] - 11s 5ms/step - loss: 0.0895 - mean_squared_error: 0.0895 - val_loss: 0.0898 - val_mean_squared_error: 0.0898\n",
      "Epoch 29/35\n",
      "2054/2054 [==============================] - 11s 5ms/step - loss: 0.0873 - mean_squared_error: 0.0873 - val_loss: 0.0910 - val_mean_squared_error: 0.0910\n",
      "Epoch 30/35\n",
      "2054/2054 [==============================] - 11s 5ms/step - loss: 0.0875 - mean_squared_error: 0.0875 - val_loss: 0.0881 - val_mean_squared_error: 0.0881\n",
      "Epoch 31/35\n",
      "2054/2054 [==============================] - 11s 5ms/step - loss: 0.0872 - mean_squared_error: 0.0872 - val_loss: 0.0879 - val_mean_squared_error: 0.0879\n",
      "Epoch 32/35\n",
      "2054/2054 [==============================] - 11s 5ms/step - loss: 0.0847 - mean_squared_error: 0.0847 - val_loss: 0.0868 - val_mean_squared_error: 0.0868\n",
      "Epoch 33/35\n",
      "2054/2054 [==============================] - 11s 5ms/step - loss: 0.0858 - mean_squared_error: 0.0858 - val_loss: 0.0857 - val_mean_squared_error: 0.0857\n",
      "Epoch 34/35\n",
      "2054/2054 [==============================] - 11s 5ms/step - loss: 0.0834 - mean_squared_error: 0.0834 - val_loss: 0.0839 - val_mean_squared_error: 0.0839\n",
      "Epoch 35/35\n",
      "2054/2054 [==============================] - 11s 5ms/step - loss: 0.0829 - mean_squared_error: 0.0829 - val_loss: 0.0857 - val_mean_squared_error: 0.0857\n",
      "2568/2568 [==============================] - 3s 1ms/step\n",
      "7081/7081 [==============================] - 7s 1ms/step\n"
     ]
    },
    {
     "data": {
      "text/html": [
       "<div>\n",
       "<style scoped>\n",
       "    .dataframe tbody tr th:only-of-type {\n",
       "        vertical-align: middle;\n",
       "    }\n",
       "\n",
       "    .dataframe tbody tr th {\n",
       "        vertical-align: top;\n",
       "    }\n",
       "\n",
       "    .dataframe thead th {\n",
       "        text-align: right;\n",
       "    }\n",
       "</style>\n",
       "<table border=\"1\" class=\"dataframe\">\n",
       "  <thead>\n",
       "    <tr style=\"text-align: right;\">\n",
       "      <th></th>\n",
       "      <th>start</th>\n",
       "      <th>end</th>\n",
       "      <th>score</th>\n",
       "    </tr>\n",
       "  </thead>\n",
       "  <tbody>\n",
       "    <tr>\n",
       "      <th>0</th>\n",
       "      <td>1394323200</td>\n",
       "      <td>1399701600</td>\n",
       "      <td>0.673494</td>\n",
       "    </tr>\n",
       "  </tbody>\n",
       "</table>\n",
       "</div>"
      ],
      "text/plain": [
       "        start         end     score\n",
       "0  1394323200  1399701600  0.673494"
      ]
     },
     "execution_count": 3,
     "metadata": {},
     "output_type": "execute_result"
    }
   ],
   "source": [
    "from orion.analysis import analyze\n",
    "\n",
    "pipeline_path = '../orion/pipelines/lstm_dynamic_threshold.json'\n",
    "\n",
    "anomalies = analyze(pipeline_path, train, test)\n",
    "anomalies"
   ]
  },
  {
   "cell_type": "markdown",
   "metadata": {},
   "source": [
    "## 3. Evaluate performance\n",
    "\n",
    "In this next step we will load some already known anomalous intervals and evaluate how\n",
    "good our anomaly detection was by comparing those with our detected intervals.\n",
    "\n",
    "For this, we will first load the known anomalies for the signal that we are using:"
   ]
  },
  {
   "cell_type": "code",
   "execution_count": 4,
   "metadata": {},
   "outputs": [
    {
     "data": {
      "text/html": [
       "<div>\n",
       "<style scoped>\n",
       "    .dataframe tbody tr th:only-of-type {\n",
       "        vertical-align: middle;\n",
       "    }\n",
       "\n",
       "    .dataframe tbody tr th {\n",
       "        vertical-align: top;\n",
       "    }\n",
       "\n",
       "    .dataframe thead th {\n",
       "        text-align: right;\n",
       "    }\n",
       "</style>\n",
       "<table border=\"1\" class=\"dataframe\">\n",
       "  <thead>\n",
       "    <tr style=\"text-align: right;\">\n",
       "      <th></th>\n",
       "      <th>start</th>\n",
       "      <th>end</th>\n",
       "    </tr>\n",
       "  </thead>\n",
       "  <tbody>\n",
       "    <tr>\n",
       "      <th>0</th>\n",
       "      <td>1392768000</td>\n",
       "      <td>1402423200</td>\n",
       "    </tr>\n",
       "  </tbody>\n",
       "</table>\n",
       "</div>"
      ],
      "text/plain": [
       "        start         end\n",
       "0  1392768000  1402423200"
      ]
     },
     "execution_count": 4,
     "metadata": {},
     "output_type": "execute_result"
    }
   ],
   "source": [
    "from orion.data import load_anomalies\n",
    "known_anomalies = load_anomalies('S-1')\n",
    "known_anomalies"
   ]
  },
  {
   "cell_type": "markdown",
   "metadata": {},
   "source": [
    "Afterwards, we pass the ground truth, the detected anomalies and the original data\n",
    "to the `orion.metrics.accuracy_score` and `orion.metrics.f1_score` functions in order\n",
    "to compute a score that indicates how good our anomaly detection was:"
   ]
  },
  {
   "cell_type": "code",
   "execution_count": 6,
   "metadata": {},
   "outputs": [
    {
     "data": {
      "text/plain": [
       "0.972987721691678"
      ]
     },
     "execution_count": 6,
     "metadata": {},
     "output_type": "execute_result"
    }
   ],
   "source": [
    "from orion.metrics import accuracy_score, f1_score\n",
    "accuracy_score(known_anomalies, anomalies, test)"
   ]
  },
  {
   "cell_type": "code",
   "execution_count": 7,
   "metadata": {},
   "outputs": [
    {
     "data": {
      "text/plain": [
       "0.7155172413793103"
      ]
     },
     "execution_count": 7,
     "metadata": {},
     "output_type": "execute_result"
    }
   ],
   "source": [
    "f1_score(known_anomalies, anomalies, test)"
   ]
  }
 ],
 "metadata": {
  "kernelspec": {
   "display_name": "Python 3",
   "language": "python",
   "name": "python3"
  },
  "language_info": {
   "codemirror_mode": {
    "name": "ipython",
    "version": 3
   },
   "file_extension": ".py",
   "mimetype": "text/x-python",
   "name": "python",
   "nbconvert_exporter": "python",
   "pygments_lexer": "ipython3",
   "version": "3.6.7"
  }
 },
 "nbformat": 4,
 "nbformat_minor": 2
}
