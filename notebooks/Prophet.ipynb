{
 "cells": [
  {
   "cell_type": "code",
   "execution_count": 1,
   "metadata": {},
   "outputs": [],
   "source": [
    "import site\n",
    "import ast\n",
    "import sys\n",
    "sys.path.append('../')\n",
    "from Orion.orion.evaluation import CONTEXTUAL_METRICS as METRICS\n",
    "from Orion.orion.evaluation import contextual_confusion_matrix\n",
    "from functools import partial\n",
    "from Orion.orion.benchmark import _summarize_results_datasets\n",
    "import os\n",
    "import pandas as pd\n",
    "from orion.benchmark import benchmark\n",
    "\n",
    "\n",
    "site.addsitedir('Orion/')\n",
    "site.addsitedir('MLPrimitives/')\n",
    "\n",
    "S3_URL = 'https://{}.s3.amazonaws.com/{}'\n",
    "BUCKET = 'd3-ai-orion'\n",
    "\n",
    "\n",
    "\n",
    "BENCHMARK_DATA = pd.read_csv(S3_URL.format(\n",
    "    BUCKET, 'datasets.csv'), index_col=0, header=None).applymap(ast.literal_eval).to_dict()[1]\n",
    "\n",
    "\n",
    "\n",
    "pipelines = [\n",
    "    'prophet'\n",
    "]\n",
    "\n",
    "# hyperparamters = {'MSL':{ \n",
    "# \"orion.primitives.mssa.mSSATAD#1\" :{'rank':50}}}\n",
    "\n",
    "del METRICS['accuracy']\n",
    "METRICS['confusion_matrix'] = contextual_confusion_matrix\n",
    "metrics = {k: partial(fun, weighted=False) for k, fun in METRICS.items()}\n",
    "\n"
   ]
  },
  {
   "cell_type": "code",
   "execution_count": 2,
   "metadata": {
    "scrolled": true
   },
   "outputs": [
    {
     "name": "stderr",
     "output_type": "stream",
     "text": [
      "Starting dataset SMAP with 53 signals..\n",
      "HYPERPARAMS None\n",
      "Scoring pipeline prophet on signal P-1 (test split: True)\n"
     ]
    },
    {
     "name": "stdout",
     "output_type": "stream",
     "text": [
      "SMAP\n",
      "TRAIN:         timestamp     value\n",
      "0     1222819200 -0.523155\n",
      "1     1222840800 -0.688857\n",
      "2     1222862400 -0.554993\n",
      "3     1222884000 -0.531114\n",
      "4     1222905600 -0.589001\n",
      "...          ...       ...\n",
      "2867  1284746400 -0.691751\n",
      "2868  1284768000 -0.704052\n",
      "2869  1284789600 -0.725760\n",
      "2870  1284811200 -0.689580\n",
      "2871  1284832800 -0.709841\n",
      "\n",
      "[2872 rows x 2 columns]\n",
      "TEST:         timestamp     value\n",
      "0     1284854400 -0.695162\n",
      "1     1284876000 -0.685704\n",
      "2     1284897600 -0.725719\n",
      "3     1284919200 -0.761368\n",
      "4     1284940800 -0.745362\n",
      "...          ...       ...\n",
      "8500  1468454400  0.293561\n",
      "8501  1468476000  0.341579\n",
      "8502  1468497600 -0.316115\n",
      "8503  1468519200 -0.297199\n",
      "8504  1468540800 -0.732266\n",
      "\n",
      "[8505 rows x 2 columns]\n",
      "TIMESEGMENT:  (2872, 2) 21600 timestamp mean\n"
     ]
    },
    {
     "name": "stderr",
     "output_type": "stream",
     "text": [
      "INFO:numexpr.utils:NumExpr defaulting to 4 threads.\n"
     ]
    },
    {
     "name": "stdout",
     "output_type": "stream",
     "text": [
      "(2872, 1) (2872,) [1222819200 1222840800 1222862400 1222884000 1222905600 1222927200\n",
      " 1222948800 1222970400 1222992000 1223013600]\n",
      "X shape:  (2872, 1)\n",
      "index shape:  (2872,)\n",
      "0      2018-01-01 00:00:00\n",
      "1      2018-01-01 01:00:00\n",
      "2      2018-01-01 02:00:00\n",
      "3      2018-01-01 03:00:00\n",
      "4      2018-01-01 04:00:00\n",
      "               ...        \n",
      "2867   2018-04-30 11:00:00\n",
      "2868   2018-04-30 12:00:00\n",
      "2869   2018-04-30 13:00:00\n",
      "2870   2018-04-30 14:00:00\n",
      "2871   2018-04-30 15:00:00\n",
      "Name: ds, Length: 2872, dtype: datetime64[ns]\n"
     ]
    },
    {
     "name": "stderr",
     "output_type": "stream",
     "text": [
      "/usr/local/lib/python3.7/site-packages/fbprophet/forecaster.py:400: FutureWarning: The pandas.datetime class is deprecated and will be removed from pandas in a future version. Import from datetime module instead.\n",
      "  (dates - pd.datetime(1970, 1, 1))\n",
      "/usr/local/lib/python3.7/site-packages/fbprophet/forecaster.py:400: FutureWarning: The pandas.datetime class is deprecated and will be removed from pandas in a future version. Import from datetime module instead.\n",
      "  (dates - pd.datetime(1970, 1, 1))\n",
      "/usr/local/lib/python3.7/site-packages/fbprophet/forecaster.py:400: FutureWarning: The pandas.datetime class is deprecated and will be removed from pandas in a future version. Import from datetime module instead.\n",
      "  (dates - pd.datetime(1970, 1, 1))\n"
     ]
    },
    {
     "name": "stdout",
     "output_type": "stream",
     "text": [
      "(2872, 1) (2872, 1)\n",
      "-0.8337538304424073\n",
      "TIMESEGMENT:  (8505, 2) 21600 timestamp mean\n"
     ]
    },
    {
     "name": "stderr",
     "output_type": "stream",
     "text": [
      "/usr/local/lib/python3.7/site-packages/fbprophet/forecaster.py:400: FutureWarning: The pandas.datetime class is deprecated and will be removed from pandas in a future version. Import from datetime module instead.\n",
      "  (dates - pd.datetime(1970, 1, 1))\n",
      "/usr/local/lib/python3.7/site-packages/fbprophet/forecaster.py:400: FutureWarning: The pandas.datetime class is deprecated and will be removed from pandas in a future version. Import from datetime module instead.\n",
      "  (dates - pd.datetime(1970, 1, 1))\n"
     ]
    },
    {
     "name": "stdout",
     "output_type": "stream",
     "text": [
      "(8505, 1) (8505, 1)\n",
      "-2.1116453420698402\n"
     ]
    },
    {
     "name": "stderr",
     "output_type": "stream",
     "text": [
      "WARNING:orion.benchmark:Scoring pipeline prophet on signal S-1 (test split: True)\n"
     ]
    },
    {
     "name": "stdout",
     "output_type": "stream",
     "text": [
      "TRAIN:         timestamp     value\n",
      "0     1222819200 -0.366359\n",
      "1     1222840800 -0.394108\n",
      "2     1222862400  0.403625\n",
      "3     1222884000 -0.362759\n",
      "4     1222905600 -0.370746\n",
      "...          ...       ...\n",
      "2813  1283580000 -0.365308\n",
      "2814  1283601600  1.000000\n",
      "2815  1283623200 -0.341357\n",
      "2816  1283644800 -0.392546\n",
      "2817  1283666400  1.000000\n",
      "\n",
      "[2818 rows x 2 columns]\n",
      "TEST:         timestamp     value\n",
      "0     1283688000  0.028893\n",
      "1     1283709600  0.403040\n",
      "2     1283731200 -0.366585\n",
      "3     1283752800 -0.369710\n",
      "4     1283774400 -0.386455\n",
      "...          ...       ...\n",
      "7326  1441929600 -0.334147\n",
      "7327  1441951200  1.000000\n",
      "7328  1441972800 -0.275623\n",
      "7329  1441994400  1.000000\n",
      "7330  1442016000 -0.345648\n",
      "\n",
      "[7331 rows x 2 columns]\n",
      "TIMESEGMENT:  (2818, 2) 21600 timestamp mean\n",
      "(2818, 1) (2818,) [1222819200 1222840800 1222862400 1222884000 1222905600 1222927200\n",
      " 1222948800 1222970400 1222992000 1223013600]\n",
      "X shape:  (2818, 1)\n",
      "index shape:  (2818,)\n",
      "0      2018-01-01 00:00:00\n",
      "1      2018-01-01 01:00:00\n",
      "2      2018-01-01 02:00:00\n",
      "3      2018-01-01 03:00:00\n",
      "4      2018-01-01 04:00:00\n",
      "               ...        \n",
      "2813   2018-04-28 05:00:00\n",
      "2814   2018-04-28 06:00:00\n",
      "2815   2018-04-28 07:00:00\n",
      "2816   2018-04-28 08:00:00\n",
      "2817   2018-04-28 09:00:00\n",
      "Name: ds, Length: 2818, dtype: datetime64[ns]\n"
     ]
    },
    {
     "name": "stderr",
     "output_type": "stream",
     "text": [
      "/usr/local/lib/python3.7/site-packages/fbprophet/forecaster.py:400: FutureWarning: The pandas.datetime class is deprecated and will be removed from pandas in a future version. Import from datetime module instead.\n",
      "  (dates - pd.datetime(1970, 1, 1))\n",
      "/usr/local/lib/python3.7/site-packages/fbprophet/forecaster.py:400: FutureWarning: The pandas.datetime class is deprecated and will be removed from pandas in a future version. Import from datetime module instead.\n",
      "  (dates - pd.datetime(1970, 1, 1))\n",
      "/usr/local/lib/python3.7/site-packages/fbprophet/forecaster.py:400: FutureWarning: The pandas.datetime class is deprecated and will be removed from pandas in a future version. Import from datetime module instead.\n",
      "  (dates - pd.datetime(1970, 1, 1))\n"
     ]
    },
    {
     "name": "stdout",
     "output_type": "stream",
     "text": [
      "(2818, 1) (2818, 1)\n",
      "-16.147380592447288\n",
      "TIMESEGMENT:  (7331, 2) 21600 timestamp mean\n"
     ]
    },
    {
     "name": "stderr",
     "output_type": "stream",
     "text": [
      "/usr/local/lib/python3.7/site-packages/fbprophet/forecaster.py:400: FutureWarning: The pandas.datetime class is deprecated and will be removed from pandas in a future version. Import from datetime module instead.\n",
      "  (dates - pd.datetime(1970, 1, 1))\n",
      "/usr/local/lib/python3.7/site-packages/fbprophet/forecaster.py:400: FutureWarning: The pandas.datetime class is deprecated and will be removed from pandas in a future version. Import from datetime module instead.\n",
      "  (dates - pd.datetime(1970, 1, 1))\n"
     ]
    },
    {
     "name": "stdout",
     "output_type": "stream",
     "text": [
      "(7331, 1) (7331, 1)\n",
      "-45.495506821985366\n"
     ]
    },
    {
     "name": "stderr",
     "output_type": "stream",
     "text": [
      "WARNING:orion.benchmark:Scoring pipeline prophet on signal E-1 (test split: True)\n"
     ]
    },
    {
     "name": "stdout",
     "output_type": "stream",
     "text": [
      "TRAIN:         timestamp  value\n",
      "0     1222819200   -1.0\n",
      "1     1222840800   -1.0\n",
      "2     1222862400   -1.0\n",
      "3     1222884000   -1.0\n",
      "4     1222905600   -1.0\n",
      "...          ...    ...\n",
      "2875  1284919200    1.0\n",
      "2876  1284940800    1.0\n",
      "2877  1284962400    1.0\n",
      "2878  1284984000   -1.0\n",
      "2879  1285005600   -1.0\n",
      "\n",
      "[2880 rows x 2 columns]\n",
      "TEST:         timestamp  value\n",
      "0     1285027200   -1.0\n",
      "1     1285048800   -1.0\n",
      "2     1285070400   -1.0\n",
      "3     1285092000   -1.0\n",
      "4     1285113600   -1.0\n",
      "...          ...    ...\n",
      "8511  1468864800   -1.0\n",
      "8512  1468886400   -1.0\n",
      "8513  1468908000   -1.0\n",
      "8514  1468929600   -1.0\n",
      "8515  1468951200   -1.0\n",
      "\n",
      "[8516 rows x 2 columns]\n",
      "TIMESEGMENT:  (2880, 2) 21600 timestamp mean\n",
      "(2880, 1) (2880,) [1222819200 1222840800 1222862400 1222884000 1222905600 1222927200\n",
      " 1222948800 1222970400 1222992000 1223013600]\n",
      "X shape:  (2880, 1)\n",
      "index shape:  (2880,)\n",
      "0      2018-01-01 00:00:00\n",
      "1      2018-01-01 01:00:00\n",
      "2      2018-01-01 02:00:00\n",
      "3      2018-01-01 03:00:00\n",
      "4      2018-01-01 04:00:00\n",
      "               ...        \n",
      "2875   2018-04-30 19:00:00\n",
      "2876   2018-04-30 20:00:00\n",
      "2877   2018-04-30 21:00:00\n",
      "2878   2018-04-30 22:00:00\n",
      "2879   2018-04-30 23:00:00\n",
      "Name: ds, Length: 2880, dtype: datetime64[ns]\n"
     ]
    },
    {
     "name": "stderr",
     "output_type": "stream",
     "text": [
      "/usr/local/lib/python3.7/site-packages/fbprophet/forecaster.py:400: FutureWarning: The pandas.datetime class is deprecated and will be removed from pandas in a future version. Import from datetime module instead.\n",
      "  (dates - pd.datetime(1970, 1, 1))\n",
      "/usr/local/lib/python3.7/site-packages/fbprophet/forecaster.py:400: FutureWarning: The pandas.datetime class is deprecated and will be removed from pandas in a future version. Import from datetime module instead.\n",
      "  (dates - pd.datetime(1970, 1, 1))\n",
      "/usr/local/lib/python3.7/site-packages/fbprophet/forecaster.py:400: FutureWarning: The pandas.datetime class is deprecated and will be removed from pandas in a future version. Import from datetime module instead.\n",
      "  (dates - pd.datetime(1970, 1, 1))\n"
     ]
    },
    {
     "name": "stdout",
     "output_type": "stream",
     "text": [
      "(2880, 1) (2880, 1)\n",
      "-0.20625560896057493\n",
      "TIMESEGMENT:  (8516, 2) 21600 timestamp mean\n"
     ]
    },
    {
     "name": "stderr",
     "output_type": "stream",
     "text": [
      "/usr/local/lib/python3.7/site-packages/fbprophet/forecaster.py:400: FutureWarning: The pandas.datetime class is deprecated and will be removed from pandas in a future version. Import from datetime module instead.\n",
      "  (dates - pd.datetime(1970, 1, 1))\n",
      "/usr/local/lib/python3.7/site-packages/fbprophet/forecaster.py:400: FutureWarning: The pandas.datetime class is deprecated and will be removed from pandas in a future version. Import from datetime module instead.\n",
      "  (dates - pd.datetime(1970, 1, 1))\n"
     ]
    },
    {
     "name": "stdout",
     "output_type": "stream",
     "text": [
      "(8516, 1) (8516, 1)\n",
      "-0.2739293292984608\n"
     ]
    },
    {
     "name": "stderr",
     "output_type": "stream",
     "text": [
      "WARNING:orion.benchmark:Scoring pipeline prophet on signal E-2 (test split: True)\n"
     ]
    },
    {
     "name": "stdout",
     "output_type": "stream",
     "text": [
      "TRAIN:         timestamp     value\n",
      "0     1222819200 -1.000000\n",
      "1     1222840800 -1.000000\n",
      "2     1222862400 -1.000000\n",
      "3     1222884000 -1.000000\n",
      "4     1222905600 -1.000000\n",
      "...          ...       ...\n",
      "2875  1284919200  0.749787\n",
      "2876  1284940800  0.833512\n",
      "2877  1284962400  0.833512\n",
      "2878  1284984000  0.154289\n",
      "2879  1285005600 -0.019029\n",
      "\n",
      "[2880 rows x 2 columns]\n",
      "TEST:         timestamp     value\n",
      "0     1285027200 -0.108444\n",
      "1     1285048800 -0.158996\n",
      "2     1285070400 -0.209768\n",
      "3     1285092000 -0.209768\n",
      "4     1285113600 -0.260764\n",
      "...          ...       ...\n",
      "8527  1469210400 -0.467047\n",
      "8528  1469232000 -0.467047\n",
      "8529  1469253600 -0.467047\n",
      "8530  1469275200 -0.467047\n",
      "8531  1469296800 -0.467047\n",
      "\n",
      "[8532 rows x 2 columns]\n",
      "TIMESEGMENT:  (2880, 2) 21600 timestamp mean\n",
      "(2880, 1) (2880,) [1222819200 1222840800 1222862400 1222884000 1222905600 1222927200\n",
      " 1222948800 1222970400 1222992000 1223013600]\n",
      "X shape:  (2880, 1)\n",
      "index shape:  (2880,)\n",
      "0      2018-01-01 00:00:00\n",
      "1      2018-01-01 01:00:00\n",
      "2      2018-01-01 02:00:00\n",
      "3      2018-01-01 03:00:00\n",
      "4      2018-01-01 04:00:00\n",
      "               ...        \n",
      "2875   2018-04-30 19:00:00\n",
      "2876   2018-04-30 20:00:00\n",
      "2877   2018-04-30 21:00:00\n",
      "2878   2018-04-30 22:00:00\n",
      "2879   2018-04-30 23:00:00\n",
      "Name: ds, Length: 2880, dtype: datetime64[ns]\n"
     ]
    },
    {
     "name": "stderr",
     "output_type": "stream",
     "text": [
      "/usr/local/lib/python3.7/site-packages/fbprophet/forecaster.py:400: FutureWarning: The pandas.datetime class is deprecated and will be removed from pandas in a future version. Import from datetime module instead.\n",
      "  (dates - pd.datetime(1970, 1, 1))\n",
      "/usr/local/lib/python3.7/site-packages/fbprophet/forecaster.py:400: FutureWarning: The pandas.datetime class is deprecated and will be removed from pandas in a future version. Import from datetime module instead.\n",
      "  (dates - pd.datetime(1970, 1, 1))\n",
      "/usr/local/lib/python3.7/site-packages/fbprophet/forecaster.py:400: FutureWarning: The pandas.datetime class is deprecated and will be removed from pandas in a future version. Import from datetime module instead.\n",
      "  (dates - pd.datetime(1970, 1, 1))\n"
     ]
    },
    {
     "name": "stdout",
     "output_type": "stream",
     "text": [
      "(2880, 1) (2880, 1)\n",
      "-2.8900624903185297\n",
      "TIMESEGMENT:  (8532, 2) 21600 timestamp mean\n"
     ]
    },
    {
     "name": "stderr",
     "output_type": "stream",
     "text": [
      "/usr/local/lib/python3.7/site-packages/fbprophet/forecaster.py:400: FutureWarning: The pandas.datetime class is deprecated and will be removed from pandas in a future version. Import from datetime module instead.\n",
      "  (dates - pd.datetime(1970, 1, 1))\n",
      "/usr/local/lib/python3.7/site-packages/fbprophet/forecaster.py:400: FutureWarning: The pandas.datetime class is deprecated and will be removed from pandas in a future version. Import from datetime module instead.\n",
      "  (dates - pd.datetime(1970, 1, 1))\n"
     ]
    },
    {
     "name": "stdout",
     "output_type": "stream",
     "text": [
      "(8532, 1) (8532, 1)\n",
      "-26.335930877507003\n"
     ]
    },
    {
     "name": "stderr",
     "output_type": "stream",
     "text": [
      "WARNING:orion.benchmark:Scoring pipeline prophet on signal E-3 (test split: True)\n"
     ]
    },
    {
     "name": "stdout",
     "output_type": "stream",
     "text": [
      "TRAIN:         timestamp     value\n",
      "0     1222819200 -0.247183\n",
      "1     1222840800 -0.247183\n",
      "2     1222862400 -0.247183\n",
      "3     1222884000 -0.247183\n",
      "4     1222905600 -0.247183\n",
      "...          ...       ...\n",
      "2875  1284919200  0.086224\n",
      "2876  1284940800  0.169473\n",
      "2877  1284962400  0.169473\n",
      "2878  1284984000  0.169473\n",
      "2879  1285005600  0.169473\n",
      "\n",
      "[2880 rows x 2 columns]\n",
      "TEST:         timestamp     value\n",
      "0     1285027200  0.870759\n",
      "1     1285048800  0.870759\n",
      "2     1285070400  0.870759\n",
      "3     1285092000  0.870759\n",
      "4     1285113600  0.870759\n",
      "...          ...       ...\n",
      "8302  1464350400  0.610969\n",
      "8303  1464372000  0.610969\n",
      "8304  1464393600  0.610969\n",
      "8305  1464415200  0.610969\n",
      "8306  1464436800  0.610969\n",
      "\n",
      "[8307 rows x 2 columns]\n",
      "TIMESEGMENT:  (2880, 2) 21600 timestamp mean\n",
      "(2880, 1) (2880,) [1222819200 1222840800 1222862400 1222884000 1222905600 1222927200\n",
      " 1222948800 1222970400 1222992000 1223013600]\n",
      "X shape:  (2880, 1)\n",
      "index shape:  (2880,)\n",
      "0      2018-01-01 00:00:00\n",
      "1      2018-01-01 01:00:00\n",
      "2      2018-01-01 02:00:00\n",
      "3      2018-01-01 03:00:00\n",
      "4      2018-01-01 04:00:00\n",
      "               ...        \n",
      "2875   2018-04-30 19:00:00\n",
      "2876   2018-04-30 20:00:00\n",
      "2877   2018-04-30 21:00:00\n",
      "2878   2018-04-30 22:00:00\n",
      "2879   2018-04-30 23:00:00\n",
      "Name: ds, Length: 2880, dtype: datetime64[ns]\n"
     ]
    },
    {
     "name": "stderr",
     "output_type": "stream",
     "text": [
      "/usr/local/lib/python3.7/site-packages/fbprophet/forecaster.py:400: FutureWarning: The pandas.datetime class is deprecated and will be removed from pandas in a future version. Import from datetime module instead.\n",
      "  (dates - pd.datetime(1970, 1, 1))\n",
      "/usr/local/lib/python3.7/site-packages/fbprophet/forecaster.py:400: FutureWarning: The pandas.datetime class is deprecated and will be removed from pandas in a future version. Import from datetime module instead.\n",
      "  (dates - pd.datetime(1970, 1, 1))\n",
      "/usr/local/lib/python3.7/site-packages/fbprophet/forecaster.py:400: FutureWarning: The pandas.datetime class is deprecated and will be removed from pandas in a future version. Import from datetime module instead.\n",
      "  (dates - pd.datetime(1970, 1, 1))\n"
     ]
    },
    {
     "name": "stdout",
     "output_type": "stream",
     "text": [
      "(2880, 1) (2880, 1)\n",
      "-0.5772464107457425\n",
      "TIMESEGMENT:  (8307, 2) 21600 timestamp mean\n"
     ]
    },
    {
     "name": "stderr",
     "output_type": "stream",
     "text": [
      "/usr/local/lib/python3.7/site-packages/fbprophet/forecaster.py:400: FutureWarning: The pandas.datetime class is deprecated and will be removed from pandas in a future version. Import from datetime module instead.\n",
      "  (dates - pd.datetime(1970, 1, 1))\n",
      "/usr/local/lib/python3.7/site-packages/fbprophet/forecaster.py:400: FutureWarning: The pandas.datetime class is deprecated and will be removed from pandas in a future version. Import from datetime module instead.\n",
      "  (dates - pd.datetime(1970, 1, 1))\n"
     ]
    },
    {
     "name": "stdout",
     "output_type": "stream",
     "text": [
      "(8307, 1) (8307, 1)\n",
      "-1.3990638114722702\n"
     ]
    },
    {
     "name": "stderr",
     "output_type": "stream",
     "text": [
      "WARNING:orion.benchmark:Scoring pipeline prophet on signal E-4 (test split: True)\n"
     ]
    },
    {
     "name": "stdout",
     "output_type": "stream",
     "text": [
      "TRAIN:         timestamp     value\n",
      "0     1222819200 -0.925192\n",
      "1     1222840800 -0.925192\n",
      "2     1222862400 -0.925192\n",
      "3     1222884000 -0.925192\n",
      "4     1222905600 -0.935828\n",
      "...          ...       ...\n",
      "2875  1284919200  0.306165\n",
      "2876  1284940800  0.053085\n",
      "2877  1284962400 -0.054460\n",
      "2878  1284984000 -0.132970\n",
      "2879  1285005600 -0.182195\n",
      "\n",
      "[2880 rows x 2 columns]\n",
      "TEST:         timestamp     value\n",
      "0     1285027200  0.062334\n",
      "1     1285048800  0.043913\n",
      "2     1285070400  0.019295\n",
      "3     1285092000  0.006961\n",
      "4     1285113600 -0.005391\n",
      "...          ...       ...\n",
      "8349  1465365600 -0.174216\n",
      "8350  1465387200 -0.186901\n",
      "8351  1465408800 -0.193254\n",
      "8352  1465430400 -0.199615\n",
      "8353  1465452000 -0.205983\n",
      "\n",
      "[8354 rows x 2 columns]\n",
      "TIMESEGMENT:  (2880, 2) 21600 timestamp mean\n",
      "(2880, 1) (2880,) [1222819200 1222840800 1222862400 1222884000 1222905600 1222927200\n",
      " 1222948800 1222970400 1222992000 1223013600]\n",
      "X shape:  (2880, 1)\n",
      "index shape:  (2880,)\n",
      "0      2018-01-01 00:00:00\n",
      "1      2018-01-01 01:00:00\n",
      "2      2018-01-01 02:00:00\n",
      "3      2018-01-01 03:00:00\n",
      "4      2018-01-01 04:00:00\n",
      "               ...        \n",
      "2875   2018-04-30 19:00:00\n",
      "2876   2018-04-30 20:00:00\n",
      "2877   2018-04-30 21:00:00\n",
      "2878   2018-04-30 22:00:00\n",
      "2879   2018-04-30 23:00:00\n",
      "Name: ds, Length: 2880, dtype: datetime64[ns]\n"
     ]
    },
    {
     "name": "stderr",
     "output_type": "stream",
     "text": [
      "/usr/local/lib/python3.7/site-packages/fbprophet/forecaster.py:400: FutureWarning: The pandas.datetime class is deprecated and will be removed from pandas in a future version. Import from datetime module instead.\n",
      "  (dates - pd.datetime(1970, 1, 1))\n",
      "/usr/local/lib/python3.7/site-packages/fbprophet/forecaster.py:400: FutureWarning: The pandas.datetime class is deprecated and will be removed from pandas in a future version. Import from datetime module instead.\n",
      "  (dates - pd.datetime(1970, 1, 1))\n",
      "/usr/local/lib/python3.7/site-packages/fbprophet/forecaster.py:400: FutureWarning: The pandas.datetime class is deprecated and will be removed from pandas in a future version. Import from datetime module instead.\n",
      "  (dates - pd.datetime(1970, 1, 1))\n"
     ]
    },
    {
     "name": "stdout",
     "output_type": "stream",
     "text": [
      "(2880, 1) (2880, 1)\n",
      "-2.2466638180896448\n",
      "TIMESEGMENT:  (8354, 2) 21600 timestamp mean\n"
     ]
    },
    {
     "name": "stderr",
     "output_type": "stream",
     "text": [
      "/usr/local/lib/python3.7/site-packages/fbprophet/forecaster.py:400: FutureWarning: The pandas.datetime class is deprecated and will be removed from pandas in a future version. Import from datetime module instead.\n",
      "  (dates - pd.datetime(1970, 1, 1))\n",
      "/usr/local/lib/python3.7/site-packages/fbprophet/forecaster.py:400: FutureWarning: The pandas.datetime class is deprecated and will be removed from pandas in a future version. Import from datetime module instead.\n",
      "  (dates - pd.datetime(1970, 1, 1))\n"
     ]
    },
    {
     "name": "stdout",
     "output_type": "stream",
     "text": [
      "(8354, 1) (8354, 1)\n",
      "-15.140313555255624\n"
     ]
    },
    {
     "name": "stderr",
     "output_type": "stream",
     "text": [
      "WARNING:orion.benchmark:Scoring pipeline prophet on signal E-5 (test split: True)\n"
     ]
    },
    {
     "name": "stdout",
     "output_type": "stream",
     "text": [
      "TRAIN:         timestamp  value\n",
      "0     1222819200   -1.0\n",
      "1     1222840800   -1.0\n",
      "2     1222862400   -1.0\n",
      "3     1222884000   -1.0\n",
      "4     1222905600   -1.0\n",
      "...          ...    ...\n",
      "2875  1284919200    1.0\n",
      "2876  1284940800    1.0\n",
      "2877  1284962400    1.0\n",
      "2878  1284984000   -1.0\n",
      "2879  1285005600   -1.0\n",
      "\n",
      "[2880 rows x 2 columns]\n",
      "TEST:         timestamp  value\n",
      "0     1285027200   -1.0\n",
      "1     1285048800   -1.0\n",
      "2     1285070400   -1.0\n",
      "3     1285092000   -1.0\n",
      "4     1285113600   -1.0\n",
      "...          ...    ...\n",
      "8289  1464069600   -1.0\n",
      "8290  1464091200   -1.0\n",
      "8291  1464112800   -1.0\n",
      "8292  1464134400   -1.0\n",
      "8293  1464156000   -1.0\n",
      "\n",
      "[8294 rows x 2 columns]\n",
      "TIMESEGMENT:  (2880, 2) 21600 timestamp mean\n",
      "(2880, 1) (2880,) [1222819200 1222840800 1222862400 1222884000 1222905600 1222927200\n",
      " 1222948800 1222970400 1222992000 1223013600]\n",
      "X shape:  (2880, 1)\n",
      "index shape:  (2880,)\n",
      "0      2018-01-01 00:00:00\n",
      "1      2018-01-01 01:00:00\n",
      "2      2018-01-01 02:00:00\n",
      "3      2018-01-01 03:00:00\n",
      "4      2018-01-01 04:00:00\n",
      "               ...        \n",
      "2875   2018-04-30 19:00:00\n",
      "2876   2018-04-30 20:00:00\n",
      "2877   2018-04-30 21:00:00\n",
      "2878   2018-04-30 22:00:00\n",
      "2879   2018-04-30 23:00:00\n",
      "Name: ds, Length: 2880, dtype: datetime64[ns]\n"
     ]
    },
    {
     "name": "stderr",
     "output_type": "stream",
     "text": [
      "/usr/local/lib/python3.7/site-packages/fbprophet/forecaster.py:400: FutureWarning: The pandas.datetime class is deprecated and will be removed from pandas in a future version. Import from datetime module instead.\n",
      "  (dates - pd.datetime(1970, 1, 1))\n",
      "/usr/local/lib/python3.7/site-packages/fbprophet/forecaster.py:400: FutureWarning: The pandas.datetime class is deprecated and will be removed from pandas in a future version. Import from datetime module instead.\n",
      "  (dates - pd.datetime(1970, 1, 1))\n",
      "/usr/local/lib/python3.7/site-packages/fbprophet/forecaster.py:400: FutureWarning: The pandas.datetime class is deprecated and will be removed from pandas in a future version. Import from datetime module instead.\n",
      "  (dates - pd.datetime(1970, 1, 1))\n"
     ]
    },
    {
     "name": "stdout",
     "output_type": "stream",
     "text": [
      "(2880, 1) (2880, 1)\n",
      "-0.21105769251966056\n",
      "TIMESEGMENT:  (8294, 2) 21600 timestamp mean\n"
     ]
    },
    {
     "name": "stderr",
     "output_type": "stream",
     "text": [
      "/usr/local/lib/python3.7/site-packages/fbprophet/forecaster.py:400: FutureWarning: The pandas.datetime class is deprecated and will be removed from pandas in a future version. Import from datetime module instead.\n",
      "  (dates - pd.datetime(1970, 1, 1))\n",
      "/usr/local/lib/python3.7/site-packages/fbprophet/forecaster.py:400: FutureWarning: The pandas.datetime class is deprecated and will be removed from pandas in a future version. Import from datetime module instead.\n",
      "  (dates - pd.datetime(1970, 1, 1))\n"
     ]
    },
    {
     "name": "stdout",
     "output_type": "stream",
     "text": [
      "(8294, 1) (8294, 1)\n",
      "-0.3146492148945692\n"
     ]
    },
    {
     "name": "stderr",
     "output_type": "stream",
     "text": [
      "WARNING:orion.benchmark:Scoring pipeline prophet on signal E-6 (test split: True)\n"
     ]
    },
    {
     "name": "stdout",
     "output_type": "stream",
     "text": [
      "TRAIN:         timestamp  value\n",
      "0     1222819200   0.99\n",
      "1     1222840800   0.99\n",
      "2     1222862400   0.99\n",
      "3     1222884000   0.99\n",
      "4     1222905600   0.99\n",
      "...          ...    ...\n",
      "2875  1284919200   0.99\n",
      "2876  1284940800   0.99\n",
      "2877  1284962400   0.99\n",
      "2878  1284984000   0.99\n",
      "2879  1285005600   0.99\n",
      "\n",
      "[2880 rows x 2 columns]\n",
      "TEST:         timestamp     value\n",
      "0     1285027200  0.991968\n",
      "1     1285048800  0.991968\n",
      "2     1285070400  0.991968\n",
      "3     1285092000  0.991968\n",
      "4     1285113600  0.991968\n",
      "...          ...       ...\n",
      "8295  1464199200  0.991968\n",
      "8296  1464220800  0.991968\n",
      "8297  1464242400  0.991968\n",
      "8298  1464264000  0.991968\n",
      "8299  1464285600  0.991968\n",
      "\n",
      "[8300 rows x 2 columns]\n",
      "TIMESEGMENT:  (2880, 2) 21600 timestamp mean\n",
      "(2880, 1) (2880,) [1222819200 1222840800 1222862400 1222884000 1222905600 1222927200\n",
      " 1222948800 1222970400 1222992000 1223013600]\n",
      "X shape:  (2880, 1)\n",
      "index shape:  (2880,)\n",
      "0      2018-01-01 00:00:00\n",
      "1      2018-01-01 01:00:00\n",
      "2      2018-01-01 02:00:00\n",
      "3      2018-01-01 03:00:00\n",
      "4      2018-01-01 04:00:00\n",
      "               ...        \n",
      "2875   2018-04-30 19:00:00\n",
      "2876   2018-04-30 20:00:00\n",
      "2877   2018-04-30 21:00:00\n",
      "2878   2018-04-30 22:00:00\n",
      "2879   2018-04-30 23:00:00\n",
      "Name: ds, Length: 2880, dtype: datetime64[ns]\n"
     ]
    },
    {
     "name": "stderr",
     "output_type": "stream",
     "text": [
      "/usr/local/lib/python3.7/site-packages/fbprophet/forecaster.py:400: FutureWarning: The pandas.datetime class is deprecated and will be removed from pandas in a future version. Import from datetime module instead.\n",
      "  (dates - pd.datetime(1970, 1, 1))\n",
      "/usr/local/lib/python3.7/site-packages/fbprophet/forecaster.py:400: FutureWarning: The pandas.datetime class is deprecated and will be removed from pandas in a future version. Import from datetime module instead.\n",
      "  (dates - pd.datetime(1970, 1, 1))\n",
      "/usr/local/lib/python3.7/site-packages/fbprophet/forecaster.py:400: FutureWarning: The pandas.datetime class is deprecated and will be removed from pandas in a future version. Import from datetime module instead.\n",
      "  (dates - pd.datetime(1970, 1, 1))\n"
     ]
    },
    {
     "name": "stdout",
     "output_type": "stream",
     "text": [
      "(2880, 1) (2880, 1)\n",
      "-5.225848094713728\n",
      "TIMESEGMENT:  (8300, 2) 21600 timestamp mean\n"
     ]
    },
    {
     "name": "stderr",
     "output_type": "stream",
     "text": [
      "/usr/local/lib/python3.7/site-packages/fbprophet/forecaster.py:400: FutureWarning: The pandas.datetime class is deprecated and will be removed from pandas in a future version. Import from datetime module instead.\n",
      "  (dates - pd.datetime(1970, 1, 1))\n",
      "/usr/local/lib/python3.7/site-packages/fbprophet/forecaster.py:400: FutureWarning: The pandas.datetime class is deprecated and will be removed from pandas in a future version. Import from datetime module instead.\n",
      "  (dates - pd.datetime(1970, 1, 1))\n"
     ]
    },
    {
     "name": "stdout",
     "output_type": "stream",
     "text": [
      "(8300, 1) (8300, 1)\n",
      "-0.007090331510204662\n"
     ]
    },
    {
     "name": "stderr",
     "output_type": "stream",
     "text": [
      "WARNING:orion.benchmark:Scoring pipeline prophet on signal E-7 (test split: True)\n"
     ]
    },
    {
     "name": "stdout",
     "output_type": "stream",
     "text": [
      "TRAIN:         timestamp     value\n",
      "0     1222819200 -1.000000\n",
      "1     1222840800 -1.000000\n",
      "2     1222862400 -1.000000\n",
      "3     1222884000 -1.000000\n",
      "4     1222905600 -1.000000\n",
      "...          ...       ...\n",
      "2764  1282521600 -0.883042\n",
      "2765  1282543200 -0.982944\n",
      "2766  1282564800 -1.000000\n",
      "2767  1282586400 -1.000000\n",
      "2768  1282608000 -1.000000\n",
      "\n",
      "[2769 rows x 2 columns]\n",
      "TEST:         timestamp     value\n",
      "0     1282629600 -1.000000\n",
      "1     1282651200 -1.000000\n",
      "2     1282672800 -0.928058\n",
      "3     1282694400 -1.000000\n",
      "4     1282716000 -1.000000\n",
      "...          ...       ...\n",
      "8305  1462017600 -1.000000\n",
      "8306  1462039200 -1.000000\n",
      "8307  1462060800 -1.000000\n",
      "8308  1462082400 -1.000000\n",
      "8309  1462104000 -0.928058\n",
      "\n",
      "[8310 rows x 2 columns]\n",
      "TIMESEGMENT:  (2769, 2) 21600 timestamp mean\n",
      "(2769, 1) (2769,) [1222819200 1222840800 1222862400 1222884000 1222905600 1222927200\n",
      " 1222948800 1222970400 1222992000 1223013600]\n",
      "X shape:  (2769, 1)\n",
      "index shape:  (2769,)\n",
      "0      2018-01-01 00:00:00\n",
      "1      2018-01-01 01:00:00\n",
      "2      2018-01-01 02:00:00\n",
      "3      2018-01-01 03:00:00\n",
      "4      2018-01-01 04:00:00\n",
      "               ...        \n",
      "2764   2018-04-26 04:00:00\n",
      "2765   2018-04-26 05:00:00\n",
      "2766   2018-04-26 06:00:00\n",
      "2767   2018-04-26 07:00:00\n",
      "2768   2018-04-26 08:00:00\n",
      "Name: ds, Length: 2769, dtype: datetime64[ns]\n"
     ]
    },
    {
     "name": "stderr",
     "output_type": "stream",
     "text": [
      "/usr/local/lib/python3.7/site-packages/fbprophet/forecaster.py:400: FutureWarning: The pandas.datetime class is deprecated and will be removed from pandas in a future version. Import from datetime module instead.\n",
      "  (dates - pd.datetime(1970, 1, 1))\n",
      "/usr/local/lib/python3.7/site-packages/fbprophet/forecaster.py:400: FutureWarning: The pandas.datetime class is deprecated and will be removed from pandas in a future version. Import from datetime module instead.\n",
      "  (dates - pd.datetime(1970, 1, 1))\n",
      "/usr/local/lib/python3.7/site-packages/fbprophet/forecaster.py:400: FutureWarning: The pandas.datetime class is deprecated and will be removed from pandas in a future version. Import from datetime module instead.\n",
      "  (dates - pd.datetime(1970, 1, 1))\n"
     ]
    },
    {
     "name": "stdout",
     "output_type": "stream",
     "text": [
      "(2769, 1) (2769, 1)\n",
      "-0.5743829985008266\n",
      "TIMESEGMENT:  (8310, 2) 21600 timestamp mean\n"
     ]
    },
    {
     "name": "stderr",
     "output_type": "stream",
     "text": [
      "/usr/local/lib/python3.7/site-packages/fbprophet/forecaster.py:400: FutureWarning: The pandas.datetime class is deprecated and will be removed from pandas in a future version. Import from datetime module instead.\n",
      "  (dates - pd.datetime(1970, 1, 1))\n",
      "/usr/local/lib/python3.7/site-packages/fbprophet/forecaster.py:400: FutureWarning: The pandas.datetime class is deprecated and will be removed from pandas in a future version. Import from datetime module instead.\n",
      "  (dates - pd.datetime(1970, 1, 1))\n"
     ]
    },
    {
     "name": "stdout",
     "output_type": "stream",
     "text": [
      "(8310, 1) (8310, 1)\n",
      "-0.1539606466942831\n"
     ]
    },
    {
     "name": "stderr",
     "output_type": "stream",
     "text": [
      "WARNING:orion.benchmark:Scoring pipeline prophet on signal E-8 (test split: True)\n"
     ]
    },
    {
     "name": "stdout",
     "output_type": "stream",
     "text": [
      "TRAIN:         timestamp     value\n",
      "0     1222819200 -0.878410\n",
      "1     1222840800 -0.878410\n",
      "2     1222862400 -0.878410\n",
      "3     1222884000 -0.878410\n",
      "4     1222905600 -0.878410\n",
      "...          ...       ...\n",
      "2875  1284919200  0.541516\n",
      "2876  1284940800  0.656789\n",
      "2877  1284962400  0.656789\n",
      "2878  1284984000  0.656789\n",
      "2879  1285005600  0.656789\n",
      "\n",
      "[2880 rows x 2 columns]\n",
      "TEST:         timestamp     value\n",
      "0     1285027200  0.116892\n",
      "1     1285048800  0.063220\n",
      "2     1285070400  0.063220\n",
      "3     1285092000  0.009339\n",
      "4     1285113600 -0.044755\n",
      "...          ...       ...\n",
      "8527  1469210400 -0.318524\n",
      "8528  1469232000 -0.318524\n",
      "8529  1469253600 -0.373959\n",
      "8530  1469275200 -0.373959\n",
      "8531  1469296800 -0.373959\n",
      "\n",
      "[8532 rows x 2 columns]\n",
      "TIMESEGMENT:  (2880, 2) 21600 timestamp mean\n",
      "(2880, 1) (2880,) [1222819200 1222840800 1222862400 1222884000 1222905600 1222927200\n",
      " 1222948800 1222970400 1222992000 1223013600]\n",
      "X shape:  (2880, 1)\n",
      "index shape:  (2880,)\n",
      "0      2018-01-01 00:00:00\n",
      "1      2018-01-01 01:00:00\n",
      "2      2018-01-01 02:00:00\n",
      "3      2018-01-01 03:00:00\n",
      "4      2018-01-01 04:00:00\n",
      "               ...        \n",
      "2875   2018-04-30 19:00:00\n",
      "2876   2018-04-30 20:00:00\n",
      "2877   2018-04-30 21:00:00\n",
      "2878   2018-04-30 22:00:00\n",
      "2879   2018-04-30 23:00:00\n",
      "Name: ds, Length: 2880, dtype: datetime64[ns]\n"
     ]
    },
    {
     "name": "stderr",
     "output_type": "stream",
     "text": [
      "/usr/local/lib/python3.7/site-packages/fbprophet/forecaster.py:400: FutureWarning: The pandas.datetime class is deprecated and will be removed from pandas in a future version. Import from datetime module instead.\n",
      "  (dates - pd.datetime(1970, 1, 1))\n",
      "/usr/local/lib/python3.7/site-packages/fbprophet/forecaster.py:400: FutureWarning: The pandas.datetime class is deprecated and will be removed from pandas in a future version. Import from datetime module instead.\n",
      "  (dates - pd.datetime(1970, 1, 1))\n",
      "/usr/local/lib/python3.7/site-packages/fbprophet/forecaster.py:400: FutureWarning: The pandas.datetime class is deprecated and will be removed from pandas in a future version. Import from datetime module instead.\n",
      "  (dates - pd.datetime(1970, 1, 1))\n"
     ]
    },
    {
     "name": "stdout",
     "output_type": "stream",
     "text": [
      "(2880, 1) (2880, 1)\n",
      "-11.787850296228926\n",
      "TIMESEGMENT:  (8532, 2) 21600 timestamp mean\n"
     ]
    },
    {
     "name": "stderr",
     "output_type": "stream",
     "text": [
      "/usr/local/lib/python3.7/site-packages/fbprophet/forecaster.py:400: FutureWarning: The pandas.datetime class is deprecated and will be removed from pandas in a future version. Import from datetime module instead.\n",
      "  (dates - pd.datetime(1970, 1, 1))\n",
      "/usr/local/lib/python3.7/site-packages/fbprophet/forecaster.py:400: FutureWarning: The pandas.datetime class is deprecated and will be removed from pandas in a future version. Import from datetime module instead.\n",
      "  (dates - pd.datetime(1970, 1, 1))\n"
     ]
    },
    {
     "name": "stdout",
     "output_type": "stream",
     "text": [
      "(8532, 1) (8532, 1)\n",
      "-116.38385752587497\n"
     ]
    },
    {
     "name": "stderr",
     "output_type": "stream",
     "text": [
      "WARNING:orion.benchmark:Scoring pipeline prophet on signal E-9 (test split: True)\n"
     ]
    },
    {
     "name": "stdout",
     "output_type": "stream",
     "text": [
      "TRAIN:         timestamp     value\n",
      "0     1222819200 -0.796161\n",
      "1     1222840800 -1.000000\n",
      "2     1222862400 -1.000000\n",
      "3     1222884000 -1.000000\n",
      "4     1222905600 -1.000000\n",
      "...          ...       ...\n",
      "2875  1284919200  0.408709\n",
      "2876  1284940800  0.408709\n",
      "2877  1284962400  0.606604\n",
      "2878  1284984000  0.606604\n",
      "2879  1285005600  0.606604\n",
      "\n",
      "[2880 rows x 2 columns]\n",
      "TEST:         timestamp     value\n",
      "0     1285027200  0.099890\n",
      "1     1285048800  0.099890\n",
      "2     1285070400  0.099890\n",
      "3     1285092000  0.099890\n",
      "4     1285113600  0.099890\n",
      "...          ...       ...\n",
      "8297  1464242400 -0.186471\n",
      "8298  1464264000 -0.186471\n",
      "8299  1464285600 -0.186471\n",
      "8300  1464307200 -0.186471\n",
      "8301  1464328800 -0.186471\n",
      "\n",
      "[8302 rows x 2 columns]\n",
      "TIMESEGMENT:  (2880, 2) 21600 timestamp mean\n",
      "(2880, 1) (2880,) [1222819200 1222840800 1222862400 1222884000 1222905600 1222927200\n",
      " 1222948800 1222970400 1222992000 1223013600]\n",
      "X shape:  (2880, 1)\n",
      "index shape:  (2880,)\n",
      "0      2018-01-01 00:00:00\n",
      "1      2018-01-01 01:00:00\n",
      "2      2018-01-01 02:00:00\n",
      "3      2018-01-01 03:00:00\n",
      "4      2018-01-01 04:00:00\n",
      "               ...        \n",
      "2875   2018-04-30 19:00:00\n",
      "2876   2018-04-30 20:00:00\n",
      "2877   2018-04-30 21:00:00\n",
      "2878   2018-04-30 22:00:00\n",
      "2879   2018-04-30 23:00:00\n",
      "Name: ds, Length: 2880, dtype: datetime64[ns]\n"
     ]
    },
    {
     "name": "stderr",
     "output_type": "stream",
     "text": [
      "/usr/local/lib/python3.7/site-packages/fbprophet/forecaster.py:400: FutureWarning: The pandas.datetime class is deprecated and will be removed from pandas in a future version. Import from datetime module instead.\n",
      "  (dates - pd.datetime(1970, 1, 1))\n",
      "/usr/local/lib/python3.7/site-packages/fbprophet/forecaster.py:400: FutureWarning: The pandas.datetime class is deprecated and will be removed from pandas in a future version. Import from datetime module instead.\n",
      "  (dates - pd.datetime(1970, 1, 1))\n",
      "/usr/local/lib/python3.7/site-packages/fbprophet/forecaster.py:400: FutureWarning: The pandas.datetime class is deprecated and will be removed from pandas in a future version. Import from datetime module instead.\n",
      "  (dates - pd.datetime(1970, 1, 1))\n"
     ]
    },
    {
     "name": "stdout",
     "output_type": "stream",
     "text": [
      "(2880, 1) (2880, 1)\n",
      "-7.921557539030671\n",
      "TIMESEGMENT:  (8302, 2) 21600 timestamp mean\n"
     ]
    },
    {
     "name": "stderr",
     "output_type": "stream",
     "text": [
      "/usr/local/lib/python3.7/site-packages/fbprophet/forecaster.py:400: FutureWarning: The pandas.datetime class is deprecated and will be removed from pandas in a future version. Import from datetime module instead.\n",
      "  (dates - pd.datetime(1970, 1, 1))\n",
      "/usr/local/lib/python3.7/site-packages/fbprophet/forecaster.py:400: FutureWarning: The pandas.datetime class is deprecated and will be removed from pandas in a future version. Import from datetime module instead.\n",
      "  (dates - pd.datetime(1970, 1, 1))\n"
     ]
    },
    {
     "name": "stdout",
     "output_type": "stream",
     "text": [
      "(8302, 1) (8302, 1)\n",
      "-143.2209166970881\n"
     ]
    },
    {
     "name": "stderr",
     "output_type": "stream",
     "text": [
      "WARNING:orion.benchmark:Scoring pipeline prophet on signal E-10 (test split: True)\n"
     ]
    },
    {
     "name": "stdout",
     "output_type": "stream",
     "text": [
      "TRAIN:         timestamp     value\n",
      "0     1222819200 -1.000000\n",
      "1     1222840800 -1.000000\n",
      "2     1222862400 -1.000000\n",
      "3     1222884000 -1.000000\n",
      "4     1222905600 -1.000000\n",
      "...          ...       ...\n",
      "2875  1284919200  0.991342\n",
      "2876  1284940800  1.000000\n",
      "2877  1284962400  1.000000\n",
      "2878  1284984000 -1.000000\n",
      "2879  1285005600 -1.000000\n",
      "\n",
      "[2880 rows x 2 columns]\n",
      "TEST:         timestamp  value\n",
      "0     1285027200   -1.0\n",
      "1     1285048800   -1.0\n",
      "2     1285070400   -1.0\n",
      "3     1285092000   -1.0\n",
      "4     1285113600   -1.0\n",
      "...          ...    ...\n",
      "8500  1468627200   -1.0\n",
      "8501  1468648800   -1.0\n",
      "8502  1468670400   -1.0\n",
      "8503  1468692000   -1.0\n",
      "8504  1468713600   -1.0\n",
      "\n",
      "[8505 rows x 2 columns]\n",
      "TIMESEGMENT:  (2880, 2) 21600 timestamp mean\n",
      "(2880, 1) (2880,) [1222819200 1222840800 1222862400 1222884000 1222905600 1222927200\n",
      " 1222948800 1222970400 1222992000 1223013600]\n",
      "X shape:  (2880, 1)\n",
      "index shape:  (2880,)\n",
      "0      2018-01-01 00:00:00\n",
      "1      2018-01-01 01:00:00\n",
      "2      2018-01-01 02:00:00\n",
      "3      2018-01-01 03:00:00\n",
      "4      2018-01-01 04:00:00\n",
      "               ...        \n",
      "2875   2018-04-30 19:00:00\n",
      "2876   2018-04-30 20:00:00\n",
      "2877   2018-04-30 21:00:00\n",
      "2878   2018-04-30 22:00:00\n",
      "2879   2018-04-30 23:00:00\n",
      "Name: ds, Length: 2880, dtype: datetime64[ns]\n"
     ]
    },
    {
     "name": "stderr",
     "output_type": "stream",
     "text": [
      "/usr/local/lib/python3.7/site-packages/fbprophet/forecaster.py:400: FutureWarning: The pandas.datetime class is deprecated and will be removed from pandas in a future version. Import from datetime module instead.\n",
      "  (dates - pd.datetime(1970, 1, 1))\n",
      "/usr/local/lib/python3.7/site-packages/fbprophet/forecaster.py:400: FutureWarning: The pandas.datetime class is deprecated and will be removed from pandas in a future version. Import from datetime module instead.\n",
      "  (dates - pd.datetime(1970, 1, 1))\n",
      "/usr/local/lib/python3.7/site-packages/fbprophet/forecaster.py:400: FutureWarning: The pandas.datetime class is deprecated and will be removed from pandas in a future version. Import from datetime module instead.\n",
      "  (dates - pd.datetime(1970, 1, 1))\n"
     ]
    },
    {
     "name": "stdout",
     "output_type": "stream",
     "text": [
      "(2880, 1) (2880, 1)\n",
      "-0.20792435576831192\n",
      "TIMESEGMENT:  (8505, 2) 21600 timestamp mean\n"
     ]
    },
    {
     "name": "stderr",
     "output_type": "stream",
     "text": [
      "/usr/local/lib/python3.7/site-packages/fbprophet/forecaster.py:400: FutureWarning: The pandas.datetime class is deprecated and will be removed from pandas in a future version. Import from datetime module instead.\n",
      "  (dates - pd.datetime(1970, 1, 1))\n",
      "/usr/local/lib/python3.7/site-packages/fbprophet/forecaster.py:400: FutureWarning: The pandas.datetime class is deprecated and will be removed from pandas in a future version. Import from datetime module instead.\n",
      "  (dates - pd.datetime(1970, 1, 1))\n"
     ]
    },
    {
     "name": "stdout",
     "output_type": "stream",
     "text": [
      "(8505, 1) (8505, 1)\n",
      "-0.27754801759362535\n"
     ]
    },
    {
     "name": "stderr",
     "output_type": "stream",
     "text": [
      "WARNING:orion.benchmark:Scoring pipeline prophet on signal E-11 (test split: True)\n"
     ]
    },
    {
     "name": "stdout",
     "output_type": "stream",
     "text": [
      "TRAIN:         timestamp  value\n",
      "0     1222819200   -1.0\n",
      "1     1222840800   -1.0\n",
      "2     1222862400   -1.0\n",
      "3     1222884000   -1.0\n",
      "4     1222905600   -1.0\n",
      "...          ...    ...\n",
      "2875  1284919200    1.0\n",
      "2876  1284940800    1.0\n",
      "2877  1284962400    1.0\n",
      "2878  1284984000   -1.0\n",
      "2879  1285005600   -1.0\n",
      "\n",
      "[2880 rows x 2 columns]\n",
      "TEST:         timestamp  value\n",
      "0     1285027200   -1.0\n",
      "1     1285048800   -1.0\n",
      "2     1285070400   -1.0\n",
      "3     1285092000   -1.0\n",
      "4     1285113600   -1.0\n",
      "...          ...    ...\n",
      "8509  1468821600   -1.0\n",
      "8510  1468843200   -1.0\n",
      "8511  1468864800   -1.0\n",
      "8512  1468886400   -1.0\n",
      "8513  1468908000   -1.0\n",
      "\n",
      "[8514 rows x 2 columns]\n",
      "TIMESEGMENT:  (2880, 2) 21600 timestamp mean\n",
      "(2880, 1) (2880,) [1222819200 1222840800 1222862400 1222884000 1222905600 1222927200\n",
      " 1222948800 1222970400 1222992000 1223013600]\n",
      "X shape:  (2880, 1)\n",
      "index shape:  (2880,)\n",
      "0      2018-01-01 00:00:00\n",
      "1      2018-01-01 01:00:00\n",
      "2      2018-01-01 02:00:00\n",
      "3      2018-01-01 03:00:00\n",
      "4      2018-01-01 04:00:00\n",
      "               ...        \n",
      "2875   2018-04-30 19:00:00\n",
      "2876   2018-04-30 20:00:00\n",
      "2877   2018-04-30 21:00:00\n",
      "2878   2018-04-30 22:00:00\n",
      "2879   2018-04-30 23:00:00\n",
      "Name: ds, Length: 2880, dtype: datetime64[ns]\n"
     ]
    },
    {
     "name": "stderr",
     "output_type": "stream",
     "text": [
      "/usr/local/lib/python3.7/site-packages/fbprophet/forecaster.py:400: FutureWarning: The pandas.datetime class is deprecated and will be removed from pandas in a future version. Import from datetime module instead.\n",
      "  (dates - pd.datetime(1970, 1, 1))\n",
      "/usr/local/lib/python3.7/site-packages/fbprophet/forecaster.py:400: FutureWarning: The pandas.datetime class is deprecated and will be removed from pandas in a future version. Import from datetime module instead.\n",
      "  (dates - pd.datetime(1970, 1, 1))\n",
      "/usr/local/lib/python3.7/site-packages/fbprophet/forecaster.py:400: FutureWarning: The pandas.datetime class is deprecated and will be removed from pandas in a future version. Import from datetime module instead.\n",
      "  (dates - pd.datetime(1970, 1, 1))\n"
     ]
    },
    {
     "name": "stdout",
     "output_type": "stream",
     "text": [
      "(2880, 1) (2880, 1)\n",
      "-0.2100968101732812\n",
      "TIMESEGMENT:  (8514, 2) 21600 timestamp mean\n"
     ]
    },
    {
     "name": "stderr",
     "output_type": "stream",
     "text": [
      "/usr/local/lib/python3.7/site-packages/fbprophet/forecaster.py:400: FutureWarning: The pandas.datetime class is deprecated and will be removed from pandas in a future version. Import from datetime module instead.\n",
      "  (dates - pd.datetime(1970, 1, 1))\n",
      "/usr/local/lib/python3.7/site-packages/fbprophet/forecaster.py:400: FutureWarning: The pandas.datetime class is deprecated and will be removed from pandas in a future version. Import from datetime module instead.\n",
      "  (dates - pd.datetime(1970, 1, 1))\n"
     ]
    },
    {
     "name": "stdout",
     "output_type": "stream",
     "text": [
      "(8514, 1) (8514, 1)\n",
      "-0.29056689180460915\n"
     ]
    },
    {
     "name": "stderr",
     "output_type": "stream",
     "text": [
      "WARNING:orion.benchmark:Scoring pipeline prophet on signal E-12 (test split: True)\n"
     ]
    },
    {
     "name": "stdout",
     "output_type": "stream",
     "text": [
      "TRAIN:         timestamp  value\n",
      "0     1222819200   -1.0\n",
      "1     1222840800   -1.0\n",
      "2     1222862400   -1.0\n",
      "3     1222884000   -1.0\n",
      "4     1222905600   -1.0\n",
      "...          ...    ...\n",
      "2875  1284919200    1.0\n",
      "2876  1284940800    1.0\n",
      "2877  1284962400    1.0\n",
      "2878  1284984000   -1.0\n",
      "2879  1285005600   -1.0\n",
      "\n",
      "[2880 rows x 2 columns]\n",
      "TEST:         timestamp  value\n",
      "0     1285027200   -1.0\n",
      "1     1285048800   -1.0\n",
      "2     1285070400   -1.0\n",
      "3     1285092000   -1.0\n",
      "4     1285113600   -1.0\n",
      "...          ...    ...\n",
      "8507  1468778400   -1.0\n",
      "8508  1468800000   -1.0\n",
      "8509  1468821600   -1.0\n",
      "8510  1468843200   -1.0\n",
      "8511  1468864800   -1.0\n",
      "\n",
      "[8512 rows x 2 columns]\n",
      "TIMESEGMENT:  (2880, 2) 21600 timestamp mean\n",
      "(2880, 1) (2880,) [1222819200 1222840800 1222862400 1222884000 1222905600 1222927200\n",
      " 1222948800 1222970400 1222992000 1223013600]\n",
      "X shape:  (2880, 1)\n",
      "index shape:  (2880,)\n",
      "0      2018-01-01 00:00:00\n",
      "1      2018-01-01 01:00:00\n",
      "2      2018-01-01 02:00:00\n",
      "3      2018-01-01 03:00:00\n",
      "4      2018-01-01 04:00:00\n",
      "               ...        \n",
      "2875   2018-04-30 19:00:00\n",
      "2876   2018-04-30 20:00:00\n",
      "2877   2018-04-30 21:00:00\n",
      "2878   2018-04-30 22:00:00\n",
      "2879   2018-04-30 23:00:00\n",
      "Name: ds, Length: 2880, dtype: datetime64[ns]\n"
     ]
    },
    {
     "name": "stderr",
     "output_type": "stream",
     "text": [
      "/usr/local/lib/python3.7/site-packages/fbprophet/forecaster.py:400: FutureWarning: The pandas.datetime class is deprecated and will be removed from pandas in a future version. Import from datetime module instead.\n",
      "  (dates - pd.datetime(1970, 1, 1))\n",
      "/usr/local/lib/python3.7/site-packages/fbprophet/forecaster.py:400: FutureWarning: The pandas.datetime class is deprecated and will be removed from pandas in a future version. Import from datetime module instead.\n",
      "  (dates - pd.datetime(1970, 1, 1))\n",
      "/usr/local/lib/python3.7/site-packages/fbprophet/forecaster.py:400: FutureWarning: The pandas.datetime class is deprecated and will be removed from pandas in a future version. Import from datetime module instead.\n",
      "  (dates - pd.datetime(1970, 1, 1))\n"
     ]
    },
    {
     "name": "stdout",
     "output_type": "stream",
     "text": [
      "(2880, 1) (2880, 1)\n",
      "-0.20625506808681826\n",
      "TIMESEGMENT:  (8512, 2) 21600 timestamp mean\n"
     ]
    },
    {
     "name": "stderr",
     "output_type": "stream",
     "text": [
      "/usr/local/lib/python3.7/site-packages/fbprophet/forecaster.py:400: FutureWarning: The pandas.datetime class is deprecated and will be removed from pandas in a future version. Import from datetime module instead.\n",
      "  (dates - pd.datetime(1970, 1, 1))\n",
      "/usr/local/lib/python3.7/site-packages/fbprophet/forecaster.py:400: FutureWarning: The pandas.datetime class is deprecated and will be removed from pandas in a future version. Import from datetime module instead.\n",
      "  (dates - pd.datetime(1970, 1, 1))\n"
     ]
    },
    {
     "name": "stdout",
     "output_type": "stream",
     "text": [
      "(8512, 1) (8512, 1)\n",
      "-0.24716554831537674\n"
     ]
    },
    {
     "name": "stderr",
     "output_type": "stream",
     "text": [
      "WARNING:orion.benchmark:Scoring pipeline prophet on signal E-13 (test split: True)\n"
     ]
    },
    {
     "name": "stdout",
     "output_type": "stream",
     "text": [
      "TRAIN:         timestamp     value\n",
      "0     1222819200  0.825732\n",
      "1     1222840800  0.819322\n",
      "2     1222862400  0.879593\n",
      "3     1222884000  0.889559\n",
      "4     1222905600  0.885589\n",
      "...          ...       ...\n",
      "2875  1284919200 -0.412767\n",
      "2876  1284940800 -0.456216\n",
      "2877  1284962400 -0.513446\n",
      "2878  1284984000 -0.561655\n",
      "2879  1285005600 -0.599276\n",
      "\n",
      "[2880 rows x 2 columns]\n",
      "TEST:         timestamp     value\n",
      "0     1285027200 -0.615252\n",
      "1     1285048800 -0.654282\n",
      "2     1285070400 -0.589951\n",
      "3     1285092000 -0.602530\n",
      "4     1285113600 -0.641126\n",
      "...          ...       ...\n",
      "8635  1471543200  0.372639\n",
      "8636  1471564800 -0.602530\n",
      "8637  1471586400 -0.750557\n",
      "8638  1471608000  0.785271\n",
      "8639  1471629600  0.798153\n",
      "\n",
      "[8640 rows x 2 columns]\n",
      "TIMESEGMENT:  (2880, 2) 21600 timestamp mean\n",
      "(2880, 1) (2880,) [1222819200 1222840800 1222862400 1222884000 1222905600 1222927200\n",
      " 1222948800 1222970400 1222992000 1223013600]\n",
      "X shape:  (2880, 1)\n",
      "index shape:  (2880,)\n",
      "0      2018-01-01 00:00:00\n",
      "1      2018-01-01 01:00:00\n",
      "2      2018-01-01 02:00:00\n",
      "3      2018-01-01 03:00:00\n",
      "4      2018-01-01 04:00:00\n",
      "               ...        \n",
      "2875   2018-04-30 19:00:00\n",
      "2876   2018-04-30 20:00:00\n",
      "2877   2018-04-30 21:00:00\n",
      "2878   2018-04-30 22:00:00\n",
      "2879   2018-04-30 23:00:00\n",
      "Name: ds, Length: 2880, dtype: datetime64[ns]\n"
     ]
    },
    {
     "name": "stderr",
     "output_type": "stream",
     "text": [
      "/usr/local/lib/python3.7/site-packages/fbprophet/forecaster.py:400: FutureWarning: The pandas.datetime class is deprecated and will be removed from pandas in a future version. Import from datetime module instead.\n",
      "  (dates - pd.datetime(1970, 1, 1))\n",
      "/usr/local/lib/python3.7/site-packages/fbprophet/forecaster.py:400: FutureWarning: The pandas.datetime class is deprecated and will be removed from pandas in a future version. Import from datetime module instead.\n",
      "  (dates - pd.datetime(1970, 1, 1))\n",
      "/usr/local/lib/python3.7/site-packages/fbprophet/forecaster.py:400: FutureWarning: The pandas.datetime class is deprecated and will be removed from pandas in a future version. Import from datetime module instead.\n",
      "  (dates - pd.datetime(1970, 1, 1))\n"
     ]
    },
    {
     "name": "stdout",
     "output_type": "stream",
     "text": [
      "(2880, 1) (2880, 1)\n",
      "-2.440409701317975\n",
      "TIMESEGMENT:  (8640, 2) 21600 timestamp mean\n"
     ]
    },
    {
     "name": "stderr",
     "output_type": "stream",
     "text": [
      "/usr/local/lib/python3.7/site-packages/fbprophet/forecaster.py:400: FutureWarning: The pandas.datetime class is deprecated and will be removed from pandas in a future version. Import from datetime module instead.\n",
      "  (dates - pd.datetime(1970, 1, 1))\n",
      "/usr/local/lib/python3.7/site-packages/fbprophet/forecaster.py:400: FutureWarning: The pandas.datetime class is deprecated and will be removed from pandas in a future version. Import from datetime module instead.\n",
      "  (dates - pd.datetime(1970, 1, 1))\n"
     ]
    },
    {
     "name": "stdout",
     "output_type": "stream",
     "text": [
      "(8640, 1) (8640, 1)\n",
      "-19.419385345113763\n"
     ]
    },
    {
     "name": "stderr",
     "output_type": "stream",
     "text": [
      "WARNING:orion.benchmark:Scoring pipeline prophet on signal A-1 (test split: True)\n"
     ]
    },
    {
     "name": "stdout",
     "output_type": "stream",
     "text": [
      "TRAIN:         timestamp  value\n",
      "0     1222819200  0.999\n",
      "1     1222840800  0.999\n",
      "2     1222862400  0.999\n",
      "3     1222884000  0.999\n",
      "4     1222905600  0.999\n",
      "...          ...    ...\n",
      "2875  1284919200  0.999\n",
      "2876  1284940800  0.999\n",
      "2877  1284962400  0.999\n",
      "2878  1284984000  0.999\n",
      "2879  1285005600  0.999\n",
      "\n",
      "[2880 rows x 2 columns]\n",
      "TEST:         timestamp  value\n",
      "0     1285027200    1.0\n",
      "1     1285048800    1.0\n",
      "2     1285070400    1.0\n",
      "3     1285092000    1.0\n",
      "4     1285113600    1.0\n",
      "...          ...    ...\n",
      "8635  1471543200    1.0\n",
      "8636  1471564800    1.0\n",
      "8637  1471586400    1.0\n",
      "8638  1471608000    1.0\n",
      "8639  1471629600    1.0\n",
      "\n",
      "[8640 rows x 2 columns]\n",
      "TIMESEGMENT:  (2880, 2) 21600 timestamp mean\n",
      "(2880, 1) (2880,) [1222819200 1222840800 1222862400 1222884000 1222905600 1222927200\n",
      " 1222948800 1222970400 1222992000 1223013600]\n",
      "X shape:  (2880, 1)\n",
      "index shape:  (2880,)\n",
      "0      2018-01-01 00:00:00\n",
      "1      2018-01-01 01:00:00\n",
      "2      2018-01-01 02:00:00\n",
      "3      2018-01-01 03:00:00\n",
      "4      2018-01-01 04:00:00\n",
      "               ...        \n",
      "2875   2018-04-30 19:00:00\n",
      "2876   2018-04-30 20:00:00\n",
      "2877   2018-04-30 21:00:00\n",
      "2878   2018-04-30 22:00:00\n",
      "2879   2018-04-30 23:00:00\n",
      "Name: ds, Length: 2880, dtype: datetime64[ns]\n"
     ]
    },
    {
     "name": "stderr",
     "output_type": "stream",
     "text": [
      "/usr/local/lib/python3.7/site-packages/fbprophet/forecaster.py:400: FutureWarning: The pandas.datetime class is deprecated and will be removed from pandas in a future version. Import from datetime module instead.\n",
      "  (dates - pd.datetime(1970, 1, 1))\n",
      "/usr/local/lib/python3.7/site-packages/fbprophet/forecaster.py:400: FutureWarning: The pandas.datetime class is deprecated and will be removed from pandas in a future version. Import from datetime module instead.\n",
      "  (dates - pd.datetime(1970, 1, 1))\n",
      "/usr/local/lib/python3.7/site-packages/fbprophet/forecaster.py:400: FutureWarning: The pandas.datetime class is deprecated and will be removed from pandas in a future version. Import from datetime module instead.\n",
      "  (dates - pd.datetime(1970, 1, 1))\n"
     ]
    },
    {
     "name": "stdout",
     "output_type": "stream",
     "text": [
      "(2880, 1) (2880, 1)\n",
      "1.0\n",
      "TIMESEGMENT:  (8640, 2) 21600 timestamp mean\n"
     ]
    },
    {
     "name": "stderr",
     "output_type": "stream",
     "text": [
      "/usr/local/lib/python3.7/site-packages/fbprophet/forecaster.py:400: FutureWarning: The pandas.datetime class is deprecated and will be removed from pandas in a future version. Import from datetime module instead.\n",
      "  (dates - pd.datetime(1970, 1, 1))\n",
      "/usr/local/lib/python3.7/site-packages/fbprophet/forecaster.py:400: FutureWarning: The pandas.datetime class is deprecated and will be removed from pandas in a future version. Import from datetime module instead.\n",
      "  (dates - pd.datetime(1970, 1, 1))\n"
     ]
    },
    {
     "name": "stdout",
     "output_type": "stream",
     "text": [
      "(8640, 1) (8640, 1)\n",
      "-0.0012758884130112946\n"
     ]
    },
    {
     "name": "stderr",
     "output_type": "stream",
     "text": [
      "WARNING:orion.benchmark:Scoring pipeline prophet on signal D-1 (test split: True)\n"
     ]
    },
    {
     "name": "stdout",
     "output_type": "stream",
     "text": [
      "TRAIN:         timestamp     value\n",
      "0     1222819200 -0.736875\n",
      "1     1222840800 -0.736875\n",
      "2     1222862400 -0.736875\n",
      "3     1222884000 -0.684250\n",
      "4     1222905600 -0.684250\n",
      "...          ...       ...\n",
      "2844  1284249600 -0.684250\n",
      "2845  1284271200 -0.684250\n",
      "2846  1284292800 -0.684250\n",
      "2847  1284314400 -0.684250\n",
      "2848  1284336000 -0.736875\n",
      "\n",
      "[2849 rows x 2 columns]\n",
      "TEST:         timestamp     value\n",
      "0     1284357600 -0.684211\n",
      "1     1284379200 -0.684211\n",
      "2     1284400800 -0.684211\n",
      "3     1284422400 -0.684211\n",
      "4     1284444000 -0.684211\n",
      "...          ...       ...\n",
      "8504  1468044000  0.578947\n",
      "8505  1468065600  0.578947\n",
      "8506  1468087200  0.578947\n",
      "8507  1468108800  0.578947\n",
      "8508  1468130400  0.578947\n",
      "\n",
      "[8509 rows x 2 columns]\n",
      "TIMESEGMENT:  (2849, 2) 21600 timestamp mean\n",
      "(2849, 1) (2849,) [1222819200 1222840800 1222862400 1222884000 1222905600 1222927200\n",
      " 1222948800 1222970400 1222992000 1223013600]\n",
      "X shape:  (2849, 1)\n",
      "index shape:  (2849,)\n",
      "0      2018-01-01 00:00:00\n",
      "1      2018-01-01 01:00:00\n",
      "2      2018-01-01 02:00:00\n",
      "3      2018-01-01 03:00:00\n",
      "4      2018-01-01 04:00:00\n",
      "               ...        \n",
      "2844   2018-04-29 12:00:00\n",
      "2845   2018-04-29 13:00:00\n",
      "2846   2018-04-29 14:00:00\n",
      "2847   2018-04-29 15:00:00\n",
      "2848   2018-04-29 16:00:00\n",
      "Name: ds, Length: 2849, dtype: datetime64[ns]\n"
     ]
    },
    {
     "name": "stderr",
     "output_type": "stream",
     "text": [
      "/usr/local/lib/python3.7/site-packages/fbprophet/forecaster.py:400: FutureWarning: The pandas.datetime class is deprecated and will be removed from pandas in a future version. Import from datetime module instead.\n",
      "  (dates - pd.datetime(1970, 1, 1))\n",
      "/usr/local/lib/python3.7/site-packages/fbprophet/forecaster.py:400: FutureWarning: The pandas.datetime class is deprecated and will be removed from pandas in a future version. Import from datetime module instead.\n",
      "  (dates - pd.datetime(1970, 1, 1))\n",
      "/usr/local/lib/python3.7/site-packages/fbprophet/forecaster.py:400: FutureWarning: The pandas.datetime class is deprecated and will be removed from pandas in a future version. Import from datetime module instead.\n",
      "  (dates - pd.datetime(1970, 1, 1))\n"
     ]
    },
    {
     "name": "stdout",
     "output_type": "stream",
     "text": [
      "(2849, 1) (2849, 1)\n",
      "-0.34810747234574313\n",
      "TIMESEGMENT:  (8509, 2) 21600 timestamp mean\n"
     ]
    },
    {
     "name": "stderr",
     "output_type": "stream",
     "text": [
      "/usr/local/lib/python3.7/site-packages/fbprophet/forecaster.py:400: FutureWarning: The pandas.datetime class is deprecated and will be removed from pandas in a future version. Import from datetime module instead.\n",
      "  (dates - pd.datetime(1970, 1, 1))\n",
      "/usr/local/lib/python3.7/site-packages/fbprophet/forecaster.py:400: FutureWarning: The pandas.datetime class is deprecated and will be removed from pandas in a future version. Import from datetime module instead.\n",
      "  (dates - pd.datetime(1970, 1, 1))\n"
     ]
    },
    {
     "name": "stdout",
     "output_type": "stream",
     "text": [
      "(8509, 1) (8509, 1)\n",
      "-0.5705387983981847\n"
     ]
    },
    {
     "name": "stderr",
     "output_type": "stream",
     "text": [
      "WARNING:orion.benchmark:Scoring pipeline prophet on signal P-3 (test split: True)\n"
     ]
    },
    {
     "name": "stdout",
     "output_type": "stream",
     "text": [
      "TRAIN:         timestamp     value\n",
      "0     1222819200 -0.388888\n",
      "1     1222840800 -0.499999\n",
      "2     1222862400 -0.388888\n",
      "3     1222884000 -0.388888\n",
      "4     1222905600 -0.388888\n",
      "...          ...       ...\n",
      "2850  1284379200 -0.333333\n",
      "2851  1284400800 -0.388888\n",
      "2852  1284422400 -0.333333\n",
      "2853  1284444000 -0.388888\n",
      "2854  1284465600 -0.388888\n",
      "\n",
      "[2855 rows x 2 columns]\n",
      "TEST:         timestamp     value\n",
      "0     1284487200 -0.225807\n",
      "1     1284508800 -0.152074\n",
      "2     1284530400 -0.152074\n",
      "3     1284552000 -0.161291\n",
      "4     1284573600 -0.152074\n",
      "...          ...       ...\n",
      "8488  1467828000 -0.152074\n",
      "8489  1467849600 -0.152074\n",
      "8490  1467871200 -0.142858\n",
      "8491  1467892800 -0.152074\n",
      "8492  1467914400 -0.152074\n",
      "\n",
      "[8493 rows x 2 columns]\n",
      "TIMESEGMENT:  (2855, 2) 21600 timestamp mean\n",
      "(2855, 1) (2855,) [1222819200 1222840800 1222862400 1222884000 1222905600 1222927200\n",
      " 1222948800 1222970400 1222992000 1223013600]\n",
      "X shape:  (2855, 1)\n",
      "index shape:  (2855,)\n",
      "0      2018-01-01 00:00:00\n",
      "1      2018-01-01 01:00:00\n",
      "2      2018-01-01 02:00:00\n",
      "3      2018-01-01 03:00:00\n",
      "4      2018-01-01 04:00:00\n",
      "               ...        \n",
      "2850   2018-04-29 18:00:00\n",
      "2851   2018-04-29 19:00:00\n",
      "2852   2018-04-29 20:00:00\n",
      "2853   2018-04-29 21:00:00\n",
      "2854   2018-04-29 22:00:00\n",
      "Name: ds, Length: 2855, dtype: datetime64[ns]\n"
     ]
    },
    {
     "name": "stderr",
     "output_type": "stream",
     "text": [
      "/usr/local/lib/python3.7/site-packages/fbprophet/forecaster.py:400: FutureWarning: The pandas.datetime class is deprecated and will be removed from pandas in a future version. Import from datetime module instead.\n",
      "  (dates - pd.datetime(1970, 1, 1))\n",
      "/usr/local/lib/python3.7/site-packages/fbprophet/forecaster.py:400: FutureWarning: The pandas.datetime class is deprecated and will be removed from pandas in a future version. Import from datetime module instead.\n",
      "  (dates - pd.datetime(1970, 1, 1))\n",
      "/usr/local/lib/python3.7/site-packages/fbprophet/forecaster.py:400: FutureWarning: The pandas.datetime class is deprecated and will be removed from pandas in a future version. Import from datetime module instead.\n",
      "  (dates - pd.datetime(1970, 1, 1))\n"
     ]
    },
    {
     "name": "stdout",
     "output_type": "stream",
     "text": [
      "(2855, 1) (2855, 1)\n",
      "-0.6029224762138448\n",
      "TIMESEGMENT:  (8493, 2) 21600 timestamp mean\n"
     ]
    },
    {
     "name": "stderr",
     "output_type": "stream",
     "text": [
      "/usr/local/lib/python3.7/site-packages/fbprophet/forecaster.py:400: FutureWarning: The pandas.datetime class is deprecated and will be removed from pandas in a future version. Import from datetime module instead.\n",
      "  (dates - pd.datetime(1970, 1, 1))\n",
      "/usr/local/lib/python3.7/site-packages/fbprophet/forecaster.py:400: FutureWarning: The pandas.datetime class is deprecated and will be removed from pandas in a future version. Import from datetime module instead.\n",
      "  (dates - pd.datetime(1970, 1, 1))\n"
     ]
    },
    {
     "name": "stdout",
     "output_type": "stream",
     "text": [
      "(8493, 1) (8493, 1)\n",
      "-3.339527593207791\n"
     ]
    },
    {
     "name": "stderr",
     "output_type": "stream",
     "text": [
      "WARNING:orion.benchmark:Scoring pipeline prophet on signal D-2 (test split: True)\n"
     ]
    },
    {
     "name": "stdout",
     "output_type": "stream",
     "text": [
      "TRAIN:         timestamp  value\n",
      "0     1222819200   -1.0\n",
      "1     1222840800   -1.0\n",
      "2     1222862400   -1.0\n",
      "3     1222884000   -1.0\n",
      "4     1222905600   -1.0\n",
      "...          ...    ...\n",
      "2875  1284919200   -1.0\n",
      "2876  1284940800   -1.0\n",
      "2877  1284962400   -1.0\n",
      "2878  1284984000   -1.0\n",
      "2879  1285005600   -1.0\n",
      "\n",
      "[2880 rows x 2 columns]\n",
      "TEST:         timestamp  value\n",
      "0     1285027200   -1.0\n",
      "1     1285048800   -1.0\n",
      "2     1285070400   -1.0\n",
      "3     1285092000   -1.0\n",
      "4     1285113600   -1.0\n",
      "...          ...    ...\n",
      "8590  1470571200   -1.0\n",
      "8591  1470592800   -1.0\n",
      "8592  1470614400   -1.0\n",
      "8593  1470636000   -1.0\n",
      "8594  1470657600   -1.0\n",
      "\n",
      "[8595 rows x 2 columns]\n",
      "TIMESEGMENT:  (2880, 2) 21600 timestamp mean\n",
      "(2880, 1) (2880,) [1222819200 1222840800 1222862400 1222884000 1222905600 1222927200\n",
      " 1222948800 1222970400 1222992000 1223013600]\n",
      "X shape:  (2880, 1)\n",
      "index shape:  (2880,)\n",
      "0      2018-01-01 00:00:00\n",
      "1      2018-01-01 01:00:00\n",
      "2      2018-01-01 02:00:00\n",
      "3      2018-01-01 03:00:00\n",
      "4      2018-01-01 04:00:00\n",
      "               ...        \n",
      "2875   2018-04-30 19:00:00\n",
      "2876   2018-04-30 20:00:00\n",
      "2877   2018-04-30 21:00:00\n",
      "2878   2018-04-30 22:00:00\n",
      "2879   2018-04-30 23:00:00\n",
      "Name: ds, Length: 2880, dtype: datetime64[ns]\n"
     ]
    },
    {
     "name": "stderr",
     "output_type": "stream",
     "text": [
      "/usr/local/lib/python3.7/site-packages/fbprophet/forecaster.py:400: FutureWarning: The pandas.datetime class is deprecated and will be removed from pandas in a future version. Import from datetime module instead.\n",
      "  (dates - pd.datetime(1970, 1, 1))\n",
      "/usr/local/lib/python3.7/site-packages/fbprophet/forecaster.py:400: FutureWarning: The pandas.datetime class is deprecated and will be removed from pandas in a future version. Import from datetime module instead.\n",
      "  (dates - pd.datetime(1970, 1, 1))\n",
      "/usr/local/lib/python3.7/site-packages/fbprophet/forecaster.py:400: FutureWarning: The pandas.datetime class is deprecated and will be removed from pandas in a future version. Import from datetime module instead.\n",
      "  (dates - pd.datetime(1970, 1, 1))\n"
     ]
    },
    {
     "name": "stdout",
     "output_type": "stream",
     "text": [
      "(2880, 1) (2880, 1)\n",
      "1.0\n",
      "TIMESEGMENT:  (8595, 2) 21600 timestamp mean\n"
     ]
    },
    {
     "name": "stderr",
     "output_type": "stream",
     "text": [
      "/usr/local/lib/python3.7/site-packages/fbprophet/forecaster.py:400: FutureWarning: The pandas.datetime class is deprecated and will be removed from pandas in a future version. Import from datetime module instead.\n",
      "  (dates - pd.datetime(1970, 1, 1))\n",
      "/usr/local/lib/python3.7/site-packages/fbprophet/forecaster.py:400: FutureWarning: The pandas.datetime class is deprecated and will be removed from pandas in a future version. Import from datetime module instead.\n",
      "  (dates - pd.datetime(1970, 1, 1))\n"
     ]
    },
    {
     "name": "stdout",
     "output_type": "stream",
     "text": [
      "(8595, 1) (8595, 1)\n",
      "-0.7943632567849686\n"
     ]
    },
    {
     "name": "stderr",
     "output_type": "stream",
     "text": [
      "WARNING:orion.benchmark:Scoring pipeline prophet on signal D-3 (test split: True)\n"
     ]
    },
    {
     "name": "stdout",
     "output_type": "stream",
     "text": [
      "TRAIN:         timestamp     value\n",
      "0     1222819200 -1.000000\n",
      "1     1222840800 -1.000000\n",
      "2     1222862400 -1.000000\n",
      "3     1222884000 -1.000000\n",
      "4     1222905600 -0.999962\n",
      "...          ...       ...\n",
      "2875  1284919200 -0.970000\n",
      "2876  1284940800 -0.970000\n",
      "2877  1284962400 -0.970000\n",
      "2878  1284984000 -0.970000\n",
      "2879  1285005600 -0.970000\n",
      "\n",
      "[2880 rows x 2 columns]\n",
      "TEST:         timestamp     value\n",
      "0     1285027200 -1.000000\n",
      "1     1285048800 -1.000000\n",
      "2     1285070400 -1.000000\n",
      "3     1285092000 -1.000000\n",
      "4     1285113600 -1.000000\n",
      "...          ...       ...\n",
      "8635  1471543200  0.999881\n",
      "8636  1471564800  1.000000\n",
      "8637  1471586400  1.000000\n",
      "8638  1471608000  1.000000\n",
      "8639  1471629600  1.000000\n",
      "\n",
      "[8640 rows x 2 columns]\n",
      "TIMESEGMENT:  (2880, 2) 21600 timestamp mean\n",
      "(2880, 1) (2880,) [1222819200 1222840800 1222862400 1222884000 1222905600 1222927200\n",
      " 1222948800 1222970400 1222992000 1223013600]\n",
      "X shape:  (2880, 1)\n",
      "index shape:  (2880,)\n",
      "0      2018-01-01 00:00:00\n",
      "1      2018-01-01 01:00:00\n",
      "2      2018-01-01 02:00:00\n",
      "3      2018-01-01 03:00:00\n",
      "4      2018-01-01 04:00:00\n",
      "               ...        \n",
      "2875   2018-04-30 19:00:00\n",
      "2876   2018-04-30 20:00:00\n",
      "2877   2018-04-30 21:00:00\n",
      "2878   2018-04-30 22:00:00\n",
      "2879   2018-04-30 23:00:00\n",
      "Name: ds, Length: 2880, dtype: datetime64[ns]\n"
     ]
    },
    {
     "name": "stderr",
     "output_type": "stream",
     "text": [
      "/usr/local/lib/python3.7/site-packages/fbprophet/forecaster.py:400: FutureWarning: The pandas.datetime class is deprecated and will be removed from pandas in a future version. Import from datetime module instead.\n",
      "  (dates - pd.datetime(1970, 1, 1))\n",
      "/usr/local/lib/python3.7/site-packages/fbprophet/forecaster.py:400: FutureWarning: The pandas.datetime class is deprecated and will be removed from pandas in a future version. Import from datetime module instead.\n",
      "  (dates - pd.datetime(1970, 1, 1))\n",
      "/usr/local/lib/python3.7/site-packages/fbprophet/forecaster.py:400: FutureWarning: The pandas.datetime class is deprecated and will be removed from pandas in a future version. Import from datetime module instead.\n",
      "  (dates - pd.datetime(1970, 1, 1))\n"
     ]
    },
    {
     "name": "stdout",
     "output_type": "stream",
     "text": [
      "(2880, 1) (2880, 1)\n",
      "-11.040211995989655\n",
      "TIMESEGMENT:  (8640, 2) 21600 timestamp mean\n"
     ]
    },
    {
     "name": "stderr",
     "output_type": "stream",
     "text": [
      "/usr/local/lib/python3.7/site-packages/fbprophet/forecaster.py:400: FutureWarning: The pandas.datetime class is deprecated and will be removed from pandas in a future version. Import from datetime module instead.\n",
      "  (dates - pd.datetime(1970, 1, 1))\n",
      "/usr/local/lib/python3.7/site-packages/fbprophet/forecaster.py:400: FutureWarning: The pandas.datetime class is deprecated and will be removed from pandas in a future version. Import from datetime module instead.\n",
      "  (dates - pd.datetime(1970, 1, 1))\n"
     ]
    },
    {
     "name": "stdout",
     "output_type": "stream",
     "text": [
      "(8640, 1) (8640, 1)\n",
      "-0.26854953925700364\n"
     ]
    },
    {
     "name": "stderr",
     "output_type": "stream",
     "text": [
      "WARNING:orion.benchmark:Scoring pipeline prophet on signal D-4 (test split: True)\n"
     ]
    },
    {
     "name": "stdout",
     "output_type": "stream",
     "text": [
      "TRAIN:         timestamp  value\n",
      "0     1222819200  -1.00\n",
      "1     1222840800  -1.00\n",
      "2     1222862400  -1.00\n",
      "3     1222884000  -1.00\n",
      "4     1222905600  -1.00\n",
      "...          ...    ...\n",
      "2828  1283904000  -0.97\n",
      "2829  1283925600  -0.97\n",
      "2830  1283947200  -0.97\n",
      "2831  1283968800  -0.97\n",
      "2832  1283990400  -0.97\n",
      "\n",
      "[2833 rows x 2 columns]\n",
      "TEST:         timestamp  value\n",
      "0     1284012000   -1.0\n",
      "1     1284033600   -1.0\n",
      "2     1284055200   -1.0\n",
      "3     1284076800   -1.0\n",
      "4     1284098400   -1.0\n",
      "...          ...    ...\n",
      "8468  1466920800    1.0\n",
      "8469  1466942400    1.0\n",
      "8470  1466964000    1.0\n",
      "8471  1466985600    1.0\n",
      "8472  1467007200    1.0\n",
      "\n",
      "[8473 rows x 2 columns]\n",
      "TIMESEGMENT:  (2833, 2) 21600 timestamp mean\n",
      "(2833, 1) (2833,) [1222819200 1222840800 1222862400 1222884000 1222905600 1222927200\n",
      " 1222948800 1222970400 1222992000 1223013600]\n",
      "X shape:  (2833, 1)\n",
      "index shape:  (2833,)\n",
      "0      2018-01-01 00:00:00\n",
      "1      2018-01-01 01:00:00\n",
      "2      2018-01-01 02:00:00\n",
      "3      2018-01-01 03:00:00\n",
      "4      2018-01-01 04:00:00\n",
      "               ...        \n",
      "2828   2018-04-28 20:00:00\n",
      "2829   2018-04-28 21:00:00\n",
      "2830   2018-04-28 22:00:00\n",
      "2831   2018-04-28 23:00:00\n",
      "2832   2018-04-29 00:00:00\n",
      "Name: ds, Length: 2833, dtype: datetime64[ns]\n"
     ]
    },
    {
     "name": "stderr",
     "output_type": "stream",
     "text": [
      "/usr/local/lib/python3.7/site-packages/fbprophet/forecaster.py:400: FutureWarning: The pandas.datetime class is deprecated and will be removed from pandas in a future version. Import from datetime module instead.\n",
      "  (dates - pd.datetime(1970, 1, 1))\n",
      "/usr/local/lib/python3.7/site-packages/fbprophet/forecaster.py:400: FutureWarning: The pandas.datetime class is deprecated and will be removed from pandas in a future version. Import from datetime module instead.\n",
      "  (dates - pd.datetime(1970, 1, 1))\n",
      "/usr/local/lib/python3.7/site-packages/fbprophet/forecaster.py:400: FutureWarning: The pandas.datetime class is deprecated and will be removed from pandas in a future version. Import from datetime module instead.\n",
      "  (dates - pd.datetime(1970, 1, 1))\n"
     ]
    },
    {
     "name": "stdout",
     "output_type": "stream",
     "text": [
      "(2833, 1) (2833, 1)\n",
      "-11.06970439484925\n",
      "TIMESEGMENT:  (8473, 2) 21600 timestamp mean\n"
     ]
    },
    {
     "name": "stderr",
     "output_type": "stream",
     "text": [
      "/usr/local/lib/python3.7/site-packages/fbprophet/forecaster.py:400: FutureWarning: The pandas.datetime class is deprecated and will be removed from pandas in a future version. Import from datetime module instead.\n",
      "  (dates - pd.datetime(1970, 1, 1))\n",
      "/usr/local/lib/python3.7/site-packages/fbprophet/forecaster.py:400: FutureWarning: The pandas.datetime class is deprecated and will be removed from pandas in a future version. Import from datetime module instead.\n",
      "  (dates - pd.datetime(1970, 1, 1))\n"
     ]
    },
    {
     "name": "stdout",
     "output_type": "stream",
     "text": [
      "(8473, 1) (8473, 1)\n",
      "-0.24724985672963395\n"
     ]
    },
    {
     "name": "stderr",
     "output_type": "stream",
     "text": [
      "WARNING:orion.benchmark:Scoring pipeline prophet on signal A-2 (test split: True)\n"
     ]
    },
    {
     "name": "stdout",
     "output_type": "stream",
     "text": [
      "TRAIN:         timestamp     value\n",
      "0     1222819200  0.024589\n",
      "1     1222840800  0.024589\n",
      "2     1222862400  0.024589\n",
      "3     1222884000  0.024589\n",
      "4     1222905600  0.024589\n",
      "...          ...       ...\n",
      "2643  1279908000 -0.645492\n",
      "2644  1279929600 -0.320312\n",
      "2645  1279951200 -0.655292\n",
      "2646  1279972800 -0.655292\n",
      "2647  1279994400 -0.655292\n",
      "\n",
      "[2648 rows x 2 columns]\n",
      "TEST:         timestamp     value\n",
      "0     1280016000 -0.711922\n",
      "1     1280037600 -0.711922\n",
      "2     1280059200 -0.711922\n",
      "3     1280080800 -0.711922\n",
      "4     1280102400 -0.720361\n",
      "...          ...       ...\n",
      "7909  1450850400 -0.118633\n",
      "7910  1450872000 -0.118633\n",
      "7911  1450893600 -0.118633\n",
      "7912  1450915200 -0.118633\n",
      "7913  1450936800 -0.118633\n",
      "\n",
      "[7914 rows x 2 columns]\n",
      "TIMESEGMENT:  (2648, 2) 21600 timestamp mean\n",
      "(2648, 1) (2648,) [1222819200 1222840800 1222862400 1222884000 1222905600 1222927200\n",
      " 1222948800 1222970400 1222992000 1223013600]\n",
      "X shape:  (2648, 1)\n",
      "index shape:  (2648,)\n",
      "0      2018-01-01 00:00:00\n",
      "1      2018-01-01 01:00:00\n",
      "2      2018-01-01 02:00:00\n",
      "3      2018-01-01 03:00:00\n",
      "4      2018-01-01 04:00:00\n",
      "               ...        \n",
      "2643   2018-04-21 03:00:00\n",
      "2644   2018-04-21 04:00:00\n",
      "2645   2018-04-21 05:00:00\n",
      "2646   2018-04-21 06:00:00\n",
      "2647   2018-04-21 07:00:00\n",
      "Name: ds, Length: 2648, dtype: datetime64[ns]\n"
     ]
    },
    {
     "name": "stderr",
     "output_type": "stream",
     "text": [
      "/usr/local/lib/python3.7/site-packages/fbprophet/forecaster.py:400: FutureWarning: The pandas.datetime class is deprecated and will be removed from pandas in a future version. Import from datetime module instead.\n",
      "  (dates - pd.datetime(1970, 1, 1))\n",
      "/usr/local/lib/python3.7/site-packages/fbprophet/forecaster.py:400: FutureWarning: The pandas.datetime class is deprecated and will be removed from pandas in a future version. Import from datetime module instead.\n",
      "  (dates - pd.datetime(1970, 1, 1))\n",
      "/usr/local/lib/python3.7/site-packages/fbprophet/forecaster.py:400: FutureWarning: The pandas.datetime class is deprecated and will be removed from pandas in a future version. Import from datetime module instead.\n",
      "  (dates - pd.datetime(1970, 1, 1))\n"
     ]
    },
    {
     "name": "stdout",
     "output_type": "stream",
     "text": [
      "(2648, 1) (2648, 1)\n",
      "-3.1709020467041755\n",
      "TIMESEGMENT:  (7914, 2) 21600 timestamp mean\n"
     ]
    },
    {
     "name": "stderr",
     "output_type": "stream",
     "text": [
      "/usr/local/lib/python3.7/site-packages/fbprophet/forecaster.py:400: FutureWarning: The pandas.datetime class is deprecated and will be removed from pandas in a future version. Import from datetime module instead.\n",
      "  (dates - pd.datetime(1970, 1, 1))\n",
      "/usr/local/lib/python3.7/site-packages/fbprophet/forecaster.py:400: FutureWarning: The pandas.datetime class is deprecated and will be removed from pandas in a future version. Import from datetime module instead.\n",
      "  (dates - pd.datetime(1970, 1, 1))\n"
     ]
    },
    {
     "name": "stdout",
     "output_type": "stream",
     "text": [
      "(7914, 1) (7914, 1)\n",
      "-11.833612181806211\n"
     ]
    },
    {
     "name": "stderr",
     "output_type": "stream",
     "text": [
      "WARNING:orion.benchmark:Scoring pipeline prophet on signal A-3 (test split: True)\n"
     ]
    },
    {
     "name": "stdout",
     "output_type": "stream",
     "text": [
      "TRAIN:         timestamp     value\n",
      "0     1222819200  0.113081\n",
      "1     1222840800  0.113081\n",
      "2     1222862400  0.333660\n",
      "3     1222884000  0.333660\n",
      "4     1222905600  0.559161\n",
      "...          ...       ...\n",
      "2731  1281808800  0.764157\n",
      "2732  1281830400  0.764157\n",
      "2733  1281852000  0.764157\n",
      "2734  1281873600  0.764157\n",
      "2735  1281895200  0.764157\n",
      "\n",
      "[2736 rows x 2 columns]\n",
      "TEST:         timestamp     value\n",
      "0     1281916800  0.402416\n",
      "1     1281938400  0.204666\n",
      "2     1281960000  0.402416\n",
      "3     1281981600  0.204666\n",
      "4     1282003200  0.204666\n",
      "...          ...       ...\n",
      "8200  1459036800  0.190821\n",
      "8201  1459058400  0.190821\n",
      "8202  1459080000  0.186177\n",
      "8203  1459101600  0.388282\n",
      "8204  1459123200  0.388282\n",
      "\n",
      "[8205 rows x 2 columns]\n",
      "TIMESEGMENT:  (2736, 2) 21600 timestamp mean\n",
      "(2736, 1) (2736,) [1222819200 1222840800 1222862400 1222884000 1222905600 1222927200\n",
      " 1222948800 1222970400 1222992000 1223013600]\n",
      "X shape:  (2736, 1)\n",
      "index shape:  (2736,)\n",
      "0      2018-01-01 00:00:00\n",
      "1      2018-01-01 01:00:00\n",
      "2      2018-01-01 02:00:00\n",
      "3      2018-01-01 03:00:00\n",
      "4      2018-01-01 04:00:00\n",
      "               ...        \n",
      "2731   2018-04-24 19:00:00\n",
      "2732   2018-04-24 20:00:00\n",
      "2733   2018-04-24 21:00:00\n",
      "2734   2018-04-24 22:00:00\n",
      "2735   2018-04-24 23:00:00\n",
      "Name: ds, Length: 2736, dtype: datetime64[ns]\n"
     ]
    },
    {
     "name": "stderr",
     "output_type": "stream",
     "text": [
      "/usr/local/lib/python3.7/site-packages/fbprophet/forecaster.py:400: FutureWarning: The pandas.datetime class is deprecated and will be removed from pandas in a future version. Import from datetime module instead.\n",
      "  (dates - pd.datetime(1970, 1, 1))\n",
      "/usr/local/lib/python3.7/site-packages/fbprophet/forecaster.py:400: FutureWarning: The pandas.datetime class is deprecated and will be removed from pandas in a future version. Import from datetime module instead.\n",
      "  (dates - pd.datetime(1970, 1, 1))\n",
      "/usr/local/lib/python3.7/site-packages/fbprophet/forecaster.py:400: FutureWarning: The pandas.datetime class is deprecated and will be removed from pandas in a future version. Import from datetime module instead.\n",
      "  (dates - pd.datetime(1970, 1, 1))\n"
     ]
    },
    {
     "name": "stdout",
     "output_type": "stream",
     "text": [
      "(2736, 1) (2736, 1)\n",
      "-4.726526217998803\n",
      "TIMESEGMENT:  (8205, 2) 21600 timestamp mean\n"
     ]
    },
    {
     "name": "stderr",
     "output_type": "stream",
     "text": [
      "/usr/local/lib/python3.7/site-packages/fbprophet/forecaster.py:400: FutureWarning: The pandas.datetime class is deprecated and will be removed from pandas in a future version. Import from datetime module instead.\n",
      "  (dates - pd.datetime(1970, 1, 1))\n",
      "/usr/local/lib/python3.7/site-packages/fbprophet/forecaster.py:400: FutureWarning: The pandas.datetime class is deprecated and will be removed from pandas in a future version. Import from datetime module instead.\n",
      "  (dates - pd.datetime(1970, 1, 1))\n"
     ]
    },
    {
     "name": "stdout",
     "output_type": "stream",
     "text": [
      "(8205, 1) (8205, 1)\n",
      "-16.888725722421572\n"
     ]
    },
    {
     "name": "stderr",
     "output_type": "stream",
     "text": [
      "WARNING:orion.benchmark:Scoring pipeline prophet on signal A-4 (test split: True)\n"
     ]
    },
    {
     "name": "stdout",
     "output_type": "stream",
     "text": [
      "TRAIN:         timestamp     value\n",
      "0     1222819200  0.286792\n",
      "1     1222840800  0.142956\n",
      "2     1222862400  0.142956\n",
      "3     1222884000  0.428656\n",
      "4     1222905600  0.428656\n",
      "...          ...       ...\n",
      "2685  1280815200  0.422479\n",
      "2686  1280836800  0.566212\n",
      "2687  1280858400  0.422479\n",
      "2688  1280880000  0.707799\n",
      "2689  1280901600  0.422479\n",
      "\n",
      "[2690 rows x 2 columns]\n",
      "TEST:         timestamp     value\n",
      "0     1280923200  0.252336\n",
      "1     1280944800  0.252336\n",
      "2     1280966400  0.252336\n",
      "3     1280988000  0.252336\n",
      "4     1281009600  0.378620\n",
      "...          ...       ...\n",
      "8075  1455343200  0.246776\n",
      "8076  1455364800  0.370991\n",
      "8077  1455386400  0.497134\n",
      "8078  1455408000  0.118847\n",
      "8079  1455429600  0.370991\n",
      "\n",
      "[8080 rows x 2 columns]\n",
      "TIMESEGMENT:  (2690, 2) 21600 timestamp mean\n",
      "(2690, 1) (2690,) [1222819200 1222840800 1222862400 1222884000 1222905600 1222927200\n",
      " 1222948800 1222970400 1222992000 1223013600]\n",
      "X shape:  (2690, 1)\n",
      "index shape:  (2690,)\n",
      "0      2018-01-01 00:00:00\n",
      "1      2018-01-01 01:00:00\n",
      "2      2018-01-01 02:00:00\n",
      "3      2018-01-01 03:00:00\n",
      "4      2018-01-01 04:00:00\n",
      "               ...        \n",
      "2685   2018-04-22 21:00:00\n",
      "2686   2018-04-22 22:00:00\n",
      "2687   2018-04-22 23:00:00\n",
      "2688   2018-04-23 00:00:00\n",
      "2689   2018-04-23 01:00:00\n",
      "Name: ds, Length: 2690, dtype: datetime64[ns]\n"
     ]
    },
    {
     "name": "stderr",
     "output_type": "stream",
     "text": [
      "/usr/local/lib/python3.7/site-packages/fbprophet/forecaster.py:400: FutureWarning: The pandas.datetime class is deprecated and will be removed from pandas in a future version. Import from datetime module instead.\n",
      "  (dates - pd.datetime(1970, 1, 1))\n",
      "/usr/local/lib/python3.7/site-packages/fbprophet/forecaster.py:400: FutureWarning: The pandas.datetime class is deprecated and will be removed from pandas in a future version. Import from datetime module instead.\n",
      "  (dates - pd.datetime(1970, 1, 1))\n",
      "/usr/local/lib/python3.7/site-packages/fbprophet/forecaster.py:400: FutureWarning: The pandas.datetime class is deprecated and will be removed from pandas in a future version. Import from datetime module instead.\n",
      "  (dates - pd.datetime(1970, 1, 1))\n"
     ]
    },
    {
     "name": "stdout",
     "output_type": "stream",
     "text": [
      "(2690, 1) (2690, 1)\n",
      "-1.2116965688743568\n",
      "TIMESEGMENT:  (8080, 2) 21600 timestamp mean\n"
     ]
    },
    {
     "name": "stderr",
     "output_type": "stream",
     "text": [
      "/usr/local/lib/python3.7/site-packages/fbprophet/forecaster.py:400: FutureWarning: The pandas.datetime class is deprecated and will be removed from pandas in a future version. Import from datetime module instead.\n",
      "  (dates - pd.datetime(1970, 1, 1))\n",
      "/usr/local/lib/python3.7/site-packages/fbprophet/forecaster.py:400: FutureWarning: The pandas.datetime class is deprecated and will be removed from pandas in a future version. Import from datetime module instead.\n",
      "  (dates - pd.datetime(1970, 1, 1))\n"
     ]
    },
    {
     "name": "stdout",
     "output_type": "stream",
     "text": [
      "(8080, 1) (8080, 1)\n",
      "-2.516776926065084\n"
     ]
    },
    {
     "name": "stderr",
     "output_type": "stream",
     "text": [
      "WARNING:orion.benchmark:Scoring pipeline prophet on signal G-1 (test split: True)\n"
     ]
    },
    {
     "name": "stdout",
     "output_type": "stream",
     "text": [
      "TRAIN:         timestamp     value\n",
      "0     1222819200  0.889187\n",
      "1     1222840800  0.889125\n",
      "2     1222862400  0.890162\n",
      "3     1222884000  0.890128\n",
      "4     1222905600  0.878408\n",
      "...          ...       ...\n",
      "2815  1283623200 -0.248650\n",
      "2816  1283644800 -0.253437\n",
      "2817  1283666400 -0.121705\n",
      "2818  1283688000  0.082199\n",
      "2819  1283709600 -0.257235\n",
      "\n",
      "[2820 rows x 2 columns]\n",
      "TEST:         timestamp     value\n",
      "0     1283731200  0.977307\n",
      "1     1283752800  0.979119\n",
      "2     1283774400  0.979059\n",
      "3     1283796000  0.842802\n",
      "4     1283817600  0.977474\n",
      "...          ...       ...\n",
      "8464  1466553600 -0.732150\n",
      "8465  1466575200 -0.719484\n",
      "8466  1466596800 -0.706406\n",
      "8467  1466618400 -0.532730\n",
      "8468  1466640000 -0.685418\n",
      "\n",
      "[8469 rows x 2 columns]\n",
      "TIMESEGMENT:  (2820, 2) 21600 timestamp mean\n",
      "(2820, 1) (2820,) [1222819200 1222840800 1222862400 1222884000 1222905600 1222927200\n",
      " 1222948800 1222970400 1222992000 1223013600]\n",
      "X shape:  (2820, 1)\n",
      "index shape:  (2820,)\n",
      "0      2018-01-01 00:00:00\n",
      "1      2018-01-01 01:00:00\n",
      "2      2018-01-01 02:00:00\n",
      "3      2018-01-01 03:00:00\n",
      "4      2018-01-01 04:00:00\n",
      "               ...        \n",
      "2815   2018-04-28 07:00:00\n",
      "2816   2018-04-28 08:00:00\n",
      "2817   2018-04-28 09:00:00\n",
      "2818   2018-04-28 10:00:00\n",
      "2819   2018-04-28 11:00:00\n",
      "Name: ds, Length: 2820, dtype: datetime64[ns]\n"
     ]
    },
    {
     "name": "stderr",
     "output_type": "stream",
     "text": [
      "/usr/local/lib/python3.7/site-packages/fbprophet/forecaster.py:400: FutureWarning: The pandas.datetime class is deprecated and will be removed from pandas in a future version. Import from datetime module instead.\n",
      "  (dates - pd.datetime(1970, 1, 1))\n",
      "/usr/local/lib/python3.7/site-packages/fbprophet/forecaster.py:400: FutureWarning: The pandas.datetime class is deprecated and will be removed from pandas in a future version. Import from datetime module instead.\n",
      "  (dates - pd.datetime(1970, 1, 1))\n",
      "/usr/local/lib/python3.7/site-packages/fbprophet/forecaster.py:400: FutureWarning: The pandas.datetime class is deprecated and will be removed from pandas in a future version. Import from datetime module instead.\n",
      "  (dates - pd.datetime(1970, 1, 1))\n"
     ]
    },
    {
     "name": "stdout",
     "output_type": "stream",
     "text": [
      "(2820, 1) (2820, 1)\n",
      "-3.113205971390766\n",
      "TIMESEGMENT:  (8469, 2) 21600 timestamp mean\n"
     ]
    },
    {
     "name": "stderr",
     "output_type": "stream",
     "text": [
      "/usr/local/lib/python3.7/site-packages/fbprophet/forecaster.py:400: FutureWarning: The pandas.datetime class is deprecated and will be removed from pandas in a future version. Import from datetime module instead.\n",
      "  (dates - pd.datetime(1970, 1, 1))\n",
      "/usr/local/lib/python3.7/site-packages/fbprophet/forecaster.py:400: FutureWarning: The pandas.datetime class is deprecated and will be removed from pandas in a future version. Import from datetime module instead.\n",
      "  (dates - pd.datetime(1970, 1, 1))\n"
     ]
    },
    {
     "name": "stdout",
     "output_type": "stream",
     "text": [
      "(8469, 1) (8469, 1)\n",
      "-17.580091003199776\n"
     ]
    },
    {
     "name": "stderr",
     "output_type": "stream",
     "text": [
      "WARNING:orion.benchmark:Scoring pipeline prophet on signal G-2 (test split: True)\n"
     ]
    },
    {
     "name": "stdout",
     "output_type": "stream",
     "text": [
      "TRAIN:         timestamp  value\n",
      "0     1222819200   -1.0\n",
      "1     1222840800   -1.0\n",
      "2     1222862400   -1.0\n",
      "3     1222884000   -1.0\n",
      "4     1222905600   -1.0\n",
      "...          ...    ...\n",
      "2473  1276236000   -1.0\n",
      "2474  1276257600   -1.0\n",
      "2475  1276279200   -1.0\n",
      "2476  1276300800   -1.0\n",
      "2477  1276322400   -1.0\n",
      "\n",
      "[2478 rows x 2 columns]\n",
      "TEST:         timestamp  value\n",
      "0     1276344000   -1.0\n",
      "1     1276365600   -1.0\n",
      "2     1276387200   -1.0\n",
      "3     1276408800   -1.0\n",
      "4     1276430400   -1.0\n",
      "...          ...    ...\n",
      "7356  1435233600   -1.0\n",
      "7357  1435255200   -1.0\n",
      "7358  1435276800   -1.0\n",
      "7359  1435298400   -1.0\n",
      "7360  1435320000   -1.0\n",
      "\n",
      "[7361 rows x 2 columns]\n",
      "TIMESEGMENT:  (2478, 2) 21600 timestamp mean\n",
      "(2478, 1) (2478,) [1222819200 1222840800 1222862400 1222884000 1222905600 1222927200\n",
      " 1222948800 1222970400 1222992000 1223013600]\n",
      "X shape:  (2478, 1)\n",
      "index shape:  (2478,)\n",
      "0      2018-01-01 00:00:00\n",
      "1      2018-01-01 01:00:00\n",
      "2      2018-01-01 02:00:00\n",
      "3      2018-01-01 03:00:00\n",
      "4      2018-01-01 04:00:00\n",
      "               ...        \n",
      "2473   2018-04-14 01:00:00\n",
      "2474   2018-04-14 02:00:00\n",
      "2475   2018-04-14 03:00:00\n",
      "2476   2018-04-14 04:00:00\n",
      "2477   2018-04-14 05:00:00\n",
      "Name: ds, Length: 2478, dtype: datetime64[ns]\n"
     ]
    },
    {
     "name": "stderr",
     "output_type": "stream",
     "text": [
      "/usr/local/lib/python3.7/site-packages/fbprophet/forecaster.py:400: FutureWarning: The pandas.datetime class is deprecated and will be removed from pandas in a future version. Import from datetime module instead.\n",
      "  (dates - pd.datetime(1970, 1, 1))\n",
      "/usr/local/lib/python3.7/site-packages/fbprophet/forecaster.py:400: FutureWarning: The pandas.datetime class is deprecated and will be removed from pandas in a future version. Import from datetime module instead.\n",
      "  (dates - pd.datetime(1970, 1, 1))\n",
      "/usr/local/lib/python3.7/site-packages/fbprophet/forecaster.py:400: FutureWarning: The pandas.datetime class is deprecated and will be removed from pandas in a future version. Import from datetime module instead.\n",
      "  (dates - pd.datetime(1970, 1, 1))\n"
     ]
    },
    {
     "name": "stdout",
     "output_type": "stream",
     "text": [
      "(2478, 1) (2478, 1)\n",
      "1.0\n",
      "TIMESEGMENT:  (7361, 2) 21600 timestamp mean\n"
     ]
    },
    {
     "name": "stderr",
     "output_type": "stream",
     "text": [
      "/usr/local/lib/python3.7/site-packages/fbprophet/forecaster.py:400: FutureWarning: The pandas.datetime class is deprecated and will be removed from pandas in a future version. Import from datetime module instead.\n",
      "  (dates - pd.datetime(1970, 1, 1))\n",
      "/usr/local/lib/python3.7/site-packages/fbprophet/forecaster.py:400: FutureWarning: The pandas.datetime class is deprecated and will be removed from pandas in a future version. Import from datetime module instead.\n",
      "  (dates - pd.datetime(1970, 1, 1))\n"
     ]
    },
    {
     "name": "stdout",
     "output_type": "stream",
     "text": [
      "(7361, 1) (7361, 1)\n",
      "-0.00013586956521716154\n"
     ]
    },
    {
     "name": "stderr",
     "output_type": "stream",
     "text": [
      "WARNING:orion.benchmark:Scoring pipeline prophet on signal D-5 (test split: True)\n"
     ]
    },
    {
     "name": "stdout",
     "output_type": "stream",
     "text": [
      "TRAIN:         timestamp     value\n",
      "0     1222819200  0.999741\n",
      "1     1222840800  0.999741\n",
      "2     1222862400  0.999741\n",
      "3     1222884000  0.999741\n",
      "4     1222905600  0.999741\n",
      "...          ...       ...\n",
      "2556  1278028800  0.999665\n",
      "2557  1278050400  0.999665\n",
      "2558  1278072000  0.999665\n",
      "2559  1278093600  0.999665\n",
      "2560  1278115200  0.999665\n",
      "\n",
      "[2561 rows x 2 columns]\n",
      "TEST:         timestamp     value\n",
      "0     1278136800 -0.996490\n",
      "1     1278158400 -0.996490\n",
      "2     1278180000 -0.996490\n",
      "3     1278201600 -0.996490\n",
      "4     1278223200 -0.996490\n",
      "...          ...       ...\n",
      "7623  1442793600 -0.995941\n",
      "7624  1442815200 -0.995941\n",
      "7625  1442836800 -0.995941\n",
      "7626  1442858400 -0.995880\n",
      "7627  1442880000 -0.995880\n",
      "\n",
      "[7628 rows x 2 columns]\n",
      "TIMESEGMENT:  (2561, 2) 21600 timestamp mean\n",
      "(2561, 1) (2561,) [1222819200 1222840800 1222862400 1222884000 1222905600 1222927200\n",
      " 1222948800 1222970400 1222992000 1223013600]\n",
      "X shape:  (2561, 1)\n",
      "index shape:  (2561,)\n",
      "0      2018-01-01 00:00:00\n",
      "1      2018-01-01 01:00:00\n",
      "2      2018-01-01 02:00:00\n",
      "3      2018-01-01 03:00:00\n",
      "4      2018-01-01 04:00:00\n",
      "               ...        \n",
      "2556   2018-04-17 12:00:00\n",
      "2557   2018-04-17 13:00:00\n",
      "2558   2018-04-17 14:00:00\n",
      "2559   2018-04-17 15:00:00\n",
      "2560   2018-04-17 16:00:00\n",
      "Name: ds, Length: 2561, dtype: datetime64[ns]\n"
     ]
    },
    {
     "name": "stderr",
     "output_type": "stream",
     "text": [
      "/usr/local/lib/python3.7/site-packages/fbprophet/forecaster.py:400: FutureWarning: The pandas.datetime class is deprecated and will be removed from pandas in a future version. Import from datetime module instead.\n",
      "  (dates - pd.datetime(1970, 1, 1))\n",
      "/usr/local/lib/python3.7/site-packages/fbprophet/forecaster.py:400: FutureWarning: The pandas.datetime class is deprecated and will be removed from pandas in a future version. Import from datetime module instead.\n",
      "  (dates - pd.datetime(1970, 1, 1))\n",
      "/usr/local/lib/python3.7/site-packages/fbprophet/forecaster.py:400: FutureWarning: The pandas.datetime class is deprecated and will be removed from pandas in a future version. Import from datetime module instead.\n",
      "  (dates - pd.datetime(1970, 1, 1))\n"
     ]
    },
    {
     "name": "stdout",
     "output_type": "stream",
     "text": [
      "(2561, 1) (2561, 1)\n",
      "-44.449406045359964\n",
      "TIMESEGMENT:  (7628, 2) 21600 timestamp mean\n"
     ]
    },
    {
     "name": "stderr",
     "output_type": "stream",
     "text": [
      "/usr/local/lib/python3.7/site-packages/fbprophet/forecaster.py:400: FutureWarning: The pandas.datetime class is deprecated and will be removed from pandas in a future version. Import from datetime module instead.\n",
      "  (dates - pd.datetime(1970, 1, 1))\n",
      "/usr/local/lib/python3.7/site-packages/fbprophet/forecaster.py:400: FutureWarning: The pandas.datetime class is deprecated and will be removed from pandas in a future version. Import from datetime module instead.\n",
      "  (dates - pd.datetime(1970, 1, 1))\n"
     ]
    },
    {
     "name": "stdout",
     "output_type": "stream",
     "text": [
      "(7628, 1) (7628, 1)\n",
      "-1903.031928295322\n"
     ]
    },
    {
     "name": "stderr",
     "output_type": "stream",
     "text": [
      "WARNING:orion.benchmark:Scoring pipeline prophet on signal D-6 (test split: True)\n"
     ]
    },
    {
     "name": "stdout",
     "output_type": "stream",
     "text": [
      "TRAIN:         timestamp     value\n",
      "0     1222819200  0.602410\n",
      "1     1222840800  0.602410\n",
      "2     1222862400  0.602410\n",
      "3     1222884000  0.602410\n",
      "4     1222905600  0.602410\n",
      "...          ...       ...\n",
      "2589  1278741600  0.337349\n",
      "2590  1278763200  0.337349\n",
      "2591  1278784800  0.337349\n",
      "2592  1278806400  0.361446\n",
      "2593  1278828000  0.361446\n",
      "\n",
      "[2594 rows x 2 columns]\n",
      "TEST:         timestamp     value\n",
      "0     1278849600 -0.996460\n",
      "1     1278871200 -0.996460\n",
      "2     1278892800 -0.996429\n",
      "3     1278914400 -0.996429\n",
      "4     1278936000 -0.996429\n",
      "...          ...       ...\n",
      "7879  1449036000 -0.995941\n",
      "7880  1449057600 -0.995941\n",
      "7881  1449079200 -0.995941\n",
      "7882  1449100800 -0.995880\n",
      "7883  1449122400 -0.995880\n",
      "\n",
      "[7884 rows x 2 columns]\n",
      "TIMESEGMENT:  (2594, 2) 21600 timestamp mean\n",
      "(2594, 1) (2594,) [1222819200 1222840800 1222862400 1222884000 1222905600 1222927200\n",
      " 1222948800 1222970400 1222992000 1223013600]\n",
      "X shape:  (2594, 1)\n",
      "index shape:  (2594,)\n",
      "0      2018-01-01 00:00:00\n",
      "1      2018-01-01 01:00:00\n",
      "2      2018-01-01 02:00:00\n",
      "3      2018-01-01 03:00:00\n",
      "4      2018-01-01 04:00:00\n",
      "               ...        \n",
      "2589   2018-04-18 21:00:00\n",
      "2590   2018-04-18 22:00:00\n",
      "2591   2018-04-18 23:00:00\n",
      "2592   2018-04-19 00:00:00\n",
      "2593   2018-04-19 01:00:00\n",
      "Name: ds, Length: 2594, dtype: datetime64[ns]\n"
     ]
    },
    {
     "name": "stderr",
     "output_type": "stream",
     "text": [
      "/usr/local/lib/python3.7/site-packages/fbprophet/forecaster.py:400: FutureWarning: The pandas.datetime class is deprecated and will be removed from pandas in a future version. Import from datetime module instead.\n",
      "  (dates - pd.datetime(1970, 1, 1))\n",
      "/usr/local/lib/python3.7/site-packages/fbprophet/forecaster.py:400: FutureWarning: The pandas.datetime class is deprecated and will be removed from pandas in a future version. Import from datetime module instead.\n",
      "  (dates - pd.datetime(1970, 1, 1))\n",
      "/usr/local/lib/python3.7/site-packages/fbprophet/forecaster.py:400: FutureWarning: The pandas.datetime class is deprecated and will be removed from pandas in a future version. Import from datetime module instead.\n",
      "  (dates - pd.datetime(1970, 1, 1))\n"
     ]
    },
    {
     "name": "stdout",
     "output_type": "stream",
     "text": [
      "(2594, 1) (2594, 1)\n",
      "-0.3774489239551797\n",
      "TIMESEGMENT:  (7884, 2) 21600 timestamp mean\n"
     ]
    },
    {
     "name": "stderr",
     "output_type": "stream",
     "text": [
      "/usr/local/lib/python3.7/site-packages/fbprophet/forecaster.py:400: FutureWarning: The pandas.datetime class is deprecated and will be removed from pandas in a future version. Import from datetime module instead.\n",
      "  (dates - pd.datetime(1970, 1, 1))\n",
      "/usr/local/lib/python3.7/site-packages/fbprophet/forecaster.py:400: FutureWarning: The pandas.datetime class is deprecated and will be removed from pandas in a future version. Import from datetime module instead.\n",
      "  (dates - pd.datetime(1970, 1, 1))\n"
     ]
    },
    {
     "name": "stdout",
     "output_type": "stream",
     "text": [
      "(7884, 1) (7884, 1)\n",
      "-629.1897660366568\n"
     ]
    },
    {
     "name": "stderr",
     "output_type": "stream",
     "text": [
      "WARNING:orion.benchmark:Scoring pipeline prophet on signal D-7 (test split: True)\n"
     ]
    },
    {
     "name": "stdout",
     "output_type": "stream",
     "text": [
      "TRAIN:         timestamp  value\n",
      "0     1222819200   -1.0\n",
      "1     1222840800   -1.0\n",
      "2     1222862400   -1.0\n",
      "3     1222884000   -1.0\n",
      "4     1222905600   -1.0\n",
      "...          ...    ...\n",
      "2578  1278504000   -1.0\n",
      "2579  1278525600   -1.0\n",
      "2580  1278547200   -1.0\n",
      "2581  1278568800   -1.0\n",
      "2582  1278590400   -1.0\n",
      "\n",
      "[2583 rows x 2 columns]\n",
      "TEST:         timestamp  value\n",
      "0     1278612000   -1.0\n",
      "1     1278633600   -1.0\n",
      "2     1278655200   -1.0\n",
      "3     1278676800   -1.0\n",
      "4     1278698400   -1.0\n",
      "...          ...    ...\n",
      "7637  1443571200    1.0\n",
      "7638  1443592800    1.0\n",
      "7639  1443614400    1.0\n",
      "7640  1443636000    1.0\n",
      "7641  1443657600    1.0\n",
      "\n",
      "[7642 rows x 2 columns]\n",
      "TIMESEGMENT:  (2583, 2) 21600 timestamp mean\n",
      "(2583, 1) (2583,) [1222819200 1222840800 1222862400 1222884000 1222905600 1222927200\n",
      " 1222948800 1222970400 1222992000 1223013600]\n",
      "X shape:  (2583, 1)\n",
      "index shape:  (2583,)\n",
      "0      2018-01-01 00:00:00\n",
      "1      2018-01-01 01:00:00\n",
      "2      2018-01-01 02:00:00\n",
      "3      2018-01-01 03:00:00\n",
      "4      2018-01-01 04:00:00\n",
      "               ...        \n",
      "2578   2018-04-18 10:00:00\n",
      "2579   2018-04-18 11:00:00\n",
      "2580   2018-04-18 12:00:00\n",
      "2581   2018-04-18 13:00:00\n",
      "2582   2018-04-18 14:00:00\n",
      "Name: ds, Length: 2583, dtype: datetime64[ns]\n"
     ]
    },
    {
     "name": "stderr",
     "output_type": "stream",
     "text": [
      "/usr/local/lib/python3.7/site-packages/fbprophet/forecaster.py:400: FutureWarning: The pandas.datetime class is deprecated and will be removed from pandas in a future version. Import from datetime module instead.\n",
      "  (dates - pd.datetime(1970, 1, 1))\n",
      "/usr/local/lib/python3.7/site-packages/fbprophet/forecaster.py:400: FutureWarning: The pandas.datetime class is deprecated and will be removed from pandas in a future version. Import from datetime module instead.\n",
      "  (dates - pd.datetime(1970, 1, 1))\n",
      "/usr/local/lib/python3.7/site-packages/fbprophet/forecaster.py:400: FutureWarning: The pandas.datetime class is deprecated and will be removed from pandas in a future version. Import from datetime module instead.\n",
      "  (dates - pd.datetime(1970, 1, 1))\n"
     ]
    },
    {
     "name": "stdout",
     "output_type": "stream",
     "text": [
      "(2583, 1) (2583, 1)\n",
      "1.0\n",
      "TIMESEGMENT:  (7642, 2) 21600 timestamp mean\n"
     ]
    },
    {
     "name": "stderr",
     "output_type": "stream",
     "text": [
      "/usr/local/lib/python3.7/site-packages/fbprophet/forecaster.py:400: FutureWarning: The pandas.datetime class is deprecated and will be removed from pandas in a future version. Import from datetime module instead.\n",
      "  (dates - pd.datetime(1970, 1, 1))\n",
      "/usr/local/lib/python3.7/site-packages/fbprophet/forecaster.py:400: FutureWarning: The pandas.datetime class is deprecated and will be removed from pandas in a future version. Import from datetime module instead.\n",
      "  (dates - pd.datetime(1970, 1, 1))\n"
     ]
    },
    {
     "name": "stdout",
     "output_type": "stream",
     "text": [
      "(7642, 1) (7642, 1)\n",
      "-0.3617014338659337\n"
     ]
    },
    {
     "name": "stderr",
     "output_type": "stream",
     "text": [
      "WARNING:orion.benchmark:Scoring pipeline prophet on signal F-1 (test split: True)\n"
     ]
    },
    {
     "name": "stdout",
     "output_type": "stream",
     "text": [
      "TRAIN:         timestamp     value\n",
      "0     1222819200 -0.277926\n",
      "1     1222840800 -0.330817\n",
      "2     1222862400 -0.329688\n",
      "3     1222884000 -0.335074\n",
      "4     1222905600 -0.327206\n",
      "...          ...       ...\n",
      "2864  1284681600  0.264707\n",
      "2865  1284703200 -0.328456\n",
      "2866  1284724800 -0.324264\n",
      "2867  1284746400 -0.127418\n",
      "2868  1284768000 -0.331360\n",
      "\n",
      "[2869 rows x 2 columns]\n",
      "TEST:         timestamp     value\n",
      "0     1284789600 -0.284732\n",
      "1     1284811200 -0.335890\n",
      "2     1284832800 -0.333881\n",
      "3     1284854400 -0.332226\n",
      "4     1284876000 -0.334553\n",
      "...          ...       ...\n",
      "8579  1470096000 -0.338195\n",
      "8580  1470117600  0.232728\n",
      "8581  1470139200 -0.321926\n",
      "8582  1470160800  0.314250\n",
      "8583  1470182400 -0.328106\n",
      "\n",
      "[8584 rows x 2 columns]\n",
      "TIMESEGMENT:  (2869, 2) 21600 timestamp mean\n",
      "(2869, 1) (2869,) [1222819200 1222840800 1222862400 1222884000 1222905600 1222927200\n",
      " 1222948800 1222970400 1222992000 1223013600]\n",
      "X shape:  (2869, 1)\n",
      "index shape:  (2869,)\n",
      "0      2018-01-01 00:00:00\n",
      "1      2018-01-01 01:00:00\n",
      "2      2018-01-01 02:00:00\n",
      "3      2018-01-01 03:00:00\n",
      "4      2018-01-01 04:00:00\n",
      "               ...        \n",
      "2864   2018-04-30 08:00:00\n",
      "2865   2018-04-30 09:00:00\n",
      "2866   2018-04-30 10:00:00\n",
      "2867   2018-04-30 11:00:00\n",
      "2868   2018-04-30 12:00:00\n",
      "Name: ds, Length: 2869, dtype: datetime64[ns]\n"
     ]
    },
    {
     "name": "stderr",
     "output_type": "stream",
     "text": [
      "/usr/local/lib/python3.7/site-packages/fbprophet/forecaster.py:400: FutureWarning: The pandas.datetime class is deprecated and will be removed from pandas in a future version. Import from datetime module instead.\n",
      "  (dates - pd.datetime(1970, 1, 1))\n",
      "/usr/local/lib/python3.7/site-packages/fbprophet/forecaster.py:400: FutureWarning: The pandas.datetime class is deprecated and will be removed from pandas in a future version. Import from datetime module instead.\n",
      "  (dates - pd.datetime(1970, 1, 1))\n",
      "/usr/local/lib/python3.7/site-packages/fbprophet/forecaster.py:400: FutureWarning: The pandas.datetime class is deprecated and will be removed from pandas in a future version. Import from datetime module instead.\n",
      "  (dates - pd.datetime(1970, 1, 1))\n"
     ]
    },
    {
     "name": "stdout",
     "output_type": "stream",
     "text": [
      "(2869, 1) (2869, 1)\n",
      "-0.3658880753023819\n",
      "TIMESEGMENT:  (8584, 2) 21600 timestamp mean\n"
     ]
    },
    {
     "name": "stderr",
     "output_type": "stream",
     "text": [
      "/usr/local/lib/python3.7/site-packages/fbprophet/forecaster.py:400: FutureWarning: The pandas.datetime class is deprecated and will be removed from pandas in a future version. Import from datetime module instead.\n",
      "  (dates - pd.datetime(1970, 1, 1))\n",
      "/usr/local/lib/python3.7/site-packages/fbprophet/forecaster.py:400: FutureWarning: The pandas.datetime class is deprecated and will be removed from pandas in a future version. Import from datetime module instead.\n",
      "  (dates - pd.datetime(1970, 1, 1))\n"
     ]
    },
    {
     "name": "stdout",
     "output_type": "stream",
     "text": [
      "(8584, 1) (8584, 1)\n",
      "-0.7378667786900284\n"
     ]
    },
    {
     "name": "stderr",
     "output_type": "stream",
     "text": [
      "WARNING:orion.benchmark:Scoring pipeline prophet on signal P-4 (test split: True)\n"
     ]
    },
    {
     "name": "stdout",
     "output_type": "stream",
     "text": [
      "TRAIN:         timestamp  value\n",
      "0     1222819200   -1.0\n",
      "1     1222840800   -1.0\n",
      "2     1222862400   -1.0\n",
      "3     1222884000   -1.0\n",
      "4     1222905600   -1.0\n",
      "...          ...    ...\n",
      "2604  1279065600   -1.0\n",
      "2605  1279087200   -1.0\n",
      "2606  1279108800   -1.0\n",
      "2607  1279130400   -1.0\n",
      "2608  1279152000   -1.0\n",
      "\n",
      "[2609 rows x 2 columns]\n",
      "TEST:         timestamp  value\n",
      "0     1279173600   -1.0\n",
      "1     1279195200   -1.0\n",
      "2     1279216800   -1.0\n",
      "3     1279238400   -1.0\n",
      "4     1279260000   -1.0\n",
      "...          ...    ...\n",
      "7778  1447178400   -1.0\n",
      "7779  1447200000   -1.0\n",
      "7780  1447221600   -1.0\n",
      "7781  1447243200   -1.0\n",
      "7782  1447264800   -1.0\n",
      "\n",
      "[7783 rows x 2 columns]\n",
      "TIMESEGMENT:  (2609, 2) 21600 timestamp mean\n",
      "(2609, 1) (2609,) [1222819200 1222840800 1222862400 1222884000 1222905600 1222927200\n",
      " 1222948800 1222970400 1222992000 1223013600]\n",
      "X shape:  (2609, 1)\n",
      "index shape:  (2609,)\n",
      "0      2018-01-01 00:00:00\n",
      "1      2018-01-01 01:00:00\n",
      "2      2018-01-01 02:00:00\n",
      "3      2018-01-01 03:00:00\n",
      "4      2018-01-01 04:00:00\n",
      "               ...        \n",
      "2604   2018-04-19 12:00:00\n",
      "2605   2018-04-19 13:00:00\n",
      "2606   2018-04-19 14:00:00\n",
      "2607   2018-04-19 15:00:00\n",
      "2608   2018-04-19 16:00:00\n",
      "Name: ds, Length: 2609, dtype: datetime64[ns]\n"
     ]
    },
    {
     "name": "stderr",
     "output_type": "stream",
     "text": [
      "/usr/local/lib/python3.7/site-packages/fbprophet/forecaster.py:400: FutureWarning: The pandas.datetime class is deprecated and will be removed from pandas in a future version. Import from datetime module instead.\n",
      "  (dates - pd.datetime(1970, 1, 1))\n",
      "/usr/local/lib/python3.7/site-packages/fbprophet/forecaster.py:400: FutureWarning: The pandas.datetime class is deprecated and will be removed from pandas in a future version. Import from datetime module instead.\n",
      "  (dates - pd.datetime(1970, 1, 1))\n",
      "/usr/local/lib/python3.7/site-packages/fbprophet/forecaster.py:400: FutureWarning: The pandas.datetime class is deprecated and will be removed from pandas in a future version. Import from datetime module instead.\n",
      "  (dates - pd.datetime(1970, 1, 1))\n"
     ]
    },
    {
     "name": "stdout",
     "output_type": "stream",
     "text": [
      "(2609, 1) (2609, 1)\n",
      "1.0\n",
      "TIMESEGMENT:  (7783, 2) 21600 timestamp mean\n"
     ]
    },
    {
     "name": "stderr",
     "output_type": "stream",
     "text": [
      "/usr/local/lib/python3.7/site-packages/fbprophet/forecaster.py:400: FutureWarning: The pandas.datetime class is deprecated and will be removed from pandas in a future version. Import from datetime module instead.\n",
      "  (dates - pd.datetime(1970, 1, 1))\n",
      "/usr/local/lib/python3.7/site-packages/fbprophet/forecaster.py:400: FutureWarning: The pandas.datetime class is deprecated and will be removed from pandas in a future version. Import from datetime module instead.\n",
      "  (dates - pd.datetime(1970, 1, 1))\n"
     ]
    },
    {
     "name": "stdout",
     "output_type": "stream",
     "text": [
      "(7783, 1) (7783, 1)\n",
      "-0.0019309989701337127\n"
     ]
    },
    {
     "name": "stderr",
     "output_type": "stream",
     "text": [
      "WARNING:orion.benchmark:Scoring pipeline prophet on signal G-3 (test split: True)\n"
     ]
    },
    {
     "name": "stdout",
     "output_type": "stream",
     "text": [
      "TRAIN:         timestamp  value\n",
      "0     1222819200    1.0\n",
      "1     1222840800    1.0\n",
      "2     1222862400    1.0\n",
      "3     1222884000    1.0\n",
      "4     1222905600    1.0\n",
      "...          ...    ...\n",
      "2619  1279389600    1.0\n",
      "2620  1279411200    1.0\n",
      "2621  1279432800    1.0\n",
      "2622  1279454400    1.0\n",
      "2623  1279476000    1.0\n",
      "\n",
      "[2624 rows x 2 columns]\n",
      "TEST:         timestamp  value\n",
      "0     1279497600    1.0\n",
      "1     1279519200    1.0\n",
      "2     1279540800    1.0\n",
      "3     1279562400    1.0\n",
      "4     1279584000    1.0\n",
      "...          ...    ...\n",
      "7902  1450180800    1.0\n",
      "7903  1450202400    1.0\n",
      "7904  1450224000    1.0\n",
      "7905  1450245600    1.0\n",
      "7906  1450267200    1.0\n",
      "\n",
      "[7907 rows x 2 columns]\n",
      "TIMESEGMENT:  (2624, 2) 21600 timestamp mean\n",
      "(2624, 1) (2624,) [1222819200 1222840800 1222862400 1222884000 1222905600 1222927200\n",
      " 1222948800 1222970400 1222992000 1223013600]\n",
      "X shape:  (2624, 1)\n",
      "index shape:  (2624,)\n",
      "0      2018-01-01 00:00:00\n",
      "1      2018-01-01 01:00:00\n",
      "2      2018-01-01 02:00:00\n",
      "3      2018-01-01 03:00:00\n",
      "4      2018-01-01 04:00:00\n",
      "               ...        \n",
      "2619   2018-04-20 03:00:00\n",
      "2620   2018-04-20 04:00:00\n",
      "2621   2018-04-20 05:00:00\n",
      "2622   2018-04-20 06:00:00\n",
      "2623   2018-04-20 07:00:00\n",
      "Name: ds, Length: 2624, dtype: datetime64[ns]\n"
     ]
    },
    {
     "name": "stderr",
     "output_type": "stream",
     "text": [
      "/usr/local/lib/python3.7/site-packages/fbprophet/forecaster.py:400: FutureWarning: The pandas.datetime class is deprecated and will be removed from pandas in a future version. Import from datetime module instead.\n",
      "  (dates - pd.datetime(1970, 1, 1))\n",
      "/usr/local/lib/python3.7/site-packages/fbprophet/forecaster.py:400: FutureWarning: The pandas.datetime class is deprecated and will be removed from pandas in a future version. Import from datetime module instead.\n",
      "  (dates - pd.datetime(1970, 1, 1))\n",
      "/usr/local/lib/python3.7/site-packages/fbprophet/forecaster.py:400: FutureWarning: The pandas.datetime class is deprecated and will be removed from pandas in a future version. Import from datetime module instead.\n",
      "  (dates - pd.datetime(1970, 1, 1))\n"
     ]
    },
    {
     "name": "stdout",
     "output_type": "stream",
     "text": [
      "(2624, 1) (2624, 1)\n",
      "-0.029687811837946665\n",
      "TIMESEGMENT:  (7907, 2) 21600 timestamp mean\n"
     ]
    },
    {
     "name": "stderr",
     "output_type": "stream",
     "text": [
      "/usr/local/lib/python3.7/site-packages/fbprophet/forecaster.py:400: FutureWarning: The pandas.datetime class is deprecated and will be removed from pandas in a future version. Import from datetime module instead.\n",
      "  (dates - pd.datetime(1970, 1, 1))\n",
      "/usr/local/lib/python3.7/site-packages/fbprophet/forecaster.py:400: FutureWarning: The pandas.datetime class is deprecated and will be removed from pandas in a future version. Import from datetime module instead.\n",
      "  (dates - pd.datetime(1970, 1, 1))\n"
     ]
    },
    {
     "name": "stdout",
     "output_type": "stream",
     "text": [
      "(7907, 1) (7907, 1)\n",
      "-3.6892068497838473\n"
     ]
    },
    {
     "name": "stderr",
     "output_type": "stream",
     "text": [
      "WARNING:orion.benchmark:Scoring pipeline prophet on signal T-1 (test split: True)\n"
     ]
    },
    {
     "name": "stdout",
     "output_type": "stream",
     "text": [
      "TRAIN:         timestamp     value\n",
      "0     1222819200  0.612356\n",
      "1     1222840800  0.697786\n",
      "2     1222862400  0.716381\n",
      "3     1222884000  0.753593\n",
      "4     1222905600  0.805745\n",
      "...          ...       ...\n",
      "2870  1284811200  0.899028\n",
      "2871  1284832800  0.899028\n",
      "2872  1284854400  0.906500\n",
      "2873  1284876000  0.936398\n",
      "2874  1284897600  0.917709\n",
      "\n",
      "[2875 rows x 2 columns]\n",
      "TEST:         timestamp     value\n",
      "0     1284919200  0.810754\n",
      "1     1284940800  0.810754\n",
      "2     1284962400  0.824487\n",
      "3     1284984000  0.821054\n",
      "4     1285005600  0.817620\n",
      "...          ...       ...\n",
      "8607  1470830400 -0.055023\n",
      "8608  1470852000  0.072781\n",
      "8609  1470873600  0.265284\n",
      "8610  1470895200  0.322882\n",
      "8611  1470916800  0.400945\n",
      "\n",
      "[8612 rows x 2 columns]\n",
      "TIMESEGMENT:  (2875, 2) 21600 timestamp mean\n",
      "(2875, 1) (2875,) [1222819200 1222840800 1222862400 1222884000 1222905600 1222927200\n",
      " 1222948800 1222970400 1222992000 1223013600]\n",
      "X shape:  (2875, 1)\n",
      "index shape:  (2875,)\n",
      "0      2018-01-01 00:00:00\n",
      "1      2018-01-01 01:00:00\n",
      "2      2018-01-01 02:00:00\n",
      "3      2018-01-01 03:00:00\n",
      "4      2018-01-01 04:00:00\n",
      "               ...        \n",
      "2870   2018-04-30 14:00:00\n",
      "2871   2018-04-30 15:00:00\n",
      "2872   2018-04-30 16:00:00\n",
      "2873   2018-04-30 17:00:00\n",
      "2874   2018-04-30 18:00:00\n",
      "Name: ds, Length: 2875, dtype: datetime64[ns]\n"
     ]
    },
    {
     "name": "stderr",
     "output_type": "stream",
     "text": [
      "/usr/local/lib/python3.7/site-packages/fbprophet/forecaster.py:400: FutureWarning: The pandas.datetime class is deprecated and will be removed from pandas in a future version. Import from datetime module instead.\n",
      "  (dates - pd.datetime(1970, 1, 1))\n",
      "/usr/local/lib/python3.7/site-packages/fbprophet/forecaster.py:400: FutureWarning: The pandas.datetime class is deprecated and will be removed from pandas in a future version. Import from datetime module instead.\n",
      "  (dates - pd.datetime(1970, 1, 1))\n",
      "/usr/local/lib/python3.7/site-packages/fbprophet/forecaster.py:400: FutureWarning: The pandas.datetime class is deprecated and will be removed from pandas in a future version. Import from datetime module instead.\n",
      "  (dates - pd.datetime(1970, 1, 1))\n"
     ]
    },
    {
     "name": "stdout",
     "output_type": "stream",
     "text": [
      "(2875, 1) (2875, 1)\n",
      "-0.6668317898110023\n",
      "TIMESEGMENT:  (8612, 2) 21600 timestamp mean\n"
     ]
    },
    {
     "name": "stderr",
     "output_type": "stream",
     "text": [
      "/usr/local/lib/python3.7/site-packages/fbprophet/forecaster.py:400: FutureWarning: The pandas.datetime class is deprecated and will be removed from pandas in a future version. Import from datetime module instead.\n",
      "  (dates - pd.datetime(1970, 1, 1))\n",
      "/usr/local/lib/python3.7/site-packages/fbprophet/forecaster.py:400: FutureWarning: The pandas.datetime class is deprecated and will be removed from pandas in a future version. Import from datetime module instead.\n",
      "  (dates - pd.datetime(1970, 1, 1))\n"
     ]
    },
    {
     "name": "stdout",
     "output_type": "stream",
     "text": [
      "(8612, 1) (8612, 1)\n",
      "-2.7987888686510525\n"
     ]
    },
    {
     "name": "stderr",
     "output_type": "stream",
     "text": [
      "WARNING:orion.benchmark:Scoring pipeline prophet on signal T-2 (test split: True)\n"
     ]
    },
    {
     "name": "stdout",
     "output_type": "stream",
     "text": [
      "TRAIN:         timestamp     value\n",
      "0     1222819200  0.860697\n",
      "1     1222840800  0.890778\n",
      "2     1222862400  0.871975\n",
      "3     1222884000  0.887017\n",
      "4     1222905600  0.883256\n",
      "...          ...       ...\n",
      "2850  1284379200  0.966075\n",
      "2851  1284400800  0.966075\n",
      "2852  1284422400  0.977380\n",
      "2853  1284444000  0.966075\n",
      "2854  1284465600  0.962307\n",
      "\n",
      "[2855 rows x 2 columns]\n",
      "TEST:         timestamp     value\n",
      "0     1284487200  0.839825\n",
      "1     1284508800  0.832875\n",
      "2     1284530400  0.815506\n",
      "3     1284552000  0.805088\n",
      "4     1284573600  0.812032\n",
      "...          ...       ...\n",
      "8620  1470679200  0.701054\n",
      "8621  1470700800  0.728770\n",
      "8622  1470722400  0.711446\n",
      "8623  1470744000  0.721840\n",
      "8624  1470765600  0.739169\n",
      "\n",
      "[8625 rows x 2 columns]\n",
      "TIMESEGMENT:  (2855, 2) 21600 timestamp mean\n",
      "(2855, 1) (2855,) [1222819200 1222840800 1222862400 1222884000 1222905600 1222927200\n",
      " 1222948800 1222970400 1222992000 1223013600]\n",
      "X shape:  (2855, 1)\n",
      "index shape:  (2855,)\n",
      "0      2018-01-01 00:00:00\n",
      "1      2018-01-01 01:00:00\n",
      "2      2018-01-01 02:00:00\n",
      "3      2018-01-01 03:00:00\n",
      "4      2018-01-01 04:00:00\n",
      "               ...        \n",
      "2850   2018-04-29 18:00:00\n",
      "2851   2018-04-29 19:00:00\n",
      "2852   2018-04-29 20:00:00\n",
      "2853   2018-04-29 21:00:00\n",
      "2854   2018-04-29 22:00:00\n",
      "Name: ds, Length: 2855, dtype: datetime64[ns]\n"
     ]
    },
    {
     "name": "stderr",
     "output_type": "stream",
     "text": [
      "/usr/local/lib/python3.7/site-packages/fbprophet/forecaster.py:400: FutureWarning: The pandas.datetime class is deprecated and will be removed from pandas in a future version. Import from datetime module instead.\n",
      "  (dates - pd.datetime(1970, 1, 1))\n",
      "/usr/local/lib/python3.7/site-packages/fbprophet/forecaster.py:400: FutureWarning: The pandas.datetime class is deprecated and will be removed from pandas in a future version. Import from datetime module instead.\n",
      "  (dates - pd.datetime(1970, 1, 1))\n",
      "/usr/local/lib/python3.7/site-packages/fbprophet/forecaster.py:400: FutureWarning: The pandas.datetime class is deprecated and will be removed from pandas in a future version. Import from datetime module instead.\n",
      "  (dates - pd.datetime(1970, 1, 1))\n"
     ]
    },
    {
     "name": "stdout",
     "output_type": "stream",
     "text": [
      "(2855, 1) (2855, 1)\n",
      "-0.4587430164946298\n",
      "TIMESEGMENT:  (8625, 2) 21600 timestamp mean\n"
     ]
    },
    {
     "name": "stderr",
     "output_type": "stream",
     "text": [
      "/usr/local/lib/python3.7/site-packages/fbprophet/forecaster.py:400: FutureWarning: The pandas.datetime class is deprecated and will be removed from pandas in a future version. Import from datetime module instead.\n",
      "  (dates - pd.datetime(1970, 1, 1))\n",
      "/usr/local/lib/python3.7/site-packages/fbprophet/forecaster.py:400: FutureWarning: The pandas.datetime class is deprecated and will be removed from pandas in a future version. Import from datetime module instead.\n",
      "  (dates - pd.datetime(1970, 1, 1))\n"
     ]
    },
    {
     "name": "stdout",
     "output_type": "stream",
     "text": [
      "(8625, 1) (8625, 1)\n",
      "-1.2224767514670307\n"
     ]
    },
    {
     "name": "stderr",
     "output_type": "stream",
     "text": [
      "WARNING:orion.benchmark:Scoring pipeline prophet on signal D-8 (test split: True)\n"
     ]
    },
    {
     "name": "stdout",
     "output_type": "stream",
     "text": [
      "TRAIN:         timestamp  value\n",
      "0     1222819200   -1.0\n",
      "1     1222840800   -1.0\n",
      "2     1222862400   -1.0\n",
      "3     1222884000   -1.0\n",
      "4     1222905600   -1.0\n",
      "...          ...    ...\n",
      "2597  1278914400   -1.0\n",
      "2598  1278936000   -1.0\n",
      "2599  1278957600   -1.0\n",
      "2600  1278979200   -1.0\n",
      "2601  1279000800   -1.0\n",
      "\n",
      "[2602 rows x 2 columns]\n",
      "TEST:         timestamp  value\n",
      "0     1279022400   -1.0\n",
      "1     1279044000   -1.0\n",
      "2     1279065600   -1.0\n",
      "3     1279087200   -1.0\n",
      "4     1279108800   -1.0\n",
      "...          ...    ...\n",
      "7869  1448992800   -1.0\n",
      "7870  1449014400   -1.0\n",
      "7871  1449036000   -1.0\n",
      "7872  1449057600   -1.0\n",
      "7873  1449079200   -1.0\n",
      "\n",
      "[7874 rows x 2 columns]\n",
      "TIMESEGMENT:  (2602, 2) 21600 timestamp mean\n",
      "(2602, 1) (2602,) [1222819200 1222840800 1222862400 1222884000 1222905600 1222927200\n",
      " 1222948800 1222970400 1222992000 1223013600]\n",
      "X shape:  (2602, 1)\n",
      "index shape:  (2602,)\n",
      "0      2018-01-01 00:00:00\n",
      "1      2018-01-01 01:00:00\n",
      "2      2018-01-01 02:00:00\n",
      "3      2018-01-01 03:00:00\n",
      "4      2018-01-01 04:00:00\n",
      "               ...        \n",
      "2597   2018-04-19 05:00:00\n",
      "2598   2018-04-19 06:00:00\n",
      "2599   2018-04-19 07:00:00\n",
      "2600   2018-04-19 08:00:00\n",
      "2601   2018-04-19 09:00:00\n",
      "Name: ds, Length: 2602, dtype: datetime64[ns]\n"
     ]
    },
    {
     "name": "stderr",
     "output_type": "stream",
     "text": [
      "/usr/local/lib/python3.7/site-packages/fbprophet/forecaster.py:400: FutureWarning: The pandas.datetime class is deprecated and will be removed from pandas in a future version. Import from datetime module instead.\n",
      "  (dates - pd.datetime(1970, 1, 1))\n",
      "/usr/local/lib/python3.7/site-packages/fbprophet/forecaster.py:400: FutureWarning: The pandas.datetime class is deprecated and will be removed from pandas in a future version. Import from datetime module instead.\n",
      "  (dates - pd.datetime(1970, 1, 1))\n",
      "/usr/local/lib/python3.7/site-packages/fbprophet/forecaster.py:400: FutureWarning: The pandas.datetime class is deprecated and will be removed from pandas in a future version. Import from datetime module instead.\n",
      "  (dates - pd.datetime(1970, 1, 1))\n"
     ]
    },
    {
     "name": "stdout",
     "output_type": "stream",
     "text": [
      "(2602, 1) (2602, 1)\n",
      "1.0\n",
      "TIMESEGMENT:  (7874, 2) 21600 timestamp mean\n"
     ]
    },
    {
     "name": "stderr",
     "output_type": "stream",
     "text": [
      "/usr/local/lib/python3.7/site-packages/fbprophet/forecaster.py:400: FutureWarning: The pandas.datetime class is deprecated and will be removed from pandas in a future version. Import from datetime module instead.\n",
      "  (dates - pd.datetime(1970, 1, 1))\n",
      "/usr/local/lib/python3.7/site-packages/fbprophet/forecaster.py:400: FutureWarning: The pandas.datetime class is deprecated and will be removed from pandas in a future version. Import from datetime module instead.\n",
      "  (dates - pd.datetime(1970, 1, 1))\n"
     ]
    },
    {
     "name": "stdout",
     "output_type": "stream",
     "text": [
      "(7874, 1) (7874, 1)\n",
      "-0.0001270163851136985\n"
     ]
    },
    {
     "name": "stderr",
     "output_type": "stream",
     "text": [
      "WARNING:orion.benchmark:Scoring pipeline prophet on signal D-9 (test split: True)\n"
     ]
    },
    {
     "name": "stdout",
     "output_type": "stream",
     "text": [
      "TRAIN:         timestamp  value\n",
      "0     1222819200   -1.0\n",
      "1     1222840800   -1.0\n",
      "2     1222862400   -1.0\n",
      "3     1222884000   -1.0\n",
      "4     1222905600   -1.0\n",
      "...          ...    ...\n",
      "2578  1278504000   -1.0\n",
      "2579  1278525600   -1.0\n",
      "2580  1278547200   -1.0\n",
      "2581  1278568800   -1.0\n",
      "2582  1278590400   -1.0\n",
      "\n",
      "[2583 rows x 2 columns]\n",
      "TEST:         timestamp  value\n",
      "0     1278612000   -1.0\n",
      "1     1278633600   -1.0\n",
      "2     1278655200   -1.0\n",
      "3     1278676800   -1.0\n",
      "4     1278698400   -1.0\n",
      "...          ...    ...\n",
      "7401  1438473600   -1.0\n",
      "7402  1438495200   -1.0\n",
      "7403  1438516800   -1.0\n",
      "7404  1438538400   -1.0\n",
      "7405  1438560000   -1.0\n",
      "\n",
      "[7406 rows x 2 columns]\n",
      "TIMESEGMENT:  (2583, 2) 21600 timestamp mean\n",
      "(2583, 1) (2583,) [1222819200 1222840800 1222862400 1222884000 1222905600 1222927200\n",
      " 1222948800 1222970400 1222992000 1223013600]\n",
      "X shape:  (2583, 1)\n",
      "index shape:  (2583,)\n",
      "0      2018-01-01 00:00:00\n",
      "1      2018-01-01 01:00:00\n",
      "2      2018-01-01 02:00:00\n",
      "3      2018-01-01 03:00:00\n",
      "4      2018-01-01 04:00:00\n",
      "               ...        \n",
      "2578   2018-04-18 10:00:00\n",
      "2579   2018-04-18 11:00:00\n",
      "2580   2018-04-18 12:00:00\n",
      "2581   2018-04-18 13:00:00\n",
      "2582   2018-04-18 14:00:00\n",
      "Name: ds, Length: 2583, dtype: datetime64[ns]\n"
     ]
    },
    {
     "name": "stderr",
     "output_type": "stream",
     "text": [
      "/usr/local/lib/python3.7/site-packages/fbprophet/forecaster.py:400: FutureWarning: The pandas.datetime class is deprecated and will be removed from pandas in a future version. Import from datetime module instead.\n",
      "  (dates - pd.datetime(1970, 1, 1))\n",
      "/usr/local/lib/python3.7/site-packages/fbprophet/forecaster.py:400: FutureWarning: The pandas.datetime class is deprecated and will be removed from pandas in a future version. Import from datetime module instead.\n",
      "  (dates - pd.datetime(1970, 1, 1))\n",
      "/usr/local/lib/python3.7/site-packages/fbprophet/forecaster.py:400: FutureWarning: The pandas.datetime class is deprecated and will be removed from pandas in a future version. Import from datetime module instead.\n",
      "  (dates - pd.datetime(1970, 1, 1))\n"
     ]
    },
    {
     "name": "stdout",
     "output_type": "stream",
     "text": [
      "(2583, 1) (2583, 1)\n",
      "1.0\n",
      "TIMESEGMENT:  (7406, 2) 21600 timestamp mean\n"
     ]
    },
    {
     "name": "stderr",
     "output_type": "stream",
     "text": [
      "/usr/local/lib/python3.7/site-packages/fbprophet/forecaster.py:400: FutureWarning: The pandas.datetime class is deprecated and will be removed from pandas in a future version. Import from datetime module instead.\n",
      "  (dates - pd.datetime(1970, 1, 1))\n",
      "/usr/local/lib/python3.7/site-packages/fbprophet/forecaster.py:400: FutureWarning: The pandas.datetime class is deprecated and will be removed from pandas in a future version. Import from datetime module instead.\n",
      "  (dates - pd.datetime(1970, 1, 1))\n"
     ]
    },
    {
     "name": "stdout",
     "output_type": "stream",
     "text": [
      "(7406, 1) (7406, 1)\n",
      "-0.1407886629698094\n"
     ]
    },
    {
     "name": "stderr",
     "output_type": "stream",
     "text": [
      "WARNING:orion.benchmark:Scoring pipeline prophet on signal F-2 (test split: True)\n"
     ]
    },
    {
     "name": "stdout",
     "output_type": "stream",
     "text": [
      "TRAIN:         timestamp     value\n",
      "0     1222819200 -0.514479\n",
      "1     1222840800 -0.145005\n",
      "2     1222862400 -0.511832\n",
      "3     1222884000 -0.506882\n",
      "4     1222905600 -0.503404\n",
      "...          ...       ...\n",
      "2856  1284508800 -0.509489\n",
      "2857  1284530400 -0.515007\n",
      "2858  1284552000 -0.511164\n",
      "2859  1284573600 -0.517709\n",
      "2860  1284595200 -0.513247\n",
      "\n",
      "[2861 rows x 2 columns]\n",
      "TEST:         timestamp     value\n",
      "0     1284616800 -0.493486\n",
      "1     1284638400 -0.530357\n",
      "2     1284660000 -0.529536\n",
      "3     1284681600 -0.529704\n",
      "4     1284703200 -0.523133\n",
      "...          ...       ...\n",
      "8621  1470830400 -0.521564\n",
      "8622  1470852000 -0.523746\n",
      "8623  1470873600 -0.515515\n",
      "8624  1470895200 -0.319561\n",
      "8625  1470916800 -0.515178\n",
      "\n",
      "[8626 rows x 2 columns]\n",
      "TIMESEGMENT:  (2861, 2) 21600 timestamp mean\n",
      "(2861, 1) (2861,) [1222819200 1222840800 1222862400 1222884000 1222905600 1222927200\n",
      " 1222948800 1222970400 1222992000 1223013600]\n",
      "X shape:  (2861, 1)\n",
      "index shape:  (2861,)\n",
      "0      2018-01-01 00:00:00\n",
      "1      2018-01-01 01:00:00\n",
      "2      2018-01-01 02:00:00\n",
      "3      2018-01-01 03:00:00\n",
      "4      2018-01-01 04:00:00\n",
      "               ...        \n",
      "2856   2018-04-30 00:00:00\n",
      "2857   2018-04-30 01:00:00\n",
      "2858   2018-04-30 02:00:00\n",
      "2859   2018-04-30 03:00:00\n",
      "2860   2018-04-30 04:00:00\n",
      "Name: ds, Length: 2861, dtype: datetime64[ns]\n"
     ]
    },
    {
     "name": "stderr",
     "output_type": "stream",
     "text": [
      "/usr/local/lib/python3.7/site-packages/fbprophet/forecaster.py:400: FutureWarning: The pandas.datetime class is deprecated and will be removed from pandas in a future version. Import from datetime module instead.\n",
      "  (dates - pd.datetime(1970, 1, 1))\n",
      "/usr/local/lib/python3.7/site-packages/fbprophet/forecaster.py:400: FutureWarning: The pandas.datetime class is deprecated and will be removed from pandas in a future version. Import from datetime module instead.\n",
      "  (dates - pd.datetime(1970, 1, 1))\n",
      "/usr/local/lib/python3.7/site-packages/fbprophet/forecaster.py:400: FutureWarning: The pandas.datetime class is deprecated and will be removed from pandas in a future version. Import from datetime module instead.\n",
      "  (dates - pd.datetime(1970, 1, 1))\n"
     ]
    },
    {
     "name": "stdout",
     "output_type": "stream",
     "text": [
      "(2861, 1) (2861, 1)\n",
      "-0.10333625528850243\n",
      "TIMESEGMENT:  (8626, 2) 21600 timestamp mean\n"
     ]
    },
    {
     "name": "stderr",
     "output_type": "stream",
     "text": [
      "/usr/local/lib/python3.7/site-packages/fbprophet/forecaster.py:400: FutureWarning: The pandas.datetime class is deprecated and will be removed from pandas in a future version. Import from datetime module instead.\n",
      "  (dates - pd.datetime(1970, 1, 1))\n",
      "/usr/local/lib/python3.7/site-packages/fbprophet/forecaster.py:400: FutureWarning: The pandas.datetime class is deprecated and will be removed from pandas in a future version. Import from datetime module instead.\n",
      "  (dates - pd.datetime(1970, 1, 1))\n"
     ]
    },
    {
     "name": "stdout",
     "output_type": "stream",
     "text": [
      "(8626, 1) (8626, 1)\n",
      "-0.03351200257804221\n"
     ]
    },
    {
     "name": "stderr",
     "output_type": "stream",
     "text": [
      "WARNING:orion.benchmark:Scoring pipeline prophet on signal G-4 (test split: True)\n"
     ]
    },
    {
     "name": "stdout",
     "output_type": "stream",
     "text": [
      "TRAIN:         timestamp  value\n",
      "0     1222819200   0.98\n",
      "1     1222840800   0.98\n",
      "2     1222862400   0.98\n",
      "3     1222884000   0.98\n",
      "4     1222905600   0.98\n",
      "...          ...    ...\n",
      "2546  1277812800   0.98\n",
      "2547  1277834400   0.98\n",
      "2548  1277856000   1.00\n",
      "2549  1277877600   1.00\n",
      "2550  1277899200   1.00\n",
      "\n",
      "[2551 rows x 2 columns]\n",
      "TEST:         timestamp  value\n",
      "0     1277920800   1.00\n",
      "1     1277942400   1.00\n",
      "2     1277964000   1.00\n",
      "3     1277985600   1.00\n",
      "4     1278007200   1.00\n",
      "...          ...    ...\n",
      "7627  1442664000   0.98\n",
      "7628  1442685600   1.00\n",
      "7629  1442707200   0.98\n",
      "7630  1442728800   0.98\n",
      "7631  1442750400   0.98\n",
      "\n",
      "[7632 rows x 2 columns]\n",
      "TIMESEGMENT:  (2551, 2) 21600 timestamp mean\n",
      "(2551, 1) (2551,) [1222819200 1222840800 1222862400 1222884000 1222905600 1222927200\n",
      " 1222948800 1222970400 1222992000 1223013600]\n",
      "X shape:  (2551, 1)\n",
      "index shape:  (2551,)\n",
      "0      2018-01-01 00:00:00\n",
      "1      2018-01-01 01:00:00\n",
      "2      2018-01-01 02:00:00\n",
      "3      2018-01-01 03:00:00\n",
      "4      2018-01-01 04:00:00\n",
      "               ...        \n",
      "2546   2018-04-17 02:00:00\n",
      "2547   2018-04-17 03:00:00\n",
      "2548   2018-04-17 04:00:00\n",
      "2549   2018-04-17 05:00:00\n",
      "2550   2018-04-17 06:00:00\n",
      "Name: ds, Length: 2551, dtype: datetime64[ns]\n"
     ]
    },
    {
     "name": "stderr",
     "output_type": "stream",
     "text": [
      "/usr/local/lib/python3.7/site-packages/fbprophet/forecaster.py:400: FutureWarning: The pandas.datetime class is deprecated and will be removed from pandas in a future version. Import from datetime module instead.\n",
      "  (dates - pd.datetime(1970, 1, 1))\n",
      "/usr/local/lib/python3.7/site-packages/fbprophet/forecaster.py:400: FutureWarning: The pandas.datetime class is deprecated and will be removed from pandas in a future version. Import from datetime module instead.\n",
      "  (dates - pd.datetime(1970, 1, 1))\n",
      "/usr/local/lib/python3.7/site-packages/fbprophet/forecaster.py:400: FutureWarning: The pandas.datetime class is deprecated and will be removed from pandas in a future version. Import from datetime module instead.\n",
      "  (dates - pd.datetime(1970, 1, 1))\n"
     ]
    },
    {
     "name": "stdout",
     "output_type": "stream",
     "text": [
      "(2551, 1) (2551, 1)\n",
      "-23.522410493001452\n",
      "TIMESEGMENT:  (7632, 2) 21600 timestamp mean\n"
     ]
    },
    {
     "name": "stderr",
     "output_type": "stream",
     "text": [
      "/usr/local/lib/python3.7/site-packages/fbprophet/forecaster.py:400: FutureWarning: The pandas.datetime class is deprecated and will be removed from pandas in a future version. Import from datetime module instead.\n",
      "  (dates - pd.datetime(1970, 1, 1))\n",
      "/usr/local/lib/python3.7/site-packages/fbprophet/forecaster.py:400: FutureWarning: The pandas.datetime class is deprecated and will be removed from pandas in a future version. Import from datetime module instead.\n",
      "  (dates - pd.datetime(1970, 1, 1))\n"
     ]
    },
    {
     "name": "stdout",
     "output_type": "stream",
     "text": [
      "(7632, 1) (7632, 1)\n",
      "-2.0522711378959833\n"
     ]
    },
    {
     "name": "stderr",
     "output_type": "stream",
     "text": [
      "WARNING:orion.benchmark:Scoring pipeline prophet on signal T-3 (test split: True)\n"
     ]
    },
    {
     "name": "stdout",
     "output_type": "stream",
     "text": [
      "TRAIN:         timestamp     value\n",
      "0     1222819200  0.991334\n",
      "1     1222840800  0.994912\n",
      "2     1222862400  0.994912\n",
      "3     1222884000  0.994912\n",
      "4     1222905600  0.994912\n",
      "...          ...       ...\n",
      "2871  1284832800  0.991334\n",
      "2872  1284854400  0.987756\n",
      "2873  1284876000  0.987756\n",
      "2874  1284897600  0.984179\n",
      "2875  1284919200  0.984179\n",
      "\n",
      "[2876 rows x 2 columns]\n",
      "TEST:         timestamp     value\n",
      "0     1284940800  0.983370\n",
      "1     1284962400  0.980305\n",
      "2     1284984000  0.977240\n",
      "3     1285005600  0.974177\n",
      "4     1285027200  0.974177\n",
      "...          ...       ...\n",
      "8574  1470139200  0.992570\n",
      "8575  1470160800  0.992570\n",
      "8576  1470182400  0.992570\n",
      "8577  1470204000  0.995638\n",
      "8578  1470225600  0.995638\n",
      "\n",
      "[8579 rows x 2 columns]\n",
      "TIMESEGMENT:  (2876, 2) 21600 timestamp mean\n",
      "(2876, 1) (2876,) [1222819200 1222840800 1222862400 1222884000 1222905600 1222927200\n",
      " 1222948800 1222970400 1222992000 1223013600]\n",
      "X shape:  (2876, 1)\n",
      "index shape:  (2876,)\n",
      "0      2018-01-01 00:00:00\n",
      "1      2018-01-01 01:00:00\n",
      "2      2018-01-01 02:00:00\n",
      "3      2018-01-01 03:00:00\n",
      "4      2018-01-01 04:00:00\n",
      "               ...        \n",
      "2871   2018-04-30 15:00:00\n",
      "2872   2018-04-30 16:00:00\n",
      "2873   2018-04-30 17:00:00\n",
      "2874   2018-04-30 18:00:00\n",
      "2875   2018-04-30 19:00:00\n",
      "Name: ds, Length: 2876, dtype: datetime64[ns]\n"
     ]
    },
    {
     "name": "stderr",
     "output_type": "stream",
     "text": [
      "/usr/local/lib/python3.7/site-packages/fbprophet/forecaster.py:400: FutureWarning: The pandas.datetime class is deprecated and will be removed from pandas in a future version. Import from datetime module instead.\n",
      "  (dates - pd.datetime(1970, 1, 1))\n",
      "/usr/local/lib/python3.7/site-packages/fbprophet/forecaster.py:400: FutureWarning: The pandas.datetime class is deprecated and will be removed from pandas in a future version. Import from datetime module instead.\n",
      "  (dates - pd.datetime(1970, 1, 1))\n",
      "/usr/local/lib/python3.7/site-packages/fbprophet/forecaster.py:400: FutureWarning: The pandas.datetime class is deprecated and will be removed from pandas in a future version. Import from datetime module instead.\n",
      "  (dates - pd.datetime(1970, 1, 1))\n"
     ]
    },
    {
     "name": "stdout",
     "output_type": "stream",
     "text": [
      "(2876, 1) (2876, 1)\n",
      "-7.694257693205502\n",
      "TIMESEGMENT:  (8579, 2) 21600 timestamp mean\n"
     ]
    },
    {
     "name": "stderr",
     "output_type": "stream",
     "text": [
      "/usr/local/lib/python3.7/site-packages/fbprophet/forecaster.py:400: FutureWarning: The pandas.datetime class is deprecated and will be removed from pandas in a future version. Import from datetime module instead.\n",
      "  (dates - pd.datetime(1970, 1, 1))\n",
      "/usr/local/lib/python3.7/site-packages/fbprophet/forecaster.py:400: FutureWarning: The pandas.datetime class is deprecated and will be removed from pandas in a future version. Import from datetime module instead.\n",
      "  (dates - pd.datetime(1970, 1, 1))\n"
     ]
    },
    {
     "name": "stdout",
     "output_type": "stream",
     "text": [
      "(8579, 1) (8579, 1)\n",
      "-1.4008953087332316\n"
     ]
    },
    {
     "name": "stderr",
     "output_type": "stream",
     "text": [
      "WARNING:orion.benchmark:Scoring pipeline prophet on signal D-11 (test split: True)\n"
     ]
    },
    {
     "name": "stdout",
     "output_type": "stream",
     "text": [
      "TRAIN:         timestamp  value\n",
      "0     1222819200   -1.0\n",
      "1     1222840800   -1.0\n",
      "2     1222862400   -1.0\n",
      "3     1222884000   -1.0\n",
      "4     1222905600   -1.0\n",
      "...          ...    ...\n",
      "2606  1279108800    1.0\n",
      "2607  1279130400    1.0\n",
      "2608  1279152000    1.0\n",
      "2609  1279173600    1.0\n",
      "2610  1279195200    1.0\n",
      "\n",
      "[2611 rows x 2 columns]\n",
      "TEST:         timestamp  value\n",
      "0     1279216800   -1.0\n",
      "1     1279238400   -1.0\n",
      "2     1279260000   -1.0\n",
      "3     1279281600   -1.0\n",
      "4     1279303200   -1.0\n",
      "...          ...    ...\n",
      "7426  1439618400    1.0\n",
      "7427  1439640000    1.0\n",
      "7428  1439661600    1.0\n",
      "7429  1439683200    1.0\n",
      "7430  1439704800    1.0\n",
      "\n",
      "[7431 rows x 2 columns]\n",
      "TIMESEGMENT:  (2611, 2) 21600 timestamp mean\n",
      "(2611, 1) (2611,) [1222819200 1222840800 1222862400 1222884000 1222905600 1222927200\n",
      " 1222948800 1222970400 1222992000 1223013600]\n",
      "X shape:  (2611, 1)\n",
      "index shape:  (2611,)\n",
      "0      2018-01-01 00:00:00\n",
      "1      2018-01-01 01:00:00\n",
      "2      2018-01-01 02:00:00\n",
      "3      2018-01-01 03:00:00\n",
      "4      2018-01-01 04:00:00\n",
      "               ...        \n",
      "2606   2018-04-19 14:00:00\n",
      "2607   2018-04-19 15:00:00\n",
      "2608   2018-04-19 16:00:00\n",
      "2609   2018-04-19 17:00:00\n",
      "2610   2018-04-19 18:00:00\n",
      "Name: ds, Length: 2611, dtype: datetime64[ns]\n"
     ]
    },
    {
     "name": "stderr",
     "output_type": "stream",
     "text": [
      "/usr/local/lib/python3.7/site-packages/fbprophet/forecaster.py:400: FutureWarning: The pandas.datetime class is deprecated and will be removed from pandas in a future version. Import from datetime module instead.\n",
      "  (dates - pd.datetime(1970, 1, 1))\n",
      "/usr/local/lib/python3.7/site-packages/fbprophet/forecaster.py:400: FutureWarning: The pandas.datetime class is deprecated and will be removed from pandas in a future version. Import from datetime module instead.\n",
      "  (dates - pd.datetime(1970, 1, 1))\n",
      "/usr/local/lib/python3.7/site-packages/fbprophet/forecaster.py:400: FutureWarning: The pandas.datetime class is deprecated and will be removed from pandas in a future version. Import from datetime module instead.\n",
      "  (dates - pd.datetime(1970, 1, 1))\n"
     ]
    },
    {
     "name": "stdout",
     "output_type": "stream",
     "text": [
      "(2611, 1) (2611, 1)\n",
      "-15.45404258312185\n",
      "TIMESEGMENT:  (7431, 2) 21600 timestamp mean\n"
     ]
    },
    {
     "name": "stderr",
     "output_type": "stream",
     "text": [
      "/usr/local/lib/python3.7/site-packages/fbprophet/forecaster.py:400: FutureWarning: The pandas.datetime class is deprecated and will be removed from pandas in a future version. Import from datetime module instead.\n",
      "  (dates - pd.datetime(1970, 1, 1))\n",
      "/usr/local/lib/python3.7/site-packages/fbprophet/forecaster.py:400: FutureWarning: The pandas.datetime class is deprecated and will be removed from pandas in a future version. Import from datetime module instead.\n",
      "  (dates - pd.datetime(1970, 1, 1))\n"
     ]
    },
    {
     "name": "stdout",
     "output_type": "stream",
     "text": [
      "(7431, 1) (7431, 1)\n",
      "-21.07970457556724\n"
     ]
    },
    {
     "name": "stderr",
     "output_type": "stream",
     "text": [
      "WARNING:orion.benchmark:Scoring pipeline prophet on signal D-12 (test split: True)\n"
     ]
    },
    {
     "name": "stdout",
     "output_type": "stream",
     "text": [
      "TRAIN:        timestamp  value\n",
      "0    1222819200   -1.0\n",
      "1    1222840800   -1.0\n",
      "2    1222862400   -1.0\n",
      "3    1222884000   -1.0\n",
      "4    1222905600   -1.0\n",
      "..          ...    ...\n",
      "307  1229450400   -1.0\n",
      "308  1229472000   -1.0\n",
      "309  1229493600   -1.0\n",
      "310  1229515200   -1.0\n",
      "311  1229536800   -1.0\n",
      "\n",
      "[312 rows x 2 columns]\n",
      "TEST:         timestamp  value\n",
      "0     1229558400   -1.0\n",
      "1     1229580000   -1.0\n",
      "2     1229601600   -1.0\n",
      "3     1229623200   -1.0\n",
      "4     1229644800   -1.0\n",
      "...          ...    ...\n",
      "7913  1400479200    1.0\n",
      "7914  1400500800    1.0\n",
      "7915  1400522400    1.0\n",
      "7916  1400544000    1.0\n",
      "7917  1400565600    1.0\n",
      "\n",
      "[7918 rows x 2 columns]\n",
      "TIMESEGMENT:  (312, 2) 21600 timestamp mean\n",
      "(312, 1) (312,) [1222819200 1222840800 1222862400 1222884000 1222905600 1222927200\n",
      " 1222948800 1222970400 1222992000 1223013600]\n",
      "X shape:  (312, 1)\n",
      "index shape:  (312,)\n",
      "0     2018-01-01 00:00:00\n",
      "1     2018-01-01 01:00:00\n",
      "2     2018-01-01 02:00:00\n",
      "3     2018-01-01 03:00:00\n",
      "4     2018-01-01 04:00:00\n",
      "              ...        \n",
      "307   2018-01-13 19:00:00\n",
      "308   2018-01-13 20:00:00\n",
      "309   2018-01-13 21:00:00\n",
      "310   2018-01-13 22:00:00\n",
      "311   2018-01-13 23:00:00\n",
      "Name: ds, Length: 312, dtype: datetime64[ns]\n"
     ]
    },
    {
     "name": "stderr",
     "output_type": "stream",
     "text": [
      "/usr/local/lib/python3.7/site-packages/fbprophet/forecaster.py:400: FutureWarning: The pandas.datetime class is deprecated and will be removed from pandas in a future version. Import from datetime module instead.\n",
      "  (dates - pd.datetime(1970, 1, 1))\n",
      "/usr/local/lib/python3.7/site-packages/fbprophet/forecaster.py:400: FutureWarning: The pandas.datetime class is deprecated and will be removed from pandas in a future version. Import from datetime module instead.\n",
      "  (dates - pd.datetime(1970, 1, 1))\n",
      "/usr/local/lib/python3.7/site-packages/fbprophet/forecaster.py:400: FutureWarning: The pandas.datetime class is deprecated and will be removed from pandas in a future version. Import from datetime module instead.\n",
      "  (dates - pd.datetime(1970, 1, 1))\n"
     ]
    },
    {
     "name": "stdout",
     "output_type": "stream",
     "text": [
      "(312, 1) (312, 1)\n",
      "1.0\n",
      "TIMESEGMENT:  (7918, 2) 21600 timestamp mean\n"
     ]
    },
    {
     "name": "stderr",
     "output_type": "stream",
     "text": [
      "/usr/local/lib/python3.7/site-packages/fbprophet/forecaster.py:400: FutureWarning: The pandas.datetime class is deprecated and will be removed from pandas in a future version. Import from datetime module instead.\n",
      "  (dates - pd.datetime(1970, 1, 1))\n",
      "/usr/local/lib/python3.7/site-packages/fbprophet/forecaster.py:400: FutureWarning: The pandas.datetime class is deprecated and will be removed from pandas in a future version. Import from datetime module instead.\n",
      "  (dates - pd.datetime(1970, 1, 1))\n"
     ]
    },
    {
     "name": "stdout",
     "output_type": "stream",
     "text": [
      "(7918, 1) (7918, 1)\n",
      "-0.3228621282158386\n"
     ]
    },
    {
     "name": "stderr",
     "output_type": "stream",
     "text": [
      "WARNING:orion.benchmark:Scoring pipeline prophet on signal B-1 (test split: True)\n"
     ]
    },
    {
     "name": "stdout",
     "output_type": "stream",
     "text": [
      "TRAIN:         timestamp  value\n",
      "0     1222819200   -1.0\n",
      "1     1222840800   -1.0\n",
      "2     1222862400   -1.0\n",
      "3     1222884000   -1.0\n",
      "4     1222905600   -1.0\n",
      "...          ...    ...\n",
      "2430  1275307200   -1.0\n",
      "2431  1275328800   -1.0\n",
      "2432  1275350400   -1.0\n",
      "2433  1275372000   -1.0\n",
      "2434  1275393600   -1.0\n",
      "\n",
      "[2435 rows x 2 columns]\n",
      "TEST:         timestamp  value\n",
      "0     1275415200   -1.0\n",
      "1     1275436800   -1.0\n",
      "2     1275458400   -1.0\n",
      "3     1275480000   -1.0\n",
      "4     1275501600   -1.0\n",
      "...          ...    ...\n",
      "8039  1449057600    1.0\n",
      "8040  1449079200    1.0\n",
      "8041  1449100800    1.0\n",
      "8042  1449122400    1.0\n",
      "8043  1449144000    1.0\n",
      "\n",
      "[8044 rows x 2 columns]\n",
      "TIMESEGMENT:  (2435, 2) 21600 timestamp mean\n",
      "(2435, 1) (2435,) [1222819200 1222840800 1222862400 1222884000 1222905600 1222927200\n",
      " 1222948800 1222970400 1222992000 1223013600]\n",
      "X shape:  (2435, 1)\n",
      "index shape:  (2435,)\n",
      "0      2018-01-01 00:00:00\n",
      "1      2018-01-01 01:00:00\n",
      "2      2018-01-01 02:00:00\n",
      "3      2018-01-01 03:00:00\n",
      "4      2018-01-01 04:00:00\n",
      "               ...        \n",
      "2430   2018-04-12 06:00:00\n",
      "2431   2018-04-12 07:00:00\n",
      "2432   2018-04-12 08:00:00\n",
      "2433   2018-04-12 09:00:00\n",
      "2434   2018-04-12 10:00:00\n",
      "Name: ds, Length: 2435, dtype: datetime64[ns]\n"
     ]
    },
    {
     "name": "stderr",
     "output_type": "stream",
     "text": [
      "/usr/local/lib/python3.7/site-packages/fbprophet/forecaster.py:400: FutureWarning: The pandas.datetime class is deprecated and will be removed from pandas in a future version. Import from datetime module instead.\n",
      "  (dates - pd.datetime(1970, 1, 1))\n",
      "/usr/local/lib/python3.7/site-packages/fbprophet/forecaster.py:400: FutureWarning: The pandas.datetime class is deprecated and will be removed from pandas in a future version. Import from datetime module instead.\n",
      "  (dates - pd.datetime(1970, 1, 1))\n",
      "/usr/local/lib/python3.7/site-packages/fbprophet/forecaster.py:400: FutureWarning: The pandas.datetime class is deprecated and will be removed from pandas in a future version. Import from datetime module instead.\n",
      "  (dates - pd.datetime(1970, 1, 1))\n"
     ]
    },
    {
     "name": "stdout",
     "output_type": "stream",
     "text": [
      "(2435, 1) (2435, 1)\n",
      "1.0\n",
      "TIMESEGMENT:  (8044, 2) 21600 timestamp mean\n"
     ]
    },
    {
     "name": "stderr",
     "output_type": "stream",
     "text": [
      "/usr/local/lib/python3.7/site-packages/fbprophet/forecaster.py:400: FutureWarning: The pandas.datetime class is deprecated and will be removed from pandas in a future version. Import from datetime module instead.\n",
      "  (dates - pd.datetime(1970, 1, 1))\n",
      "/usr/local/lib/python3.7/site-packages/fbprophet/forecaster.py:400: FutureWarning: The pandas.datetime class is deprecated and will be removed from pandas in a future version. Import from datetime module instead.\n",
      "  (dates - pd.datetime(1970, 1, 1))\n"
     ]
    },
    {
     "name": "stdout",
     "output_type": "stream",
     "text": [
      "(8044, 1) (8044, 1)\n",
      "-0.5844002363600556\n"
     ]
    },
    {
     "name": "stderr",
     "output_type": "stream",
     "text": [
      "WARNING:orion.benchmark:Scoring pipeline prophet on signal G-6 (test split: True)\n"
     ]
    },
    {
     "name": "stdout",
     "output_type": "stream",
     "text": [
      "TRAIN:         timestamp     value\n",
      "0     1222819200 -1.000000\n",
      "1     1222840800 -0.999305\n",
      "2     1222862400 -0.998611\n",
      "3     1222884000 -0.997916\n",
      "4     1222905600 -0.997222\n",
      "...          ...       ...\n",
      "2876  1284940800  0.997569\n",
      "2877  1284962400  0.998264\n",
      "2878  1284984000  0.998958\n",
      "2879  1285005600  0.999653\n",
      "2880  1285027200  1.000000\n",
      "\n",
      "[2881 rows x 2 columns]\n",
      "TEST:         timestamp     value\n",
      "0     1285048800  0.502197\n",
      "1     1285070400  0.502285\n",
      "2     1285092000  0.502373\n",
      "3     1285113600  0.502461\n",
      "4     1285135200  0.502549\n",
      "...          ...       ...\n",
      "8635  1471564800 -0.737401\n",
      "8636  1471586400 -0.737313\n",
      "8637  1471608000 -0.737225\n",
      "8638  1471629600 -0.737136\n",
      "8639  1471651200 -0.737048\n",
      "\n",
      "[8640 rows x 2 columns]\n",
      "TIMESEGMENT:  (2881, 2) 21600 timestamp mean\n",
      "(2881, 1) (2881,) [1222819200 1222840800 1222862400 1222884000 1222905600 1222927200\n",
      " 1222948800 1222970400 1222992000 1223013600]\n",
      "X shape:  (2881, 1)\n",
      "index shape:  (2881,)\n",
      "0      2018-01-01 00:00:00\n",
      "1      2018-01-01 01:00:00\n",
      "2      2018-01-01 02:00:00\n",
      "3      2018-01-01 03:00:00\n",
      "4      2018-01-01 04:00:00\n",
      "               ...        \n",
      "2876   2018-04-30 20:00:00\n",
      "2877   2018-04-30 21:00:00\n",
      "2878   2018-04-30 22:00:00\n",
      "2879   2018-04-30 23:00:00\n",
      "2880   2018-05-01 00:00:00\n",
      "Name: ds, Length: 2881, dtype: datetime64[ns]\n"
     ]
    },
    {
     "name": "stderr",
     "output_type": "stream",
     "text": [
      "/usr/local/lib/python3.7/site-packages/fbprophet/forecaster.py:400: FutureWarning: The pandas.datetime class is deprecated and will be removed from pandas in a future version. Import from datetime module instead.\n",
      "  (dates - pd.datetime(1970, 1, 1))\n",
      "/usr/local/lib/python3.7/site-packages/fbprophet/forecaster.py:400: FutureWarning: The pandas.datetime class is deprecated and will be removed from pandas in a future version. Import from datetime module instead.\n",
      "  (dates - pd.datetime(1970, 1, 1))\n",
      "/usr/local/lib/python3.7/site-packages/fbprophet/forecaster.py:400: FutureWarning: The pandas.datetime class is deprecated and will be removed from pandas in a future version. Import from datetime module instead.\n",
      "  (dates - pd.datetime(1970, 1, 1))\n"
     ]
    },
    {
     "name": "stdout",
     "output_type": "stream",
     "text": [
      "(2881, 1) (2881, 1)\n",
      "-10.915646128672451\n",
      "TIMESEGMENT:  (8640, 2) 21600 timestamp mean\n"
     ]
    },
    {
     "name": "stderr",
     "output_type": "stream",
     "text": [
      "/usr/local/lib/python3.7/site-packages/fbprophet/forecaster.py:400: FutureWarning: The pandas.datetime class is deprecated and will be removed from pandas in a future version. Import from datetime module instead.\n",
      "  (dates - pd.datetime(1970, 1, 1))\n",
      "/usr/local/lib/python3.7/site-packages/fbprophet/forecaster.py:400: FutureWarning: The pandas.datetime class is deprecated and will be removed from pandas in a future version. Import from datetime module instead.\n",
      "  (dates - pd.datetime(1970, 1, 1))\n"
     ]
    },
    {
     "name": "stdout",
     "output_type": "stream",
     "text": [
      "(8640, 1) (8640, 1)\n",
      "-31.79350204979155\n"
     ]
    },
    {
     "name": "stderr",
     "output_type": "stream",
     "text": [
      "WARNING:orion.benchmark:Scoring pipeline prophet on signal G-7 (test split: True)\n"
     ]
    },
    {
     "name": "stdout",
     "output_type": "stream",
     "text": [
      "TRAIN:         timestamp  value\n",
      "0     1222819200    1.0\n",
      "1     1222840800    1.0\n",
      "2     1222862400    1.0\n",
      "3     1222884000    1.0\n",
      "4     1222905600    1.0\n",
      "...          ...    ...\n",
      "2441  1275544800    1.0\n",
      "2442  1275566400    1.0\n",
      "2443  1275588000    1.0\n",
      "2444  1275609600    1.0\n",
      "2445  1275631200    1.0\n",
      "\n",
      "[2446 rows x 2 columns]\n",
      "TEST:         timestamp  value\n",
      "0     1275652800    1.0\n",
      "1     1275674400    1.0\n",
      "2     1275696000    1.0\n",
      "3     1275717600    1.0\n",
      "4     1275739200    1.0\n",
      "...          ...    ...\n",
      "8024  1448971200    1.0\n",
      "8025  1448992800    1.0\n",
      "8026  1449014400    1.0\n",
      "8027  1449036000    1.0\n",
      "8028  1449057600    1.0\n",
      "\n",
      "[8029 rows x 2 columns]\n",
      "TIMESEGMENT:  (2446, 2) 21600 timestamp mean\n",
      "(2446, 1) (2446,) [1222819200 1222840800 1222862400 1222884000 1222905600 1222927200\n",
      " 1222948800 1222970400 1222992000 1223013600]\n",
      "X shape:  (2446, 1)\n",
      "index shape:  (2446,)\n",
      "0      2018-01-01 00:00:00\n",
      "1      2018-01-01 01:00:00\n",
      "2      2018-01-01 02:00:00\n",
      "3      2018-01-01 03:00:00\n",
      "4      2018-01-01 04:00:00\n",
      "               ...        \n",
      "2441   2018-04-12 17:00:00\n",
      "2442   2018-04-12 18:00:00\n",
      "2443   2018-04-12 19:00:00\n",
      "2444   2018-04-12 20:00:00\n",
      "2445   2018-04-12 21:00:00\n",
      "Name: ds, Length: 2446, dtype: datetime64[ns]\n"
     ]
    },
    {
     "name": "stderr",
     "output_type": "stream",
     "text": [
      "/usr/local/lib/python3.7/site-packages/fbprophet/forecaster.py:400: FutureWarning: The pandas.datetime class is deprecated and will be removed from pandas in a future version. Import from datetime module instead.\n",
      "  (dates - pd.datetime(1970, 1, 1))\n",
      "/usr/local/lib/python3.7/site-packages/fbprophet/forecaster.py:400: FutureWarning: The pandas.datetime class is deprecated and will be removed from pandas in a future version. Import from datetime module instead.\n",
      "  (dates - pd.datetime(1970, 1, 1))\n",
      "/usr/local/lib/python3.7/site-packages/fbprophet/forecaster.py:400: FutureWarning: The pandas.datetime class is deprecated and will be removed from pandas in a future version. Import from datetime module instead.\n",
      "  (dates - pd.datetime(1970, 1, 1))\n"
     ]
    },
    {
     "name": "stdout",
     "output_type": "stream",
     "text": [
      "(2446, 1) (2446, 1)\n",
      "-0.02315309874248328\n",
      "TIMESEGMENT:  (8029, 2) 21600 timestamp mean\n"
     ]
    },
    {
     "name": "stderr",
     "output_type": "stream",
     "text": [
      "/usr/local/lib/python3.7/site-packages/fbprophet/forecaster.py:400: FutureWarning: The pandas.datetime class is deprecated and will be removed from pandas in a future version. Import from datetime module instead.\n",
      "  (dates - pd.datetime(1970, 1, 1))\n",
      "/usr/local/lib/python3.7/site-packages/fbprophet/forecaster.py:400: FutureWarning: The pandas.datetime class is deprecated and will be removed from pandas in a future version. Import from datetime module instead.\n",
      "  (dates - pd.datetime(1970, 1, 1))\n"
     ]
    },
    {
     "name": "stdout",
     "output_type": "stream",
     "text": [
      "(8029, 1) (8029, 1)\n",
      "-0.02009112116299372\n"
     ]
    },
    {
     "name": "stderr",
     "output_type": "stream",
     "text": [
      "WARNING:orion.benchmark:Scoring pipeline prophet on signal P-7 (test split: True)\n"
     ]
    },
    {
     "name": "stdout",
     "output_type": "stream",
     "text": [
      "TRAIN:         timestamp     value\n",
      "0     1222819200  0.450982\n",
      "1     1222840800  0.411767\n",
      "2     1222862400  0.411767\n",
      "3     1222884000  0.372547\n",
      "4     1222905600  0.333332\n",
      "...          ...       ...\n",
      "2848  1284336000 -0.058825\n",
      "2849  1284357600 -0.098040\n",
      "2850  1284379200 -0.098040\n",
      "2851  1284400800 -0.137256\n",
      "2852  1284422400 -0.098040\n",
      "\n",
      "[2853 rows x 2 columns]\n",
      "TEST:         timestamp     value\n",
      "0     1284444000  0.016949\n",
      "1     1284465600  0.016949\n",
      "2     1284487200  0.152544\n",
      "3     1284508800 -0.016949\n",
      "4     1284530400 -0.016949\n",
      "...          ...       ...\n",
      "8066  1458669600  0.254238\n",
      "8067  1458691200  0.254238\n",
      "8068  1458712800  0.220340\n",
      "8069  1458734400  0.186442\n",
      "8070  1458756000  0.186442\n",
      "\n",
      "[8071 rows x 2 columns]\n",
      "TIMESEGMENT:  (2853, 2) 21600 timestamp mean\n",
      "(2853, 1) (2853,) [1222819200 1222840800 1222862400 1222884000 1222905600 1222927200\n",
      " 1222948800 1222970400 1222992000 1223013600]\n",
      "X shape:  (2853, 1)\n",
      "index shape:  (2853,)\n",
      "0      2018-01-01 00:00:00\n",
      "1      2018-01-01 01:00:00\n",
      "2      2018-01-01 02:00:00\n",
      "3      2018-01-01 03:00:00\n",
      "4      2018-01-01 04:00:00\n",
      "               ...        \n",
      "2848   2018-04-29 16:00:00\n",
      "2849   2018-04-29 17:00:00\n",
      "2850   2018-04-29 18:00:00\n",
      "2851   2018-04-29 19:00:00\n",
      "2852   2018-04-29 20:00:00\n",
      "Name: ds, Length: 2853, dtype: datetime64[ns]\n"
     ]
    },
    {
     "name": "stderr",
     "output_type": "stream",
     "text": [
      "/usr/local/lib/python3.7/site-packages/fbprophet/forecaster.py:400: FutureWarning: The pandas.datetime class is deprecated and will be removed from pandas in a future version. Import from datetime module instead.\n",
      "  (dates - pd.datetime(1970, 1, 1))\n",
      "/usr/local/lib/python3.7/site-packages/fbprophet/forecaster.py:400: FutureWarning: The pandas.datetime class is deprecated and will be removed from pandas in a future version. Import from datetime module instead.\n",
      "  (dates - pd.datetime(1970, 1, 1))\n",
      "/usr/local/lib/python3.7/site-packages/fbprophet/forecaster.py:400: FutureWarning: The pandas.datetime class is deprecated and will be removed from pandas in a future version. Import from datetime module instead.\n",
      "  (dates - pd.datetime(1970, 1, 1))\n"
     ]
    },
    {
     "name": "stdout",
     "output_type": "stream",
     "text": [
      "(2853, 1) (2853, 1)\n",
      "-3.044500423105683\n",
      "TIMESEGMENT:  (8071, 2) 21600 timestamp mean\n"
     ]
    },
    {
     "name": "stderr",
     "output_type": "stream",
     "text": [
      "/usr/local/lib/python3.7/site-packages/fbprophet/forecaster.py:400: FutureWarning: The pandas.datetime class is deprecated and will be removed from pandas in a future version. Import from datetime module instead.\n",
      "  (dates - pd.datetime(1970, 1, 1))\n",
      "/usr/local/lib/python3.7/site-packages/fbprophet/forecaster.py:400: FutureWarning: The pandas.datetime class is deprecated and will be removed from pandas in a future version. Import from datetime module instead.\n",
      "  (dates - pd.datetime(1970, 1, 1))\n"
     ]
    },
    {
     "name": "stdout",
     "output_type": "stream",
     "text": [
      "(8071, 1) (8071, 1)\n",
      "-17.070587384055937\n"
     ]
    },
    {
     "name": "stderr",
     "output_type": "stream",
     "text": [
      "WARNING:orion.benchmark:Scoring pipeline prophet on signal R-1 (test split: True)\n"
     ]
    },
    {
     "name": "stdout",
     "output_type": "stream",
     "text": [
      "TRAIN:         timestamp  value\n",
      "0     1222819200  0.999\n",
      "1     1222840800  0.999\n",
      "2     1222862400  0.999\n",
      "3     1222884000  0.999\n",
      "4     1222905600  0.999\n",
      "...          ...    ...\n",
      "2869  1284789600  0.999\n",
      "2870  1284811200  0.999\n",
      "2871  1284832800  0.999\n",
      "2872  1284854400  0.999\n",
      "2873  1284876000  0.999\n",
      "\n",
      "[2874 rows x 2 columns]\n",
      "TEST:         timestamp  value\n",
      "0     1284897600    1.0\n",
      "1     1284919200    1.0\n",
      "2     1284940800    1.0\n",
      "3     1284962400    1.0\n",
      "4     1284984000    1.0\n",
      "...          ...    ...\n",
      "7239  1441260000    1.0\n",
      "7240  1441281600    1.0\n",
      "7241  1441303200    1.0\n",
      "7242  1441324800    1.0\n",
      "7243  1441346400    1.0\n",
      "\n",
      "[7244 rows x 2 columns]\n",
      "TIMESEGMENT:  (2874, 2) 21600 timestamp mean\n",
      "(2874, 1) (2874,) [1222819200 1222840800 1222862400 1222884000 1222905600 1222927200\n",
      " 1222948800 1222970400 1222992000 1223013600]\n",
      "X shape:  (2874, 1)\n",
      "index shape:  (2874,)\n",
      "0      2018-01-01 00:00:00\n",
      "1      2018-01-01 01:00:00\n",
      "2      2018-01-01 02:00:00\n",
      "3      2018-01-01 03:00:00\n",
      "4      2018-01-01 04:00:00\n",
      "               ...        \n",
      "2869   2018-04-30 13:00:00\n",
      "2870   2018-04-30 14:00:00\n",
      "2871   2018-04-30 15:00:00\n",
      "2872   2018-04-30 16:00:00\n",
      "2873   2018-04-30 17:00:00\n",
      "Name: ds, Length: 2874, dtype: datetime64[ns]\n"
     ]
    },
    {
     "name": "stderr",
     "output_type": "stream",
     "text": [
      "/usr/local/lib/python3.7/site-packages/fbprophet/forecaster.py:400: FutureWarning: The pandas.datetime class is deprecated and will be removed from pandas in a future version. Import from datetime module instead.\n",
      "  (dates - pd.datetime(1970, 1, 1))\n",
      "/usr/local/lib/python3.7/site-packages/fbprophet/forecaster.py:400: FutureWarning: The pandas.datetime class is deprecated and will be removed from pandas in a future version. Import from datetime module instead.\n",
      "  (dates - pd.datetime(1970, 1, 1))\n",
      "/usr/local/lib/python3.7/site-packages/fbprophet/forecaster.py:400: FutureWarning: The pandas.datetime class is deprecated and will be removed from pandas in a future version. Import from datetime module instead.\n",
      "  (dates - pd.datetime(1970, 1, 1))\n"
     ]
    },
    {
     "name": "stdout",
     "output_type": "stream",
     "text": [
      "(2874, 1) (2874, 1)\n",
      "1.0\n",
      "TIMESEGMENT:  (7244, 2) 21600 timestamp mean\n"
     ]
    },
    {
     "name": "stderr",
     "output_type": "stream",
     "text": [
      "/usr/local/lib/python3.7/site-packages/fbprophet/forecaster.py:400: FutureWarning: The pandas.datetime class is deprecated and will be removed from pandas in a future version. Import from datetime module instead.\n",
      "  (dates - pd.datetime(1970, 1, 1))\n",
      "/usr/local/lib/python3.7/site-packages/fbprophet/forecaster.py:400: FutureWarning: The pandas.datetime class is deprecated and will be removed from pandas in a future version. Import from datetime module instead.\n",
      "  (dates - pd.datetime(1970, 1, 1))\n"
     ]
    },
    {
     "name": "stdout",
     "output_type": "stream",
     "text": [
      "(7244, 1) (7244, 1)\n",
      "-0.0009491763081594939\n"
     ]
    },
    {
     "name": "stderr",
     "output_type": "stream",
     "text": [
      "WARNING:orion.benchmark:Scoring pipeline prophet on signal A-5 (test split: True)\n"
     ]
    },
    {
     "name": "stdout",
     "output_type": "stream",
     "text": [
      "TRAIN:        timestamp     value\n",
      "0    1222819200 -0.999710\n",
      "1    1222840800 -0.999710\n",
      "2    1222862400 -0.999710\n",
      "3    1222884000 -0.999677\n",
      "4    1222905600 -0.999645\n",
      "..          ...       ...\n",
      "700  1237939200 -0.999419\n",
      "701  1237960800 -0.999419\n",
      "702  1237982400 -0.999419\n",
      "703  1238004000 -0.999419\n",
      "704  1238025600 -0.999484\n",
      "\n",
      "[705 rows x 2 columns]\n",
      "TEST:         timestamp     value\n",
      "0     1238047200 -0.998483\n",
      "1     1238068800 -0.998483\n",
      "2     1238090400 -0.997977\n",
      "3     1238112000 -0.997977\n",
      "4     1238133600 -0.998483\n",
      "...          ...       ...\n",
      "4688  1339308000  0.491654\n",
      "4689  1339329600  0.491148\n",
      "4690  1339351200  0.491148\n",
      "4691  1339372800  0.491148\n",
      "4692  1339394400  0.491148\n",
      "\n",
      "[4693 rows x 2 columns]\n",
      "TIMESEGMENT:  (705, 2) 21600 timestamp mean\n",
      "(705, 1) (705,) [1222819200 1222840800 1222862400 1222884000 1222905600 1222927200\n",
      " 1222948800 1222970400 1222992000 1223013600]\n",
      "X shape:  (705, 1)\n",
      "index shape:  (705,)\n",
      "0     2018-01-01 00:00:00\n",
      "1     2018-01-01 01:00:00\n",
      "2     2018-01-01 02:00:00\n",
      "3     2018-01-01 03:00:00\n",
      "4     2018-01-01 04:00:00\n",
      "              ...        \n",
      "700   2018-01-30 04:00:00\n",
      "701   2018-01-30 05:00:00\n",
      "702   2018-01-30 06:00:00\n",
      "703   2018-01-30 07:00:00\n",
      "704   2018-01-30 08:00:00\n",
      "Name: ds, Length: 705, dtype: datetime64[ns]\n"
     ]
    },
    {
     "name": "stderr",
     "output_type": "stream",
     "text": [
      "/usr/local/lib/python3.7/site-packages/fbprophet/forecaster.py:400: FutureWarning: The pandas.datetime class is deprecated and will be removed from pandas in a future version. Import from datetime module instead.\n",
      "  (dates - pd.datetime(1970, 1, 1))\n",
      "/usr/local/lib/python3.7/site-packages/fbprophet/forecaster.py:400: FutureWarning: The pandas.datetime class is deprecated and will be removed from pandas in a future version. Import from datetime module instead.\n",
      "  (dates - pd.datetime(1970, 1, 1))\n",
      "/usr/local/lib/python3.7/site-packages/fbprophet/forecaster.py:400: FutureWarning: The pandas.datetime class is deprecated and will be removed from pandas in a future version. Import from datetime module instead.\n",
      "  (dates - pd.datetime(1970, 1, 1))\n"
     ]
    },
    {
     "name": "stdout",
     "output_type": "stream",
     "text": [
      "(705, 1) (705, 1)\n",
      "-335.2956728380898\n",
      "TIMESEGMENT:  (4693, 2) 21600 timestamp mean\n"
     ]
    },
    {
     "name": "stderr",
     "output_type": "stream",
     "text": [
      "/usr/local/lib/python3.7/site-packages/fbprophet/forecaster.py:400: FutureWarning: The pandas.datetime class is deprecated and will be removed from pandas in a future version. Import from datetime module instead.\n",
      "  (dates - pd.datetime(1970, 1, 1))\n",
      "/usr/local/lib/python3.7/site-packages/fbprophet/forecaster.py:400: FutureWarning: The pandas.datetime class is deprecated and will be removed from pandas in a future version. Import from datetime module instead.\n",
      "  (dates - pd.datetime(1970, 1, 1))\n",
      "WARNING:orion.benchmark:Scoring pipeline prophet on signal A-6 (test split: True)\n"
     ]
    },
    {
     "name": "stdout",
     "output_type": "stream",
     "text": [
      "(4693, 1) (4693, 1)\n",
      "-0.693656420551723\n",
      "TRAIN:        timestamp     value\n",
      "0    1222819200 -0.647059\n",
      "1    1222840800 -0.647059\n",
      "2    1222862400 -0.647059\n",
      "3    1222884000 -0.647059\n",
      "4    1222905600 -0.647059\n",
      "..          ...       ...\n",
      "677  1237442400  0.764706\n",
      "678  1237464000  0.882353\n",
      "679  1237485600  1.000000\n",
      "680  1237507200  1.000000\n",
      "681  1237528800  0.882353\n",
      "\n",
      "[682 rows x 2 columns]\n",
      "TEST:         timestamp     value\n",
      "0     1237550400 -0.074627\n",
      "1     1237572000 -0.074627\n",
      "2     1237593600 -0.075124\n",
      "3     1237615200 -0.075124\n",
      "4     1237636800 -0.075124\n",
      "...          ...       ...\n",
      "4448  1333627200 -0.355721\n",
      "4449  1333648800 -0.356219\n",
      "4450  1333670400 -0.356219\n",
      "4451  1333692000 -0.356219\n",
      "4452  1333713600 -0.356219\n",
      "\n",
      "[4453 rows x 2 columns]\n",
      "TIMESEGMENT:  (682, 2) 21600 timestamp mean\n",
      "(682, 1) (682,) [1222819200 1222840800 1222862400 1222884000 1222905600 1222927200\n",
      " 1222948800 1222970400 1222992000 1223013600]\n",
      "X shape:  (682, 1)\n",
      "index shape:  (682,)\n",
      "0     2018-01-01 00:00:00\n",
      "1     2018-01-01 01:00:00\n",
      "2     2018-01-01 02:00:00\n",
      "3     2018-01-01 03:00:00\n",
      "4     2018-01-01 04:00:00\n",
      "              ...        \n",
      "677   2018-01-29 05:00:00\n",
      "678   2018-01-29 06:00:00\n",
      "679   2018-01-29 07:00:00\n",
      "680   2018-01-29 08:00:00\n",
      "681   2018-01-29 09:00:00\n",
      "Name: ds, Length: 682, dtype: datetime64[ns]\n"
     ]
    },
    {
     "name": "stderr",
     "output_type": "stream",
     "text": [
      "/usr/local/lib/python3.7/site-packages/fbprophet/forecaster.py:400: FutureWarning: The pandas.datetime class is deprecated and will be removed from pandas in a future version. Import from datetime module instead.\n",
      "  (dates - pd.datetime(1970, 1, 1))\n",
      "/usr/local/lib/python3.7/site-packages/fbprophet/forecaster.py:400: FutureWarning: The pandas.datetime class is deprecated and will be removed from pandas in a future version. Import from datetime module instead.\n",
      "  (dates - pd.datetime(1970, 1, 1))\n",
      "/usr/local/lib/python3.7/site-packages/fbprophet/forecaster.py:400: FutureWarning: The pandas.datetime class is deprecated and will be removed from pandas in a future version. Import from datetime module instead.\n",
      "  (dates - pd.datetime(1970, 1, 1))\n"
     ]
    },
    {
     "name": "stdout",
     "output_type": "stream",
     "text": [
      "(682, 1) (682, 1)\n",
      "-115.2232220134048\n",
      "TIMESEGMENT:  (4453, 2) 21600 timestamp mean\n"
     ]
    },
    {
     "name": "stderr",
     "output_type": "stream",
     "text": [
      "/usr/local/lib/python3.7/site-packages/fbprophet/forecaster.py:400: FutureWarning: The pandas.datetime class is deprecated and will be removed from pandas in a future version. Import from datetime module instead.\n",
      "  (dates - pd.datetime(1970, 1, 1))\n",
      "/usr/local/lib/python3.7/site-packages/fbprophet/forecaster.py:400: FutureWarning: The pandas.datetime class is deprecated and will be removed from pandas in a future version. Import from datetime module instead.\n",
      "  (dates - pd.datetime(1970, 1, 1))\n",
      "WARNING:orion.benchmark:Scoring pipeline prophet on signal A-7 (test split: True)\n"
     ]
    },
    {
     "name": "stdout",
     "output_type": "stream",
     "text": [
      "(4453, 1) (4453, 1)\n",
      "-1705.960360393019\n",
      "TRAIN:         timestamp     value\n",
      "0     1222819200 -0.469263\n",
      "1     1222840800 -0.562950\n",
      "2     1222862400 -0.625397\n",
      "3     1222884000 -0.719065\n",
      "4     1222905600 -0.812722\n",
      "...          ...       ...\n",
      "2874  1284897600 -0.812722\n",
      "2875  1284919200 -0.438031\n",
      "2876  1284940800 -0.031908\n",
      "2877  1284962400 -0.000658\n",
      "2878  1284984000 -0.031908\n",
      "\n",
      "[2879 rows x 2 columns]\n",
      "TEST:         timestamp     value\n",
      "0     1285005600  0.102854\n",
      "1     1285027200 -0.000596\n",
      "2     1285048800 -0.138518\n",
      "3     1285070400 -0.276416\n",
      "4     1285092000 -0.483216\n",
      "...          ...       ...\n",
      "8626  1471327200 -0.724424\n",
      "8627  1471348800 -0.793328\n",
      "8628  1471370400 -0.827778\n",
      "8629  1471392000 -0.724424\n",
      "8630  1471413600 -0.758877\n",
      "\n",
      "[8631 rows x 2 columns]\n",
      "TIMESEGMENT:  (2879, 2) 21600 timestamp mean\n",
      "(2879, 1) (2879,) [1222819200 1222840800 1222862400 1222884000 1222905600 1222927200\n",
      " 1222948800 1222970400 1222992000 1223013600]\n",
      "X shape:  (2879, 1)\n",
      "index shape:  (2879,)\n",
      "0      2018-01-01 00:00:00\n",
      "1      2018-01-01 01:00:00\n",
      "2      2018-01-01 02:00:00\n",
      "3      2018-01-01 03:00:00\n",
      "4      2018-01-01 04:00:00\n",
      "               ...        \n",
      "2874   2018-04-30 18:00:00\n",
      "2875   2018-04-30 19:00:00\n",
      "2876   2018-04-30 20:00:00\n",
      "2877   2018-04-30 21:00:00\n",
      "2878   2018-04-30 22:00:00\n",
      "Name: ds, Length: 2879, dtype: datetime64[ns]\n"
     ]
    },
    {
     "name": "stderr",
     "output_type": "stream",
     "text": [
      "/usr/local/lib/python3.7/site-packages/fbprophet/forecaster.py:400: FutureWarning: The pandas.datetime class is deprecated and will be removed from pandas in a future version. Import from datetime module instead.\n",
      "  (dates - pd.datetime(1970, 1, 1))\n",
      "/usr/local/lib/python3.7/site-packages/fbprophet/forecaster.py:400: FutureWarning: The pandas.datetime class is deprecated and will be removed from pandas in a future version. Import from datetime module instead.\n",
      "  (dates - pd.datetime(1970, 1, 1))\n",
      "/usr/local/lib/python3.7/site-packages/fbprophet/forecaster.py:400: FutureWarning: The pandas.datetime class is deprecated and will be removed from pandas in a future version. Import from datetime module instead.\n",
      "  (dates - pd.datetime(1970, 1, 1))\n"
     ]
    },
    {
     "name": "stdout",
     "output_type": "stream",
     "text": [
      "(2879, 1) (2879, 1)\n",
      "-1.670086307910751\n",
      "TIMESEGMENT:  (8631, 2) 21600 timestamp mean\n"
     ]
    },
    {
     "name": "stderr",
     "output_type": "stream",
     "text": [
      "/usr/local/lib/python3.7/site-packages/fbprophet/forecaster.py:400: FutureWarning: The pandas.datetime class is deprecated and will be removed from pandas in a future version. Import from datetime module instead.\n",
      "  (dates - pd.datetime(1970, 1, 1))\n",
      "/usr/local/lib/python3.7/site-packages/fbprophet/forecaster.py:400: FutureWarning: The pandas.datetime class is deprecated and will be removed from pandas in a future version. Import from datetime module instead.\n",
      "  (dates - pd.datetime(1970, 1, 1))\n"
     ]
    },
    {
     "name": "stdout",
     "output_type": "stream",
     "text": [
      "(8631, 1) (8631, 1)\n",
      "-7.280160434230211\n"
     ]
    },
    {
     "name": "stderr",
     "output_type": "stream",
     "text": [
      "WARNING:orion.benchmark:Scoring pipeline prophet on signal D-13 (test split: True)\n"
     ]
    },
    {
     "name": "stdout",
     "output_type": "stream",
     "text": [
      "TRAIN:         timestamp  value\n",
      "0     1222819200   -1.0\n",
      "1     1222840800   -1.0\n",
      "2     1222862400   -1.0\n",
      "3     1222884000   -1.0\n",
      "4     1222905600   -1.0\n",
      "...          ...    ...\n",
      "1485  1254895200   -1.0\n",
      "1486  1254916800   -1.0\n",
      "1487  1254938400   -1.0\n",
      "1488  1254960000   -1.0\n",
      "1489  1254981600   -1.0\n",
      "\n",
      "[1490 rows x 2 columns]\n",
      "TEST:         timestamp  value\n",
      "0     1255003200   -1.0\n",
      "1     1255024800   -1.0\n",
      "2     1255046400   -1.0\n",
      "3     1255068000   -1.0\n",
      "4     1255089600   -1.0\n",
      "...          ...    ...\n",
      "7658  1420416000    1.0\n",
      "7659  1420437600    1.0\n",
      "7660  1420459200    1.0\n",
      "7661  1420480800    1.0\n",
      "7662  1420502400    1.0\n",
      "\n",
      "[7663 rows x 2 columns]\n",
      "TIMESEGMENT:  (1490, 2) 21600 timestamp mean\n",
      "(1490, 1) (1490,) [1222819200 1222840800 1222862400 1222884000 1222905600 1222927200\n",
      " 1222948800 1222970400 1222992000 1223013600]\n",
      "X shape:  (1490, 1)\n",
      "index shape:  (1490,)\n",
      "0      2018-01-01 00:00:00\n",
      "1      2018-01-01 01:00:00\n",
      "2      2018-01-01 02:00:00\n",
      "3      2018-01-01 03:00:00\n",
      "4      2018-01-01 04:00:00\n",
      "               ...        \n",
      "1485   2018-03-03 21:00:00\n",
      "1486   2018-03-03 22:00:00\n",
      "1487   2018-03-03 23:00:00\n",
      "1488   2018-03-04 00:00:00\n",
      "1489   2018-03-04 01:00:00\n",
      "Name: ds, Length: 1490, dtype: datetime64[ns]\n"
     ]
    },
    {
     "name": "stderr",
     "output_type": "stream",
     "text": [
      "/usr/local/lib/python3.7/site-packages/fbprophet/forecaster.py:400: FutureWarning: The pandas.datetime class is deprecated and will be removed from pandas in a future version. Import from datetime module instead.\n",
      "  (dates - pd.datetime(1970, 1, 1))\n",
      "/usr/local/lib/python3.7/site-packages/fbprophet/forecaster.py:400: FutureWarning: The pandas.datetime class is deprecated and will be removed from pandas in a future version. Import from datetime module instead.\n",
      "  (dates - pd.datetime(1970, 1, 1))\n",
      "/usr/local/lib/python3.7/site-packages/fbprophet/forecaster.py:400: FutureWarning: The pandas.datetime class is deprecated and will be removed from pandas in a future version. Import from datetime module instead.\n",
      "  (dates - pd.datetime(1970, 1, 1))\n"
     ]
    },
    {
     "name": "stdout",
     "output_type": "stream",
     "text": [
      "(1490, 1) (1490, 1)\n",
      "1.0\n",
      "TIMESEGMENT:  (7663, 2) 21600 timestamp mean\n"
     ]
    },
    {
     "name": "stderr",
     "output_type": "stream",
     "text": [
      "/usr/local/lib/python3.7/site-packages/fbprophet/forecaster.py:400: FutureWarning: The pandas.datetime class is deprecated and will be removed from pandas in a future version. Import from datetime module instead.\n",
      "  (dates - pd.datetime(1970, 1, 1))\n",
      "/usr/local/lib/python3.7/site-packages/fbprophet/forecaster.py:400: FutureWarning: The pandas.datetime class is deprecated and will be removed from pandas in a future version. Import from datetime module instead.\n",
      "  (dates - pd.datetime(1970, 1, 1))\n"
     ]
    },
    {
     "name": "stdout",
     "output_type": "stream",
     "text": [
      "(7663, 1) (7663, 1)\n",
      "-0.4982365962176776\n"
     ]
    },
    {
     "name": "stderr",
     "output_type": "stream",
     "text": [
      "WARNING:orion.benchmark:Scoring pipeline prophet on signal A-8 (test split: True)\n"
     ]
    },
    {
     "name": "stdout",
     "output_type": "stream",
     "text": [
      "TRAIN:        timestamp  value\n",
      "0    1222819200    1.0\n",
      "1    1222840800    1.0\n",
      "2    1222862400    1.0\n",
      "3    1222884000    1.0\n",
      "4    1222905600    1.0\n",
      "..          ...    ...\n",
      "757  1239170400   -1.0\n",
      "758  1239192000   -1.0\n",
      "759  1239213600   -1.0\n",
      "760  1239235200   -1.0\n",
      "761  1239256800   -1.0\n",
      "\n",
      "[762 rows x 2 columns]\n",
      "TEST:         timestamp     value\n",
      "0     1239278400  0.939275\n",
      "1     1239300000  0.939275\n",
      "2     1239321600  0.939275\n",
      "3     1239343200  0.939275\n",
      "4     1239364800  0.939275\n",
      "...          ...       ...\n",
      "8370  1420070400  0.514410\n",
      "8371  1420092000  0.514410\n",
      "8372  1420113600  0.514410\n",
      "8373  1420135200  0.514410\n",
      "8374  1420156800  0.514410\n",
      "\n",
      "[8375 rows x 2 columns]\n",
      "TIMESEGMENT:  (762, 2) 21600 timestamp mean\n",
      "(762, 1) (762,) [1222819200 1222840800 1222862400 1222884000 1222905600 1222927200\n",
      " 1222948800 1222970400 1222992000 1223013600]\n",
      "X shape:  (762, 1)\n",
      "index shape:  (762,)\n",
      "0     2018-01-01 00:00:00\n",
      "1     2018-01-01 01:00:00\n",
      "2     2018-01-01 02:00:00\n",
      "3     2018-01-01 03:00:00\n",
      "4     2018-01-01 04:00:00\n",
      "              ...        \n",
      "757   2018-02-01 13:00:00\n",
      "758   2018-02-01 14:00:00\n",
      "759   2018-02-01 15:00:00\n",
      "760   2018-02-01 16:00:00\n",
      "761   2018-02-01 17:00:00\n",
      "Name: ds, Length: 762, dtype: datetime64[ns]\n"
     ]
    },
    {
     "name": "stderr",
     "output_type": "stream",
     "text": [
      "/usr/local/lib/python3.7/site-packages/fbprophet/forecaster.py:400: FutureWarning: The pandas.datetime class is deprecated and will be removed from pandas in a future version. Import from datetime module instead.\n",
      "  (dates - pd.datetime(1970, 1, 1))\n",
      "/usr/local/lib/python3.7/site-packages/fbprophet/forecaster.py:400: FutureWarning: The pandas.datetime class is deprecated and will be removed from pandas in a future version. Import from datetime module instead.\n",
      "  (dates - pd.datetime(1970, 1, 1))\n",
      "/usr/local/lib/python3.7/site-packages/fbprophet/forecaster.py:400: FutureWarning: The pandas.datetime class is deprecated and will be removed from pandas in a future version. Import from datetime module instead.\n",
      "  (dates - pd.datetime(1970, 1, 1))\n"
     ]
    },
    {
     "name": "stdout",
     "output_type": "stream",
     "text": [
      "(762, 1) (762, 1)\n",
      "-2.740038382695094\n",
      "TIMESEGMENT:  (8375, 2) 21600 timestamp mean\n"
     ]
    },
    {
     "name": "stderr",
     "output_type": "stream",
     "text": [
      "/usr/local/lib/python3.7/site-packages/fbprophet/forecaster.py:400: FutureWarning: The pandas.datetime class is deprecated and will be removed from pandas in a future version. Import from datetime module instead.\n",
      "  (dates - pd.datetime(1970, 1, 1))\n",
      "/usr/local/lib/python3.7/site-packages/fbprophet/forecaster.py:400: FutureWarning: The pandas.datetime class is deprecated and will be removed from pandas in a future version. Import from datetime module instead.\n",
      "  (dates - pd.datetime(1970, 1, 1))\n"
     ]
    },
    {
     "name": "stdout",
     "output_type": "stream",
     "text": [
      "(8375, 1) (8375, 1)\n",
      "-1198.9100528427816\n"
     ]
    },
    {
     "name": "stderr",
     "output_type": "stream",
     "text": [
      "WARNING:orion.benchmark:Scoring pipeline prophet on signal A-9 (test split: True)\n"
     ]
    },
    {
     "name": "stdout",
     "output_type": "stream",
     "text": [
      "TRAIN:        timestamp     value\n",
      "0    1222819200 -1.000000\n",
      "1    1222840800 -1.000000\n",
      "2    1222862400 -1.000000\n",
      "3    1222884000 -1.000000\n",
      "4    1222905600 -1.000000\n",
      "..          ...       ...\n",
      "757  1239170400  0.983446\n",
      "758  1239192000  0.983446\n",
      "759  1239213600  0.983446\n",
      "760  1239235200  0.983446\n",
      "761  1239256800  0.983388\n",
      "\n",
      "[762 rows x 2 columns]\n",
      "TEST:         timestamp     value\n",
      "0     1239278400  1.000000\n",
      "1     1239300000  1.000000\n",
      "2     1239321600  1.000000\n",
      "3     1239343200  0.996234\n",
      "4     1239364800  0.996234\n",
      "...          ...       ...\n",
      "8429  1421344800 -0.472052\n",
      "8430  1421366400 -0.472052\n",
      "8431  1421388000 -0.472052\n",
      "8432  1421409600 -0.468398\n",
      "8433  1421431200 -0.464742\n",
      "\n",
      "[8434 rows x 2 columns]\n",
      "TIMESEGMENT:  (762, 2) 21600 timestamp mean\n",
      "(762, 1) (762,) [1222819200 1222840800 1222862400 1222884000 1222905600 1222927200\n",
      " 1222948800 1222970400 1222992000 1223013600]\n",
      "X shape:  (762, 1)\n",
      "index shape:  (762,)\n",
      "0     2018-01-01 00:00:00\n",
      "1     2018-01-01 01:00:00\n",
      "2     2018-01-01 02:00:00\n",
      "3     2018-01-01 03:00:00\n",
      "4     2018-01-01 04:00:00\n",
      "              ...        \n",
      "757   2018-02-01 13:00:00\n",
      "758   2018-02-01 14:00:00\n",
      "759   2018-02-01 15:00:00\n",
      "760   2018-02-01 16:00:00\n",
      "761   2018-02-01 17:00:00\n",
      "Name: ds, Length: 762, dtype: datetime64[ns]\n"
     ]
    },
    {
     "name": "stderr",
     "output_type": "stream",
     "text": [
      "/usr/local/lib/python3.7/site-packages/fbprophet/forecaster.py:400: FutureWarning: The pandas.datetime class is deprecated and will be removed from pandas in a future version. Import from datetime module instead.\n",
      "  (dates - pd.datetime(1970, 1, 1))\n",
      "/usr/local/lib/python3.7/site-packages/fbprophet/forecaster.py:400: FutureWarning: The pandas.datetime class is deprecated and will be removed from pandas in a future version. Import from datetime module instead.\n",
      "  (dates - pd.datetime(1970, 1, 1))\n",
      "/usr/local/lib/python3.7/site-packages/fbprophet/forecaster.py:400: FutureWarning: The pandas.datetime class is deprecated and will be removed from pandas in a future version. Import from datetime module instead.\n",
      "  (dates - pd.datetime(1970, 1, 1))\n"
     ]
    },
    {
     "name": "stdout",
     "output_type": "stream",
     "text": [
      "(762, 1) (762, 1)\n",
      "-2.7018902196581482\n",
      "TIMESEGMENT:  (8434, 2) 21600 timestamp mean\n"
     ]
    },
    {
     "name": "stderr",
     "output_type": "stream",
     "text": [
      "/usr/local/lib/python3.7/site-packages/fbprophet/forecaster.py:400: FutureWarning: The pandas.datetime class is deprecated and will be removed from pandas in a future version. Import from datetime module instead.\n",
      "  (dates - pd.datetime(1970, 1, 1))\n",
      "/usr/local/lib/python3.7/site-packages/fbprophet/forecaster.py:400: FutureWarning: The pandas.datetime class is deprecated and will be removed from pandas in a future version. Import from datetime module instead.\n",
      "  (dates - pd.datetime(1970, 1, 1))\n"
     ]
    },
    {
     "name": "stdout",
     "output_type": "stream",
     "text": [
      "(8434, 1) (8434, 1)\n",
      "-1130.6725386851142\n"
     ]
    },
    {
     "name": "stderr",
     "output_type": "stream",
     "text": [
      "WARNING:orion.benchmark:Scoring pipeline prophet on signal F-3 (test split: True)\n"
     ]
    },
    {
     "name": "stdout",
     "output_type": "stream",
     "text": [
      "TRAIN:         timestamp     value\n",
      "0     1222819200 -1.000000\n",
      "1     1222840800 -0.999305\n",
      "2     1222862400 -0.998611\n",
      "3     1222884000 -0.997916\n",
      "4     1222905600 -0.997221\n",
      "...          ...       ...\n",
      "2875  1284919200  0.997221\n",
      "2876  1284940800  0.997916\n",
      "2877  1284962400  0.998611\n",
      "2878  1284984000  0.999305\n",
      "2879  1285005600  1.000000\n",
      "\n",
      "[2880 rows x 2 columns]\n",
      "TEST:         timestamp     value\n",
      "0     1285027200 -1.000000\n",
      "1     1285048800 -0.999768\n",
      "2     1285070400 -0.999537\n",
      "3     1285092000 -0.999305\n",
      "4     1285113600 -0.999074\n",
      "...          ...       ...\n",
      "8371  1465840800  0.999074\n",
      "8372  1465862400  0.999305\n",
      "8373  1465884000  0.999537\n",
      "8374  1465905600  0.999768\n",
      "8375  1465927200  1.000000\n",
      "\n",
      "[8376 rows x 2 columns]\n",
      "TIMESEGMENT:  (2880, 2) 21600 timestamp mean\n",
      "(2880, 1) (2880,) [1222819200 1222840800 1222862400 1222884000 1222905600 1222927200\n",
      " 1222948800 1222970400 1222992000 1223013600]\n",
      "X shape:  (2880, 1)\n",
      "index shape:  (2880,)\n",
      "0      2018-01-01 00:00:00\n",
      "1      2018-01-01 01:00:00\n",
      "2      2018-01-01 02:00:00\n",
      "3      2018-01-01 03:00:00\n",
      "4      2018-01-01 04:00:00\n",
      "               ...        \n",
      "2875   2018-04-30 19:00:00\n",
      "2876   2018-04-30 20:00:00\n",
      "2877   2018-04-30 21:00:00\n",
      "2878   2018-04-30 22:00:00\n",
      "2879   2018-04-30 23:00:00\n",
      "Name: ds, Length: 2880, dtype: datetime64[ns]\n"
     ]
    },
    {
     "name": "stderr",
     "output_type": "stream",
     "text": [
      "/usr/local/lib/python3.7/site-packages/fbprophet/forecaster.py:400: FutureWarning: The pandas.datetime class is deprecated and will be removed from pandas in a future version. Import from datetime module instead.\n",
      "  (dates - pd.datetime(1970, 1, 1))\n",
      "/usr/local/lib/python3.7/site-packages/fbprophet/forecaster.py:400: FutureWarning: The pandas.datetime class is deprecated and will be removed from pandas in a future version. Import from datetime module instead.\n",
      "  (dates - pd.datetime(1970, 1, 1))\n",
      "/usr/local/lib/python3.7/site-packages/fbprophet/forecaster.py:400: FutureWarning: The pandas.datetime class is deprecated and will be removed from pandas in a future version. Import from datetime module instead.\n",
      "  (dates - pd.datetime(1970, 1, 1))\n"
     ]
    },
    {
     "name": "stdout",
     "output_type": "stream",
     "text": [
      "(2880, 1) (2880, 1)\n",
      "-10.987966833454763\n",
      "TIMESEGMENT:  (8376, 2) 21600 timestamp mean\n"
     ]
    },
    {
     "name": "stderr",
     "output_type": "stream",
     "text": [
      "/usr/local/lib/python3.7/site-packages/fbprophet/forecaster.py:400: FutureWarning: The pandas.datetime class is deprecated and will be removed from pandas in a future version. Import from datetime module instead.\n",
      "  (dates - pd.datetime(1970, 1, 1))\n",
      "/usr/local/lib/python3.7/site-packages/fbprophet/forecaster.py:400: FutureWarning: The pandas.datetime class is deprecated and will be removed from pandas in a future version. Import from datetime module instead.\n",
      "  (dates - pd.datetime(1970, 1, 1))\n"
     ]
    },
    {
     "name": "stdout",
     "output_type": "stream",
     "text": [
      "(8376, 1) (8376, 1)\n",
      "-47.65516889341635\n",
      "MSL\n",
      "YAHOOA1\n",
      "YAHOOA2\n",
      "YAHOOA3\n",
      "YAHOOA4\n",
      "artificialWithAnomaly\n",
      "realAdExchange\n",
      "realAWSCloudwatch\n",
      "realTraffic\n",
      "realTweets\n"
     ]
    }
   ],
   "source": [
    "data = {'YAHOOA2': BENCHMARK_DATA['YAHOOA2']}\n",
    "\n",
    "for key in BENCHMARK_DATA:\n",
    "    print(key)\n",
    "    if key in {'SMAP'}:\n",
    "        \n",
    "        data = {key: BENCHMARK_DATA[key]}\n",
    "        datasets_names = '_'.join(list(data.keys()))\n",
    "        scores = benchmark(pipelines=pipelines, datasets=data, metrics=metrics, rank='f1')\n",
    "        scores.to_csv(f'results/scores_{pipelines[0]}_{datasets_names}_w2000.csv')\n",
    "        summary = _summarize_results_datasets(scores, metrics)\n",
    "        summary.to_csv(f'results/summary_{pipelines[0]}_{datasets_names}_w2000.csv')"
   ]
  },
  {
   "cell_type": "code",
   "execution_count": 5,
   "metadata": {},
   "outputs": [],
   "source": [
    "scores.to_csv(f'results/scores_{pipelines[0]}_{datasets_names}_w2000.csv')\n",
    "summary = _summarize_results_datasets(scores, metrics)\n",
    "summary.to_csv(f'results/summary_{pipelines[0]}_{datasets_names}_w2000.csv')"
   ]
  },
  {
   "cell_type": "code",
   "execution_count": 25,
   "metadata": {},
   "outputs": [],
   "source": [
    "scores.to_csv(f'results/scores_{pipelines[0]}_{datasets_names}.csv')\n",
    "summary = _summarize_results_datasets(scores, metrics)\n",
    "datasets_names = '_'.join(list(data.keys()))\n",
    "summary.to_csv(f'results/summary_{pipelines[0]}_{datasets_names}.csv')"
   ]
  },
  {
   "cell_type": "code",
   "execution_count": 26,
   "metadata": {},
   "outputs": [
    {
     "data": {
      "text/html": [
       "<div>\n",
       "<style scoped>\n",
       "    .dataframe tbody tr th:only-of-type {\n",
       "        vertical-align: middle;\n",
       "    }\n",
       "\n",
       "    .dataframe tbody tr th {\n",
       "        vertical-align: top;\n",
       "    }\n",
       "\n",
       "    .dataframe thead th {\n",
       "        text-align: right;\n",
       "    }\n",
       "</style>\n",
       "<table border=\"1\" class=\"dataframe\">\n",
       "  <thead>\n",
       "    <tr style=\"text-align: right;\">\n",
       "      <th></th>\n",
       "      <th>dataset</th>\n",
       "      <th>pipeline</th>\n",
       "      <th>fp</th>\n",
       "      <th>fn</th>\n",
       "      <th>tp</th>\n",
       "      <th>f1</th>\n",
       "    </tr>\n",
       "  </thead>\n",
       "  <tbody>\n",
       "    <tr>\n",
       "      <th>0</th>\n",
       "      <td>YAHOOA2</td>\n",
       "      <td>deepar</td>\n",
       "      <td>59</td>\n",
       "      <td>1</td>\n",
       "      <td>199</td>\n",
       "      <td>0.868996</td>\n",
       "    </tr>\n",
       "  </tbody>\n",
       "</table>\n",
       "</div>"
      ],
      "text/plain": [
       "   dataset pipeline  fp  fn   tp        f1\n",
       "0  YAHOOA2   deepar  59   1  199  0.868996"
      ]
     },
     "execution_count": 26,
     "metadata": {},
     "output_type": "execute_result"
    }
   ],
   "source": [
    "summary"
   ]
  },
  {
   "cell_type": "code",
   "execution_count": 15,
   "metadata": {},
   "outputs": [
    {
     "data": {
      "text/plain": [
       "'YAHOOA1'"
      ]
     },
     "execution_count": 15,
     "metadata": {},
     "output_type": "execute_result"
    }
   ],
   "source": [
    "datasets_names"
   ]
  },
  {
   "cell_type": "code",
   "execution_count": 4,
   "metadata": {},
   "outputs": [],
   "source": [
    "import glob\n",
    "files = glob.glob('results/raw/prophet/**.pkl')"
   ]
  },
  {
   "cell_type": "code",
   "execution_count": 7,
   "metadata": {},
   "outputs": [],
   "source": [
    "for file in files:\n",
    "    df = pd.read_pickle(file)\n",
    "    df.to_csv(file[:-3]+'csv')"
   ]
  },
  {
   "cell_type": "code",
   "execution_count": 13,
   "metadata": {},
   "outputs": [
    {
     "data": {
      "text/html": [
       "<div>\n",
       "<style scoped>\n",
       "    .dataframe tbody tr th:only-of-type {\n",
       "        vertical-align: middle;\n",
       "    }\n",
       "\n",
       "    .dataframe tbody tr th {\n",
       "        vertical-align: top;\n",
       "    }\n",
       "\n",
       "    .dataframe thead th {\n",
       "        text-align: right;\n",
       "    }\n",
       "</style>\n",
       "<table border=\"1\" class=\"dataframe\">\n",
       "  <thead>\n",
       "    <tr style=\"text-align: right;\">\n",
       "      <th></th>\n",
       "      <th>dataset</th>\n",
       "      <th>pipeline</th>\n",
       "      <th>fp</th>\n",
       "      <th>fn</th>\n",
       "      <th>tp</th>\n",
       "      <th>f1</th>\n",
       "    </tr>\n",
       "  </thead>\n",
       "  <tbody>\n",
       "    <tr>\n",
       "      <th>0</th>\n",
       "      <td>MSL</td>\n",
       "      <td>deepar</td>\n",
       "      <td>13</td>\n",
       "      <td>24</td>\n",
       "      <td>12</td>\n",
       "      <td>0.393443</td>\n",
       "    </tr>\n",
       "    <tr>\n",
       "      <th>1</th>\n",
       "      <td>SMAP</td>\n",
       "      <td>deepar</td>\n",
       "      <td>52</td>\n",
       "      <td>29</td>\n",
       "      <td>38</td>\n",
       "      <td>0.484076</td>\n",
       "    </tr>\n",
       "    <tr>\n",
       "      <th>2</th>\n",
       "      <td>YAHOOA1</td>\n",
       "      <td>deepar</td>\n",
       "      <td>38</td>\n",
       "      <td>74</td>\n",
       "      <td>104</td>\n",
       "      <td>0.650000</td>\n",
       "    </tr>\n",
       "    <tr>\n",
       "      <th>3</th>\n",
       "      <td>YAHOOA2</td>\n",
       "      <td>deepar</td>\n",
       "      <td>10</td>\n",
       "      <td>4</td>\n",
       "      <td>196</td>\n",
       "      <td>0.965517</td>\n",
       "    </tr>\n",
       "    <tr>\n",
       "      <th>4</th>\n",
       "      <td>YAHOOA3</td>\n",
       "      <td>deepar</td>\n",
       "      <td>61</td>\n",
       "      <td>434</td>\n",
       "      <td>505</td>\n",
       "      <td>0.671096</td>\n",
       "    </tr>\n",
       "    <tr>\n",
       "      <th>5</th>\n",
       "      <td>YAHOOA4</td>\n",
       "      <td>deepar</td>\n",
       "      <td>71</td>\n",
       "      <td>519</td>\n",
       "      <td>316</td>\n",
       "      <td>0.517185</td>\n",
       "    </tr>\n",
       "    <tr>\n",
       "      <th>6</th>\n",
       "      <td>artificialWithAnomaly</td>\n",
       "      <td>deepar</td>\n",
       "      <td>3</td>\n",
       "      <td>0</td>\n",
       "      <td>6</td>\n",
       "      <td>0.800000</td>\n",
       "    </tr>\n",
       "    <tr>\n",
       "      <th>7</th>\n",
       "      <td>realAWSCloudwatch</td>\n",
       "      <td>deepar</td>\n",
       "      <td>37</td>\n",
       "      <td>11</td>\n",
       "      <td>19</td>\n",
       "      <td>0.441860</td>\n",
       "    </tr>\n",
       "    <tr>\n",
       "      <th>8</th>\n",
       "      <td>realAdExchange</td>\n",
       "      <td>deepar</td>\n",
       "      <td>14</td>\n",
       "      <td>3</td>\n",
       "      <td>8</td>\n",
       "      <td>0.484848</td>\n",
       "    </tr>\n",
       "    <tr>\n",
       "      <th>9</th>\n",
       "      <td>realTraffic</td>\n",
       "      <td>deepar</td>\n",
       "      <td>11</td>\n",
       "      <td>4</td>\n",
       "      <td>10</td>\n",
       "      <td>0.571429</td>\n",
       "    </tr>\n",
       "    <tr>\n",
       "      <th>10</th>\n",
       "      <td>realTweets</td>\n",
       "      <td>deepar</td>\n",
       "      <td>25</td>\n",
       "      <td>11</td>\n",
       "      <td>22</td>\n",
       "      <td>0.550000</td>\n",
       "    </tr>\n",
       "  </tbody>\n",
       "</table>\n",
       "</div>"
      ],
      "text/plain": [
       "                  dataset pipeline  fp   fn   tp        f1\n",
       "0                     MSL   deepar  13   24   12  0.393443\n",
       "1                    SMAP   deepar  52   29   38  0.484076\n",
       "2                 YAHOOA1   deepar  38   74  104  0.650000\n",
       "3                 YAHOOA2   deepar  10    4  196  0.965517\n",
       "4                 YAHOOA3   deepar  61  434  505  0.671096\n",
       "5                 YAHOOA4   deepar  71  519  316  0.517185\n",
       "6   artificialWithAnomaly   deepar   3    0    6  0.800000\n",
       "7       realAWSCloudwatch   deepar  37   11   19  0.441860\n",
       "8          realAdExchange   deepar  14    3    8  0.484848\n",
       "9             realTraffic   deepar  11    4   10  0.571429\n",
       "10             realTweets   deepar  25   11   22  0.550000"
      ]
     },
     "execution_count": 13,
     "metadata": {},
     "output_type": "execute_result"
    }
   ],
   "source": [
    "files = glob.glob('results/raw/deepar/**.csv')\n",
    "df_all = pd.DataFrame()\n",
    "for file in files:\n",
    "    df = pd.read_csv(file)\n",
    "    df_all = pd.concat([df_all,df])\n",
    "summary = _summarize_results_datasets(df_all, metrics)\n",
    "summary.to_csv(f'results/final/scores_deepar.csv')\n",
    "summary"
   ]
  },
  {
   "cell_type": "code",
   "execution_count": null,
   "metadata": {},
   "outputs": [],
   "source": []
  }
 ],
 "metadata": {
  "kernelspec": {
   "display_name": "Python 3",
   "language": "python",
   "name": "python3"
  },
  "language_info": {
   "codemirror_mode": {
    "name": "ipython",
    "version": 3
   },
   "file_extension": ".py",
   "mimetype": "text/x-python",
   "name": "python",
   "nbconvert_exporter": "python",
   "pygments_lexer": "ipython3",
   "version": "3.7.6"
  }
 },
 "nbformat": 4,
 "nbformat_minor": 4
}
