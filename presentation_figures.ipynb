{
 "cells": [
  {
   "cell_type": "code",
   "execution_count": 106,
   "metadata": {
    "Collapsed": "false"
   },
   "outputs": [],
   "source": [
    "import pandas as pd \n",
    "import numpy as np\n",
    "import ast \n",
    "import matplotlib.pyplot as plt \n",
    "import glob\n",
    "import re \n",
    "\n",
    "BUCKET = 'd3-ai-orion'\n",
    "S3_URL = 'https://{}.s3.amazonaws.com/{}'\n",
    "\n",
    "BENCHMARK_DATA = pd.read_csv(S3_URL.format(\n",
    "    BUCKET, 'datasets.csv'), index_col=0, header=None).applymap(ast.literal_eval).to_dict()[1]"
   ]
  },
  {
   "cell_type": "markdown",
   "metadata": {
    "Collapsed": "true"
   },
   "source": [
    "# Load datasets "
   ]
  },
  {
   "cell_type": "markdown",
   "metadata": {
    "Collapsed": "true"
   },
   "source": [
    "## mSSA\n",
    "Something very wrong here... check later "
   ]
  },
  {
   "cell_type": "code",
   "execution_count": 31,
   "metadata": {
    "Collapsed": "false"
   },
   "outputs": [],
   "source": [
    "df_mssa_scores = pd.read_pickle(\"mssa_scores.pkl\").query(\"mssa_rank == 2\")\n",
    "df_mssa_summary = pd.read_pickle(\"mssa_summaries.pkl\").query(\"mssa_rank == 2\")"
   ]
  },
  {
   "cell_type": "code",
   "execution_count": 55,
   "metadata": {
    "Collapsed": "false"
   },
   "outputs": [],
   "source": [
    "df_optmssa_scores = pd.read_pickle(\"mssa_scores.pkl\").sort_values(\"f1\", ascending=False).drop_duplicates(\"signal\", keep=\"first\")\n",
    "df_optmssa_summary = pd.read_pickle(\"mssa_summaries.pkl\").sort_values(\"f1\", ascending=False).drop_duplicates(\"dataset\", keep=\"first\")\n",
    "\n",
    "df_optmssa_scores['pipeline'] = \"mssa_opt\"\n",
    "df_optmssa_summary['pipeline'] = \"mssa_opt\""
   ]
  },
  {
   "cell_type": "code",
   "execution_count": 32,
   "metadata": {
    "Collapsed": "false"
   },
   "outputs": [
    {
     "data": {
      "text/html": [
       "<div>\n",
       "<style scoped>\n",
       "    .dataframe tbody tr th:only-of-type {\n",
       "        vertical-align: middle;\n",
       "    }\n",
       "\n",
       "    .dataframe tbody tr th {\n",
       "        vertical-align: top;\n",
       "    }\n",
       "\n",
       "    .dataframe thead th {\n",
       "        text-align: right;\n",
       "    }\n",
       "</style>\n",
       "<table border=\"1\" class=\"dataframe\">\n",
       "  <thead>\n",
       "    <tr style=\"text-align: right;\">\n",
       "      <th></th>\n",
       "      <th>mean</th>\n",
       "      <th>std</th>\n",
       "    </tr>\n",
       "    <tr>\n",
       "      <th>mssa_rank</th>\n",
       "      <th></th>\n",
       "      <th></th>\n",
       "    </tr>\n",
       "  </thead>\n",
       "  <tbody>\n",
       "    <tr>\n",
       "      <th>2</th>\n",
       "      <td>0.513965</td>\n",
       "      <td>0.269561</td>\n",
       "    </tr>\n",
       "  </tbody>\n",
       "</table>\n",
       "</div>"
      ],
      "text/plain": [
       "               mean       std\n",
       "mssa_rank                    \n",
       "2          0.513965  0.269561"
      ]
     },
     "execution_count": 32,
     "metadata": {},
     "output_type": "execute_result"
    }
   ],
   "source": [
    "# df_mssa_summary.groupby(\"mssa_rank\")['f1'].agg([np.mean, np.std])"
   ]
  },
  {
   "cell_type": "code",
   "execution_count": 45,
   "metadata": {
    "Collapsed": "false"
   },
   "outputs": [
    {
     "data": {
      "text/html": [
       "<div>\n",
       "<style scoped>\n",
       "    .dataframe tbody tr th:only-of-type {\n",
       "        vertical-align: middle;\n",
       "    }\n",
       "\n",
       "    .dataframe tbody tr th {\n",
       "        vertical-align: top;\n",
       "    }\n",
       "\n",
       "    .dataframe thead th {\n",
       "        text-align: right;\n",
       "    }\n",
       "</style>\n",
       "<table border=\"1\" class=\"dataframe\">\n",
       "  <thead>\n",
       "    <tr style=\"text-align: right;\">\n",
       "      <th></th>\n",
       "      <th>dataset</th>\n",
       "      <th>pipeline</th>\n",
       "      <th>fp</th>\n",
       "      <th>fn</th>\n",
       "      <th>tp</th>\n",
       "      <th>f1</th>\n",
       "      <th>mssa_rank</th>\n",
       "    </tr>\n",
       "  </thead>\n",
       "  <tbody>\n",
       "    <tr>\n",
       "      <th>37</th>\n",
       "      <td>YAHOOA3</td>\n",
       "      <td>mssa</td>\n",
       "      <td>1</td>\n",
       "      <td>0</td>\n",
       "      <td>939</td>\n",
       "      <td>0.999468</td>\n",
       "      <td>3</td>\n",
       "    </tr>\n",
       "    <tr>\n",
       "      <th>48</th>\n",
       "      <td>YAHOOA3</td>\n",
       "      <td>mssa</td>\n",
       "      <td>1</td>\n",
       "      <td>15</td>\n",
       "      <td>924</td>\n",
       "      <td>0.991416</td>\n",
       "      <td>4</td>\n",
       "    </tr>\n",
       "    <tr>\n",
       "      <th>26</th>\n",
       "      <td>YAHOOA3</td>\n",
       "      <td>mssa</td>\n",
       "      <td>5</td>\n",
       "      <td>67</td>\n",
       "      <td>872</td>\n",
       "      <td>0.960352</td>\n",
       "      <td>2</td>\n",
       "    </tr>\n",
       "    <tr>\n",
       "      <th>59</th>\n",
       "      <td>YAHOOA3</td>\n",
       "      <td>mssa</td>\n",
       "      <td>3</td>\n",
       "      <td>105</td>\n",
       "      <td>834</td>\n",
       "      <td>0.939189</td>\n",
       "      <td>5</td>\n",
       "    </tr>\n",
       "    <tr>\n",
       "      <th>70</th>\n",
       "      <td>YAHOOA3</td>\n",
       "      <td>mssa</td>\n",
       "      <td>7</td>\n",
       "      <td>205</td>\n",
       "      <td>734</td>\n",
       "      <td>0.873810</td>\n",
       "      <td>6</td>\n",
       "    </tr>\n",
       "    <tr>\n",
       "      <th>81</th>\n",
       "      <td>YAHOOA3</td>\n",
       "      <td>mssa</td>\n",
       "      <td>10</td>\n",
       "      <td>289</td>\n",
       "      <td>650</td>\n",
       "      <td>0.813008</td>\n",
       "      <td>7</td>\n",
       "    </tr>\n",
       "    <tr>\n",
       "      <th>92</th>\n",
       "      <td>YAHOOA3</td>\n",
       "      <td>mssa</td>\n",
       "      <td>15</td>\n",
       "      <td>358</td>\n",
       "      <td>581</td>\n",
       "      <td>0.757003</td>\n",
       "      <td>8</td>\n",
       "    </tr>\n",
       "    <tr>\n",
       "      <th>103</th>\n",
       "      <td>YAHOOA3</td>\n",
       "      <td>mssa</td>\n",
       "      <td>9</td>\n",
       "      <td>433</td>\n",
       "      <td>506</td>\n",
       "      <td>0.696011</td>\n",
       "      <td>9</td>\n",
       "    </tr>\n",
       "    <tr>\n",
       "      <th>4</th>\n",
       "      <td>YAHOOA3</td>\n",
       "      <td>mssa</td>\n",
       "      <td>19</td>\n",
       "      <td>467</td>\n",
       "      <td>472</td>\n",
       "      <td>0.660140</td>\n",
       "      <td>None</td>\n",
       "    </tr>\n",
       "    <tr>\n",
       "      <th>15</th>\n",
       "      <td>YAHOOA3</td>\n",
       "      <td>mssa</td>\n",
       "      <td>1</td>\n",
       "      <td>496</td>\n",
       "      <td>443</td>\n",
       "      <td>0.640636</td>\n",
       "      <td>1</td>\n",
       "    </tr>\n",
       "  </tbody>\n",
       "</table>\n",
       "</div>"
      ],
      "text/plain": [
       "     dataset pipeline  fp   fn   tp        f1 mssa_rank\n",
       "37   YAHOOA3     mssa   1    0  939  0.999468         3\n",
       "48   YAHOOA3     mssa   1   15  924  0.991416         4\n",
       "26   YAHOOA3     mssa   5   67  872  0.960352         2\n",
       "59   YAHOOA3     mssa   3  105  834  0.939189         5\n",
       "70   YAHOOA3     mssa   7  205  734  0.873810         6\n",
       "81   YAHOOA3     mssa  10  289  650  0.813008         7\n",
       "92   YAHOOA3     mssa  15  358  581  0.757003         8\n",
       "103  YAHOOA3     mssa   9  433  506  0.696011         9\n",
       "4    YAHOOA3     mssa  19  467  472  0.660140      None\n",
       "15   YAHOOA3     mssa   1  496  443  0.640636         1"
      ]
     },
     "execution_count": 45,
     "metadata": {},
     "output_type": "execute_result"
    }
   ],
   "source": [
    "pd.read_pickle(\"mssa_summaries.pkl\").query(\"dataset=='YAHOOA3'\").sort_values(\"f1\", ascending=False)"
   ]
  },
  {
   "cell_type": "markdown",
   "metadata": {
    "Collapsed": "false"
   },
   "source": [
    "## Prophet "
   ]
  },
  {
   "cell_type": "code",
   "execution_count": 16,
   "metadata": {
    "Collapsed": "false"
   },
   "outputs": [],
   "source": [
    "df_prophet_scores = pd.read_csv(\"prophet_deepar_results/final/scores_prophet.csv\")\n",
    "df_prophet_summary = pd.read_csv(\"prophet_deepar_results/final/summary_prophet.csv\")"
   ]
  },
  {
   "cell_type": "markdown",
   "metadata": {
    "Collapsed": "false"
   },
   "source": [
    "## DeepAR "
   ]
  },
  {
   "cell_type": "code",
   "execution_count": 17,
   "metadata": {
    "Collapsed": "false"
   },
   "outputs": [],
   "source": [
    "df_deepar_scores = pd.read_csv(\"prophet_deepar_results/final/scores_deepar.csv\")\n",
    "df_deepar_summary = pd.read_csv(\"prophet_deepar_results/final/summary_deepar.csv\")"
   ]
  },
  {
   "cell_type": "markdown",
   "metadata": {
    "Collapsed": "false"
   },
   "source": [
    "## Orbit "
   ]
  },
  {
   "cell_type": "code",
   "execution_count": 24,
   "metadata": {
    "Collapsed": "false"
   },
   "outputs": [],
   "source": [
    "df_orbit_scores = pd.concat([pd.read_pickle(\"yahoo_results/orbit_scores_flat.pkl\"),\n",
    "                             pd.read_pickle(\"numenta_results/orbit_scores_flat.pkl\"),\n",
    "                             pd.read_pickle(\"nasa_results/orbit_scores_split_flat.pkl\")], ignore_index = True)\n",
    "\n",
    "\n",
    "df_orbit_summary = pd.concat([pd.read_pickle(\"yahoo_results/orbit_summaries_flat.pkl\"),\n",
    "                             pd.read_pickle(\"numenta_results/orbit_summaries_flat.pkl\"),\n",
    "                             pd.read_pickle(\"nasa_results/orbit_summaries_split_flat.pkl\")], ignore_index = True)"
   ]
  },
  {
   "cell_type": "markdown",
   "metadata": {
    "Collapsed": "false"
   },
   "source": [
    "# Sanity checks "
   ]
  },
  {
   "cell_type": "code",
   "execution_count": 56,
   "metadata": {
    "Collapsed": "false"
   },
   "outputs": [
    {
     "name": "stdout",
     "output_type": "stream",
     "text": [
      "11\n",
      "11\n",
      "11\n",
      "11\n",
      "11\n",
      "\n",
      "\n",
      "\n",
      "492\n",
      "0    492\n",
      "Name: status, dtype: int64\n",
      "492\n",
      "0    492\n",
      "Name: status, dtype: int64\n",
      "492\n",
      "0    492\n",
      "Name: status, dtype: int64\n",
      "492\n",
      "0    492\n",
      "Name: status, dtype: int64\n",
      "492\n",
      "0    472\n",
      "1     20\n",
      "Name: status, dtype: int64\n"
     ]
    }
   ],
   "source": [
    "#number of summaries \n",
    "for df in [df_optmssa_summary, df_mssa_summary, df_prophet_summary, df_deepar_summary, df_orbit_summary]:\n",
    "    print(len(df))\n",
    "\n",
    "\n",
    "print(\"\\n\\n\")\n",
    "\n",
    "#number of errors in scores \n",
    "for df in [df_optmssa_scores, df_mssa_scores, df_prophet_scores, df_deepar_scores, df_orbit_scores]:\n",
    "    print(len(df))\n",
    "    print(df.status.value_counts())\n",
    "\n",
    "    "
   ]
  },
  {
   "cell_type": "markdown",
   "metadata": {
    "Collapsed": "false"
   },
   "source": [
    "# Analyses "
   ]
  },
  {
   "cell_type": "markdown",
   "metadata": {
    "Collapsed": "true"
   },
   "source": [
    "## Scores and durations"
   ]
  },
  {
   "cell_type": "code",
   "execution_count": 61,
   "metadata": {
    "Collapsed": "false"
   },
   "outputs": [
    {
     "data": {
      "text/html": [
       "<div>\n",
       "<style scoped>\n",
       "    .dataframe tbody tr th:only-of-type {\n",
       "        vertical-align: middle;\n",
       "    }\n",
       "\n",
       "    .dataframe tbody tr th {\n",
       "        vertical-align: top;\n",
       "    }\n",
       "\n",
       "    .dataframe thead th {\n",
       "        text-align: right;\n",
       "    }\n",
       "</style>\n",
       "<table border=\"1\" class=\"dataframe\">\n",
       "  <thead>\n",
       "    <tr style=\"text-align: right;\">\n",
       "      <th>dataset</th>\n",
       "      <th>MSL</th>\n",
       "      <th>SMAP</th>\n",
       "      <th>YAHOOA1</th>\n",
       "      <th>YAHOOA2</th>\n",
       "      <th>YAHOOA3</th>\n",
       "      <th>YAHOOA4</th>\n",
       "      <th>artificialWithAnomaly</th>\n",
       "      <th>realAWSCloudwatch</th>\n",
       "      <th>realAdExchange</th>\n",
       "      <th>realTraffic</th>\n",
       "      <th>realTweets</th>\n",
       "    </tr>\n",
       "    <tr>\n",
       "      <th>pipeline</th>\n",
       "      <th></th>\n",
       "      <th></th>\n",
       "      <th></th>\n",
       "      <th></th>\n",
       "      <th></th>\n",
       "      <th></th>\n",
       "      <th></th>\n",
       "      <th></th>\n",
       "      <th></th>\n",
       "      <th></th>\n",
       "      <th></th>\n",
       "    </tr>\n",
       "  </thead>\n",
       "  <tbody>\n",
       "    <tr>\n",
       "      <th>deepar</th>\n",
       "      <td>0.39</td>\n",
       "      <td>0.48</td>\n",
       "      <td>0.65</td>\n",
       "      <td>0.97</td>\n",
       "      <td>0.67</td>\n",
       "      <td>0.52</td>\n",
       "      <td>0.80</td>\n",
       "      <td>0.44</td>\n",
       "      <td>0.48</td>\n",
       "      <td>0.57</td>\n",
       "      <td>0.55</td>\n",
       "    </tr>\n",
       "    <tr>\n",
       "      <th>mssa</th>\n",
       "      <td>0.39</td>\n",
       "      <td>0.23</td>\n",
       "      <td>0.69</td>\n",
       "      <td>0.89</td>\n",
       "      <td>0.96</td>\n",
       "      <td>0.69</td>\n",
       "      <td>0.26</td>\n",
       "      <td>0.33</td>\n",
       "      <td>0.53</td>\n",
       "      <td>0.52</td>\n",
       "      <td>0.15</td>\n",
       "    </tr>\n",
       "    <tr>\n",
       "      <th>mssa_opt</th>\n",
       "      <td>0.48</td>\n",
       "      <td>0.43</td>\n",
       "      <td>0.75</td>\n",
       "      <td>0.93</td>\n",
       "      <td>1.00</td>\n",
       "      <td>0.90</td>\n",
       "      <td>0.36</td>\n",
       "      <td>0.33</td>\n",
       "      <td>0.59</td>\n",
       "      <td>0.52</td>\n",
       "      <td>0.15</td>\n",
       "    </tr>\n",
       "    <tr>\n",
       "      <th>orbit</th>\n",
       "      <td>0.34</td>\n",
       "      <td>0.28</td>\n",
       "      <td>0.81</td>\n",
       "      <td>0.98</td>\n",
       "      <td>1.00</td>\n",
       "      <td>0.87</td>\n",
       "      <td>0.10</td>\n",
       "      <td>0.32</td>\n",
       "      <td>0.53</td>\n",
       "      <td>0.63</td>\n",
       "      <td>0.15</td>\n",
       "    </tr>\n",
       "    <tr>\n",
       "      <th>prophet</th>\n",
       "      <td>0.39</td>\n",
       "      <td>0.41</td>\n",
       "      <td>0.54</td>\n",
       "      <td>0.82</td>\n",
       "      <td>0.33</td>\n",
       "      <td>0.17</td>\n",
       "      <td>0.60</td>\n",
       "      <td>0.60</td>\n",
       "      <td>0.47</td>\n",
       "      <td>0.53</td>\n",
       "      <td>0.53</td>\n",
       "    </tr>\n",
       "  </tbody>\n",
       "</table>\n",
       "</div>"
      ],
      "text/plain": [
       "dataset    MSL  SMAP  YAHOOA1  YAHOOA2  YAHOOA3  YAHOOA4  \\\n",
       "pipeline                                                   \n",
       "deepar    0.39  0.48     0.65     0.97     0.67     0.52   \n",
       "mssa      0.39  0.23     0.69     0.89     0.96     0.69   \n",
       "mssa_opt  0.48  0.43     0.75     0.93     1.00     0.90   \n",
       "orbit     0.34  0.28     0.81     0.98     1.00     0.87   \n",
       "prophet   0.39  0.41     0.54     0.82     0.33     0.17   \n",
       "\n",
       "dataset   artificialWithAnomaly  realAWSCloudwatch  realAdExchange  \\\n",
       "pipeline                                                             \n",
       "deepar                     0.80               0.44            0.48   \n",
       "mssa                       0.26               0.33            0.53   \n",
       "mssa_opt                   0.36               0.33            0.59   \n",
       "orbit                      0.10               0.32            0.53   \n",
       "prophet                    0.60               0.60            0.47   \n",
       "\n",
       "dataset   realTraffic  realTweets  \n",
       "pipeline                           \n",
       "deepar           0.57        0.55  \n",
       "mssa             0.52        0.15  \n",
       "mssa_opt         0.52        0.15  \n",
       "orbit            0.63        0.15  \n",
       "prophet          0.53        0.53  "
      ]
     },
     "execution_count": 61,
     "metadata": {},
     "output_type": "execute_result"
    }
   ],
   "source": [
    "pd.concat([df_optmssa_summary, df_mssa_summary, df_prophet_summary, df_deepar_summary, df_orbit_summary], ignore_index=True).loc[:,:\"f1\"].pivot(index=\"pipeline\", columns=\"dataset\", values=\"f1\").round(2)"
   ]
  },
  {
   "cell_type": "code",
   "execution_count": 68,
   "metadata": {
    "Collapsed": "false"
   },
   "outputs": [
    {
     "data": {
      "text/html": [
       "<div>\n",
       "<style scoped>\n",
       "    .dataframe tbody tr th:only-of-type {\n",
       "        vertical-align: middle;\n",
       "    }\n",
       "\n",
       "    .dataframe tbody tr th {\n",
       "        vertical-align: top;\n",
       "    }\n",
       "\n",
       "    .dataframe thead th {\n",
       "        text-align: right;\n",
       "    }\n",
       "</style>\n",
       "<table border=\"1\" class=\"dataframe\">\n",
       "  <thead>\n",
       "    <tr style=\"text-align: right;\">\n",
       "      <th>dataset</th>\n",
       "      <th>MSL</th>\n",
       "      <th>SMAP</th>\n",
       "      <th>YAHOOA1</th>\n",
       "      <th>YAHOOA2</th>\n",
       "      <th>YAHOOA3</th>\n",
       "      <th>YAHOOA4</th>\n",
       "      <th>artificialWithAnomaly</th>\n",
       "      <th>realAWSCloudwatch</th>\n",
       "      <th>realAdExchange</th>\n",
       "      <th>realTraffic</th>\n",
       "      <th>realTweets</th>\n",
       "    </tr>\n",
       "    <tr>\n",
       "      <th>pipeline</th>\n",
       "      <th></th>\n",
       "      <th></th>\n",
       "      <th></th>\n",
       "      <th></th>\n",
       "      <th></th>\n",
       "      <th></th>\n",
       "      <th></th>\n",
       "      <th></th>\n",
       "      <th></th>\n",
       "      <th></th>\n",
       "      <th></th>\n",
       "    </tr>\n",
       "  </thead>\n",
       "  <tbody>\n",
       "    <tr>\n",
       "      <th>deepar</th>\n",
       "      <td>267.20</td>\n",
       "      <td>469.50</td>\n",
       "      <td>209.03</td>\n",
       "      <td>216.40</td>\n",
       "      <td>250.86</td>\n",
       "      <td>183.92</td>\n",
       "      <td>271.25</td>\n",
       "      <td>325.97</td>\n",
       "      <td>968.17</td>\n",
       "      <td>399.45</td>\n",
       "      <td>517.01</td>\n",
       "    </tr>\n",
       "    <tr>\n",
       "      <th>mssa</th>\n",
       "      <td>0.13</td>\n",
       "      <td>0.29</td>\n",
       "      <td>0.12</td>\n",
       "      <td>0.12</td>\n",
       "      <td>0.12</td>\n",
       "      <td>0.12</td>\n",
       "      <td>0.24</td>\n",
       "      <td>0.21</td>\n",
       "      <td>0.11</td>\n",
       "      <td>0.13</td>\n",
       "      <td>0.61</td>\n",
       "    </tr>\n",
       "    <tr>\n",
       "      <th>mssa_opt</th>\n",
       "      <td>0.13</td>\n",
       "      <td>0.30</td>\n",
       "      <td>0.12</td>\n",
       "      <td>0.12</td>\n",
       "      <td>0.12</td>\n",
       "      <td>0.12</td>\n",
       "      <td>0.19</td>\n",
       "      <td>0.20</td>\n",
       "      <td>0.12</td>\n",
       "      <td>0.13</td>\n",
       "      <td>0.62</td>\n",
       "    </tr>\n",
       "    <tr>\n",
       "      <th>orbit</th>\n",
       "      <td>20.59</td>\n",
       "      <td>25.89</td>\n",
       "      <td>10.11</td>\n",
       "      <td>9.08</td>\n",
       "      <td>10.72</td>\n",
       "      <td>10.70</td>\n",
       "      <td>19.37</td>\n",
       "      <td>30.63</td>\n",
       "      <td>9.79</td>\n",
       "      <td>13.11</td>\n",
       "      <td>232.25</td>\n",
       "    </tr>\n",
       "    <tr>\n",
       "      <th>prophet</th>\n",
       "      <td>222.91</td>\n",
       "      <td>412.51</td>\n",
       "      <td>6.96</td>\n",
       "      <td>11.65</td>\n",
       "      <td>16.73</td>\n",
       "      <td>16.12</td>\n",
       "      <td>227.93</td>\n",
       "      <td>176.53</td>\n",
       "      <td>1146.15</td>\n",
       "      <td>213.28</td>\n",
       "      <td>788.63</td>\n",
       "    </tr>\n",
       "  </tbody>\n",
       "</table>\n",
       "</div>"
      ],
      "text/plain": [
       "dataset      MSL    SMAP  YAHOOA1  YAHOOA2  YAHOOA3  YAHOOA4  \\\n",
       "pipeline                                                       \n",
       "deepar    267.20  469.50   209.03   216.40   250.86   183.92   \n",
       "mssa        0.13    0.29     0.12     0.12     0.12     0.12   \n",
       "mssa_opt    0.13    0.30     0.12     0.12     0.12     0.12   \n",
       "orbit      20.59   25.89    10.11     9.08    10.72    10.70   \n",
       "prophet   222.91  412.51     6.96    11.65    16.73    16.12   \n",
       "\n",
       "dataset   artificialWithAnomaly  realAWSCloudwatch  realAdExchange  \\\n",
       "pipeline                                                             \n",
       "deepar                   271.25             325.97          968.17   \n",
       "mssa                       0.24               0.21            0.11   \n",
       "mssa_opt                   0.19               0.20            0.12   \n",
       "orbit                     19.37              30.63            9.79   \n",
       "prophet                  227.93             176.53         1146.15   \n",
       "\n",
       "dataset   realTraffic  realTweets  \n",
       "pipeline                           \n",
       "deepar         399.45      517.01  \n",
       "mssa             0.13        0.61  \n",
       "mssa_opt         0.13        0.62  \n",
       "orbit           13.11      232.25  \n",
       "prophet        213.28      788.63  "
      ]
     },
     "execution_count": 68,
     "metadata": {},
     "output_type": "execute_result"
    }
   ],
   "source": [
    "pd.DataFrame(pd.concat([df_optmssa_scores, df_mssa_scores, df_prophet_scores, df_deepar_scores, df_orbit_scores], \n",
    "                       ignore_index=True).groupby(['pipeline','dataset'])['elapsed'].agg(np.median).round(2)).reset_index().pivot(index=\"pipeline\", columns=\"dataset\", values=\"elapsed\")"
   ]
  },
  {
   "cell_type": "markdown",
   "metadata": {
    "Collapsed": "false"
   },
   "source": [
    "## mssa scores with changing rank "
   ]
  },
  {
   "cell_type": "code",
   "execution_count": 99,
   "metadata": {
    "Collapsed": "false"
   },
   "outputs": [
    {
     "data": {
      "text/plain": [
       "Text(0, 0.5, 'F1 Score')"
      ]
     },
     "execution_count": 99,
     "metadata": {},
     "output_type": "execute_result"
    },
    {
     "data": {
      "image/png": "[encoded data removed]",
      "text/plain": [
       "<Figure size 720x360 with 1 Axes>"
      ]
     },
     "metadata": {
      "needs_background": "light"
     },
     "output_type": "display_data"
    }
   ],
   "source": [
    "df_allmssa_summaries = pd.read_pickle(\"mssa_summaries.pkl\")\n",
    "\n",
    "plt.figure(figsize=(10,5))\n",
    "for dataset in BENCHMARK_DATA.keys():\n",
    "#     plt.figure()\n",
    "#     plt.scatter([-1],df_allmssa_summaries.query(\"dataset == @dataset\").f1.values[0])\n",
    "#     plt.plot(list(range(1,10)),df_allmssa_summaries.query(\"dataset == @dataset\").f1.values[1:])\n",
    "\n",
    "    if dataset in {\"SMAP\", \"MSL\"}:\n",
    "        plt.plot(list(range(1,10)),df_allmssa_summaries.query(\"dataset == @dataset\").f1.values[1:], c=\"blue\", label=\"NASA\")\n",
    "    elif \"YAHOO\" in dataset:\n",
    "        plt.plot(list(range(1,10)),df_allmssa_summaries.query(\"dataset == @dataset\").f1.values[1:], c=\"green\", label=\"Yahoo\")\n",
    "    else:\n",
    "        plt.plot(list(range(1,10)),df_allmssa_summaries.query(\"dataset == @dataset\").f1.values[1:], c=\"orange\", label=\"Numenta\")\n",
    "    \n",
    "#     plt.title(dataset)\n",
    "\n",
    "# plt.legend()\n",
    "plt.xlim(0,10)\n",
    "plt.xticks(list(range(1,10)))\n",
    "plt.ylim(-0.05,1.05)\n",
    "plt.xlabel(\"mSSA Rank\")\n",
    "plt.ylabel(\"F1 Score\")"
   ]
  },
  {
   "cell_type": "code",
   "execution_count": 98,
   "metadata": {
    "Collapsed": "false"
   },
   "outputs": [
    {
     "data": {
      "image/png": "[encoded data removed]",
      "text/plain": [
       "<Figure size 432x288 with 1 Axes>"
      ]
     },
     "metadata": {
      "needs_background": "light"
     },
     "output_type": "display_data"
    },
    {
     "data": {
      "image/png": "[encoded data removed]",
      "text/plain": [
       "<Figure size 432x288 with 1 Axes>"
      ]
     },
     "metadata": {
      "needs_background": "light"
     },
     "output_type": "display_data"
    },
    {
     "data": {
      "image/png": "[encoded data removed]",
      "text/plain": [
       "<Figure size 432x288 with 1 Axes>"
      ]
     },
     "metadata": {
      "needs_background": "light"
     },
     "output_type": "display_data"
    },
    {
     "data": {
      "image/png": "[encoded data removed]",
      "text/plain": [
       "<Figure size 432x288 with 1 Axes>"
      ]
     },
     "metadata": {
      "needs_background": "light"
     },
     "output_type": "display_data"
    },
    {
     "data": {
      "image/png": "[encoded data removed]",
      "text/plain": [
       "<Figure size 432x288 with 1 Axes>"
      ]
     },
     "metadata": {
      "needs_background": "light"
     },
     "output_type": "display_data"
    },
    {
     "data": {
      "image/png": "[encoded data removed]",
      "text/plain": [
       "<Figure size 432x288 with 1 Axes>"
      ]
     },
     "metadata": {
      "needs_background": "light"
     },
     "output_type": "display_data"
    },
    {
     "data": {
      "image/png": "[encoded data removed]",
      "text/plain": [
       "<Figure size 432x288 with 1 Axes>"
      ]
     },
     "metadata": {
      "needs_background": "light"
     },
     "output_type": "display_data"
    },
    {
     "data": {
      "image/png": "[encoded data removed]",
      "text/plain": [
       "<Figure size 432x288 with 1 Axes>"
      ]
     },
     "metadata": {
      "needs_background": "light"
     },
     "output_type": "display_data"
    },
    {
     "data": {
      "image/png": "[encoded data removed]",
      "text/plain": [
       "<Figure size 432x288 with 1 Axes>"
      ]
     },
     "metadata": {
      "needs_background": "light"
     },
     "output_type": "display_data"
    },
    {
     "data": {
      "image/png": "[encoded data removed]",
      "text/plain": [
       "<Figure size 432x288 with 1 Axes>"
      ]
     },
     "metadata": {
      "needs_background": "light"
     },
     "output_type": "display_data"
    },
    {
     "data": {
      "image/png": "[encoded data removed]",
      "text/plain": [
       "<Figure size 432x288 with 1 Axes>"
      ]
     },
     "metadata": {
      "needs_background": "light"
     },
     "output_type": "display_data"
    }
   ],
   "source": [
    "for dataset in BENCHMARK_DATA.keys():\n",
    "    plt.figure()\n",
    "#     plt.scatter([-1],df_allmssa_summaries.query(\"dataset == @dataset\").f1.values[0])\n",
    "    plt.plot(list(range(1,10)),df_allmssa_summaries.query(\"dataset == @dataset\").f1.values[1:])\n",
    "    plt.title(dataset)\n",
    "    plt.xlabel(\"mSSA Rank\")\n",
    "    plt.ylabel(\"F1 Score\")\n",
    "    plt.xlim(0,10)\n",
    "    plt.xticks(list(range(1,10)))\n",
    "    plt.ylim(-0.05,1.05)"
   ]
  },
  {
   "cell_type": "markdown",
   "metadata": {
    "Collapsed": "false"
   },
   "source": [
    "## Dataset spectral analysis "
   ]
  },
  {
   "cell_type": "code",
   "execution_count": 111,
   "metadata": {
    "Collapsed": "false"
   },
   "outputs": [],
   "source": [
    "#ignore nasa for now, decide how to deal with test/train split later \n",
    "filepaths = [x for x in glob.glob(\"./Orion/orion/data/**\", recursive=True) if x.endswith(\".csv\") and \"_all\" not in x and \"-test\" not in x and \"-train\" not in x]"
   ]
  },
  {
   "cell_type": "code",
   "execution_count": 128,
   "metadata": {
    "Collapsed": "false"
   },
   "outputs": [
    {
     "name": "stdout",
     "output_type": "stream",
     "text": [
      "./Orion/orion/data/anomalies.csv\n"
     ]
    }
   ],
   "source": [
    "df_optmssa_spectra = df_optmssa_scores.copy()\n",
    "spectra_dict = {}\n",
    "\n",
    "\n",
    "\n",
    "for filepath in filepaths: \n",
    "    try:\n",
    "        signal_name = filepath.split(\"/\")[-1][:-4]\n",
    "\n",
    "        temp_df = pd.read_csv(filepath)\n",
    "        m_dim = int(np.sqrt(len(temp_df)))\n",
    "        n_dim = len(temp_df)//m_dim\n",
    "        m = np.reshape(temp_df.value.values[:m_dim*n_dim], (m_dim,n_dim))\n",
    "        m = m - m.mean()\n",
    "\n",
    "        u,s,_ = np.linalg.svd(m)\n",
    "        # s = s/s[0]\n",
    "        S = np.cumsum(s**2)\n",
    "        S = S/S[-1]\n",
    "\n",
    "#         df_optmssa_spectra.loc[df_optmssa_spectra['signal'] == signal_name, \"energy\"] = str(S)\n",
    "        spectra_dict[signal_name] = S\n",
    "    \n",
    "    except:\n",
    "        print(filepath)"
   ]
  },
  {
   "cell_type": "code",
   "execution_count": 132,
   "metadata": {
    "Collapsed": "false"
   },
   "outputs": [],
   "source": [
    "df_optmssa_spectra['energy'] = df_optmssa_spectra['signal'].map(spectra_dict)"
   ]
  },
  {
   "cell_type": "code",
   "execution_count": 153,
   "metadata": {
    "Collapsed": "false"
   },
   "outputs": [
    {
     "name": "stderr",
     "output_type": "stream",
     "text": [
      "/opt/anaconda3/lib/python3.7/site-packages/ipykernel_launcher.py:1: UserWarning: Boolean Series key will be reindexed to match DataFrame index.\n",
      "  \"\"\"Entry point for launching an IPython kernel.\n"
     ]
    }
   ],
   "source": [
    "#get energy at optimimum level\n",
    "df_optmssa_spectra.loc[(~df_optmssa_spectra['energy'].isnull()) & (~df_optmssa_spectra['mssa_rank'].isnull()), \"optimal_energy_level\"] = df_optmssa_spectra[~df_optmssa_spectra['energy'].isnull()][~df_optmssa_spectra['mssa_rank'].isnull()].apply(lambda x: x.energy[int(x.mssa_rank)], axis=1)"
   ]
  },
  {
   "cell_type": "code",
   "execution_count": 154,
   "metadata": {
    "Collapsed": "false"
   },
   "outputs": [
    {
     "data": {
      "text/html": [
       "<div>\n",
       "<style scoped>\n",
       "    .dataframe tbody tr th:only-of-type {\n",
       "        vertical-align: middle;\n",
       "    }\n",
       "\n",
       "    .dataframe tbody tr th {\n",
       "        vertical-align: top;\n",
       "    }\n",
       "\n",
       "    .dataframe thead th {\n",
       "        text-align: right;\n",
       "    }\n",
       "</style>\n",
       "<table border=\"1\" class=\"dataframe\">\n",
       "  <thead>\n",
       "    <tr style=\"text-align: right;\">\n",
       "      <th></th>\n",
       "      <th>pipeline</th>\n",
       "      <th>rank</th>\n",
       "      <th>f1</th>\n",
       "      <th>recall</th>\n",
       "      <th>precision</th>\n",
       "      <th>confusion_matrix</th>\n",
       "      <th>status</th>\n",
       "      <th>elapsed</th>\n",
       "      <th>split</th>\n",
       "      <th>dataset</th>\n",
       "      <th>signal</th>\n",
       "      <th>mssa_rank</th>\n",
       "      <th>fp</th>\n",
       "      <th>fn</th>\n",
       "      <th>tp</th>\n",
       "      <th>energy</th>\n",
       "      <th>optimal_energy_level</th>\n",
       "    </tr>\n",
       "  </thead>\n",
       "  <tbody>\n",
       "    <tr>\n",
       "      <th>0</th>\n",
       "      <td>mssa_opt</td>\n",
       "      <td>1</td>\n",
       "      <td>1.0</td>\n",
       "      <td>1.0</td>\n",
       "      <td>1.0</td>\n",
       "      <td>(0, 0, 16)</td>\n",
       "      <td>0</td>\n",
       "      <td>0.113083</td>\n",
       "      <td>False</td>\n",
       "      <td>YAHOOA3</td>\n",
       "      <td>A3Benchmark-TS42</td>\n",
       "      <td>None</td>\n",
       "      <td>0</td>\n",
       "      <td>0</td>\n",
       "      <td>16</td>\n",
       "      <td>[0.9483239274979387, 0.9817714910714394, 0.990...</td>\n",
       "      <td>NaN</td>\n",
       "    </tr>\n",
       "    <tr>\n",
       "      <th>1478</th>\n",
       "      <td>mssa_opt</td>\n",
       "      <td>3</td>\n",
       "      <td>1.0</td>\n",
       "      <td>1.0</td>\n",
       "      <td>1.0</td>\n",
       "      <td>(0, 0, 16)</td>\n",
       "      <td>0</td>\n",
       "      <td>0.118474</td>\n",
       "      <td>False</td>\n",
       "      <td>YAHOOA3</td>\n",
       "      <td>A3Benchmark-TS68</td>\n",
       "      <td>3</td>\n",
       "      <td>0</td>\n",
       "      <td>0</td>\n",
       "      <td>16</td>\n",
       "      <td>[0.6330894840162906, 0.8722602694985426, 0.924...</td>\n",
       "      <td>0.960544</td>\n",
       "    </tr>\n",
       "    <tr>\n",
       "      <th>1484</th>\n",
       "      <td>mssa_opt</td>\n",
       "      <td>9</td>\n",
       "      <td>1.0</td>\n",
       "      <td>1.0</td>\n",
       "      <td>1.0</td>\n",
       "      <td>(0, 0, 16)</td>\n",
       "      <td>0</td>\n",
       "      <td>0.115984</td>\n",
       "      <td>False</td>\n",
       "      <td>YAHOOA3</td>\n",
       "      <td>A3Benchmark-TS77</td>\n",
       "      <td>3</td>\n",
       "      <td>0</td>\n",
       "      <td>0</td>\n",
       "      <td>16</td>\n",
       "      <td>[0.6211011707939201, 0.807896586348993, 0.9197...</td>\n",
       "      <td>0.939257</td>\n",
       "    </tr>\n",
       "    <tr>\n",
       "      <th>1483</th>\n",
       "      <td>mssa_opt</td>\n",
       "      <td>8</td>\n",
       "      <td>1.0</td>\n",
       "      <td>1.0</td>\n",
       "      <td>1.0</td>\n",
       "      <td>(0, 0, 16)</td>\n",
       "      <td>0</td>\n",
       "      <td>0.120478</td>\n",
       "      <td>False</td>\n",
       "      <td>YAHOOA3</td>\n",
       "      <td>A3Benchmark-TS49</td>\n",
       "      <td>3</td>\n",
       "      <td>0</td>\n",
       "      <td>0</td>\n",
       "      <td>16</td>\n",
       "      <td>[0.459111897623467, 0.7447500927940275, 0.8927...</td>\n",
       "      <td>0.906822</td>\n",
       "    </tr>\n",
       "    <tr>\n",
       "      <th>1482</th>\n",
       "      <td>mssa_opt</td>\n",
       "      <td>7</td>\n",
       "      <td>1.0</td>\n",
       "      <td>1.0</td>\n",
       "      <td>1.0</td>\n",
       "      <td>(0, 0, 16)</td>\n",
       "      <td>0</td>\n",
       "      <td>0.114937</td>\n",
       "      <td>False</td>\n",
       "      <td>YAHOOA3</td>\n",
       "      <td>A3Benchmark-TS44</td>\n",
       "      <td>3</td>\n",
       "      <td>0</td>\n",
       "      <td>0</td>\n",
       "      <td>16</td>\n",
       "      <td>[0.510874609751888, 0.8273311021307374, 0.9441...</td>\n",
       "      <td>0.955952</td>\n",
       "    </tr>\n",
       "    <tr>\n",
       "      <th>...</th>\n",
       "      <td>...</td>\n",
       "      <td>...</td>\n",
       "      <td>...</td>\n",
       "      <td>...</td>\n",
       "      <td>...</td>\n",
       "      <td>...</td>\n",
       "      <td>...</td>\n",
       "      <td>...</td>\n",
       "      <td>...</td>\n",
       "      <td>...</td>\n",
       "      <td>...</td>\n",
       "      <td>...</td>\n",
       "      <td>...</td>\n",
       "      <td>...</td>\n",
       "      <td>...</td>\n",
       "      <td>...</td>\n",
       "      <td>...</td>\n",
       "    </tr>\n",
       "    <tr>\n",
       "      <th>4327</th>\n",
       "      <td>mssa_opt</td>\n",
       "      <td>392</td>\n",
       "      <td>0.0</td>\n",
       "      <td>0.0</td>\n",
       "      <td>0.0</td>\n",
       "      <td>(2, 1, 0)</td>\n",
       "      <td>0</td>\n",
       "      <td>0.197010</td>\n",
       "      <td>True</td>\n",
       "      <td>SMAP</td>\n",
       "      <td>E-3</td>\n",
       "      <td>8</td>\n",
       "      <td>2</td>\n",
       "      <td>1</td>\n",
       "      <td>0</td>\n",
       "      <td>NaN</td>\n",
       "      <td>NaN</td>\n",
       "    </tr>\n",
       "    <tr>\n",
       "      <th>4285</th>\n",
       "      <td>mssa_opt</td>\n",
       "      <td>350</td>\n",
       "      <td>0.0</td>\n",
       "      <td>0.0</td>\n",
       "      <td>0.0</td>\n",
       "      <td>(2, 1, 0)</td>\n",
       "      <td>0</td>\n",
       "      <td>0.128738</td>\n",
       "      <td>False</td>\n",
       "      <td>YAHOOA1</td>\n",
       "      <td>real_45</td>\n",
       "      <td>8</td>\n",
       "      <td>2</td>\n",
       "      <td>1</td>\n",
       "      <td>0</td>\n",
       "      <td>[0.29622262920030323, 0.4117938387896108, 0.51...</td>\n",
       "      <td>0.805765</td>\n",
       "    </tr>\n",
       "    <tr>\n",
       "      <th>4267</th>\n",
       "      <td>mssa_opt</td>\n",
       "      <td>332</td>\n",
       "      <td>0.0</td>\n",
       "      <td>0.0</td>\n",
       "      <td>0.0</td>\n",
       "      <td>(10, 0, 0)</td>\n",
       "      <td>0</td>\n",
       "      <td>0.220100</td>\n",
       "      <td>False</td>\n",
       "      <td>realAWSCloudwatch</td>\n",
       "      <td>ec2_cpu_utilization_c6585a</td>\n",
       "      <td>8</td>\n",
       "      <td>10</td>\n",
       "      <td>0</td>\n",
       "      <td>0</td>\n",
       "      <td>[0.12302998057960067, 0.21050122506066699, 0.2...</td>\n",
       "      <td>0.700302</td>\n",
       "    </tr>\n",
       "    <tr>\n",
       "      <th>4301</th>\n",
       "      <td>mssa_opt</td>\n",
       "      <td>366</td>\n",
       "      <td>0.0</td>\n",
       "      <td>0.0</td>\n",
       "      <td>0.0</td>\n",
       "      <td>(3, 1, 0)</td>\n",
       "      <td>0</td>\n",
       "      <td>0.119097</td>\n",
       "      <td>False</td>\n",
       "      <td>YAHOOA2</td>\n",
       "      <td>synthetic_93</td>\n",
       "      <td>8</td>\n",
       "      <td>3</td>\n",
       "      <td>1</td>\n",
       "      <td>0</td>\n",
       "      <td>[0.9770245208929855, 0.9973441942534007, 0.999...</td>\n",
       "      <td>0.999530</td>\n",
       "    </tr>\n",
       "    <tr>\n",
       "      <th>4290</th>\n",
       "      <td>mssa_opt</td>\n",
       "      <td>355</td>\n",
       "      <td>0.0</td>\n",
       "      <td>0.0</td>\n",
       "      <td>0.0</td>\n",
       "      <td>(1, 1, 0)</td>\n",
       "      <td>0</td>\n",
       "      <td>0.119092</td>\n",
       "      <td>False</td>\n",
       "      <td>YAHOOA2</td>\n",
       "      <td>synthetic_84</td>\n",
       "      <td>8</td>\n",
       "      <td>1</td>\n",
       "      <td>1</td>\n",
       "      <td>0</td>\n",
       "      <td>[0.9937081666646925, 0.9989438348365656, 0.999...</td>\n",
       "      <td>0.999899</td>\n",
       "    </tr>\n",
       "  </tbody>\n",
       "</table>\n",
       "<p>492 rows × 17 columns</p>\n",
       "</div>"
      ],
      "text/plain": [
       "      pipeline  rank   f1  recall  precision confusion_matrix  status  \\\n",
       "0     mssa_opt     1  1.0     1.0        1.0       (0, 0, 16)       0   \n",
       "1478  mssa_opt     3  1.0     1.0        1.0       (0, 0, 16)       0   \n",
       "1484  mssa_opt     9  1.0     1.0        1.0       (0, 0, 16)       0   \n",
       "1483  mssa_opt     8  1.0     1.0        1.0       (0, 0, 16)       0   \n",
       "1482  mssa_opt     7  1.0     1.0        1.0       (0, 0, 16)       0   \n",
       "...        ...   ...  ...     ...        ...              ...     ...   \n",
       "4327  mssa_opt   392  0.0     0.0        0.0        (2, 1, 0)       0   \n",
       "4285  mssa_opt   350  0.0     0.0        0.0        (2, 1, 0)       0   \n",
       "4267  mssa_opt   332  0.0     0.0        0.0       (10, 0, 0)       0   \n",
       "4301  mssa_opt   366  0.0     0.0        0.0        (3, 1, 0)       0   \n",
       "4290  mssa_opt   355  0.0     0.0        0.0        (1, 1, 0)       0   \n",
       "\n",
       "       elapsed  split            dataset                      signal  \\\n",
       "0     0.113083  False            YAHOOA3            A3Benchmark-TS42   \n",
       "1478  0.118474  False            YAHOOA3            A3Benchmark-TS68   \n",
       "1484  0.115984  False            YAHOOA3            A3Benchmark-TS77   \n",
       "1483  0.120478  False            YAHOOA3            A3Benchmark-TS49   \n",
       "1482  0.114937  False            YAHOOA3            A3Benchmark-TS44   \n",
       "...        ...    ...                ...                         ...   \n",
       "4327  0.197010   True               SMAP                         E-3   \n",
       "4285  0.128738  False            YAHOOA1                     real_45   \n",
       "4267  0.220100  False  realAWSCloudwatch  ec2_cpu_utilization_c6585a   \n",
       "4301  0.119097  False            YAHOOA2                synthetic_93   \n",
       "4290  0.119092  False            YAHOOA2                synthetic_84   \n",
       "\n",
       "     mssa_rank  fp  fn  tp                                             energy  \\\n",
       "0         None   0   0  16  [0.9483239274979387, 0.9817714910714394, 0.990...   \n",
       "1478         3   0   0  16  [0.6330894840162906, 0.8722602694985426, 0.924...   \n",
       "1484         3   0   0  16  [0.6211011707939201, 0.807896586348993, 0.9197...   \n",
       "1483         3   0   0  16  [0.459111897623467, 0.7447500927940275, 0.8927...   \n",
       "1482         3   0   0  16  [0.510874609751888, 0.8273311021307374, 0.9441...   \n",
       "...        ...  ..  ..  ..                                                ...   \n",
       "4327         8   2   1   0                                                NaN   \n",
       "4285         8   2   1   0  [0.29622262920030323, 0.4117938387896108, 0.51...   \n",
       "4267         8  10   0   0  [0.12302998057960067, 0.21050122506066699, 0.2...   \n",
       "4301         8   3   1   0  [0.9770245208929855, 0.9973441942534007, 0.999...   \n",
       "4290         8   1   1   0  [0.9937081666646925, 0.9989438348365656, 0.999...   \n",
       "\n",
       "      optimal_energy_level  \n",
       "0                      NaN  \n",
       "1478              0.960544  \n",
       "1484              0.939257  \n",
       "1483              0.906822  \n",
       "1482              0.955952  \n",
       "...                    ...  \n",
       "4327                   NaN  \n",
       "4285              0.805765  \n",
       "4267              0.700302  \n",
       "4301              0.999530  \n",
       "4290              0.999899  \n",
       "\n",
       "[492 rows x 17 columns]"
      ]
     },
     "execution_count": 154,
     "metadata": {},
     "output_type": "execute_result"
    }
   ],
   "source": [
    "df_optmssa_spectra"
   ]
  },
  {
   "cell_type": "code",
   "execution_count": 158,
   "metadata": {
    "Collapsed": "false"
   },
   "outputs": [
    {
     "data": {
      "text/plain": [
       "(-0.06517660043816778, 1.065176600371501)"
      ]
     },
     "execution_count": 158,
     "metadata": {},
     "output_type": "execute_result"
    },
    {
     "data": {
      "image/png": "[encoded data removed]",
      "text/plain": [
       "<Figure size 432x288 with 1 Axes>"
      ]
     },
     "metadata": {
      "needs_background": "light"
     },
     "output_type": "display_data"
    }
   ],
   "source": [
    "sv_index = 2\n",
    "dataset = \"YAHOOA1\"\n",
    "energy_levels = [x[sv_index] for x in df_optmssa_spectra.query(\"dataset == @dataset\")['energy']]\n",
    "# opt_energy_levels = \n",
    "f1_scores = df_optmssa_spectra.query(\"dataset == @dataset\").f1.values\n",
    "\n",
    "plt.scatter(energy_levels, f1_scores)\n",
    "plt.ylim()"
   ]
  },
  {
   "cell_type": "code",
   "execution_count": 155,
   "metadata": {
    "Collapsed": "false"
   },
   "outputs": [
    {
     "data": {
      "text/plain": [
       "<matplotlib.collections.PathCollection at 0x1252a1550>"
      ]
     },
     "execution_count": 155,
     "metadata": {},
     "output_type": "execute_result"
    },
    {
     "data": {
      "image/png": "[encoded data removed]",
      "text/plain": [
       "<Figure size 432x288 with 1 Axes>"
      ]
     },
     "metadata": {
      "needs_background": "light"
     },
     "output_type": "display_data"
    }
   ],
   "source": [
    "plt.scatter(df_optmssa_spectra.query(\"dataset == 'YAHOOA1'\")['optimal_energy_level'], df_optmssa_spectra.query(\"dataset == 'YAHOOA1'\")['f1'])"
   ]
  },
  {
   "cell_type": "code",
   "execution_count": 162,
   "metadata": {
    "Collapsed": "false"
   },
   "outputs": [
    {
     "data": {
      "text/plain": [
       "(-0.06517660043650111, 1.065176600336501)"
      ]
     },
     "execution_count": 162,
     "metadata": {},
     "output_type": "execute_result"
    },
    {
     "data": {
      "image/png": "[encoded data removed]",
      "text/plain": [
       "<Figure size 432x288 with 1 Axes>"
      ]
     },
     "metadata": {
      "needs_background": "light"
     },
     "output_type": "display_data"
    }
   ],
   "source": [
    "sv_index = 1\n",
    "dataset = \"realAWSCloudwatch\"\n",
    "energy_levels = [x[sv_index] for x in df_optmssa_spectra.query(\"dataset == @dataset\")['energy']]\n",
    "# opt_energy_levels = \n",
    "f1_scores = df_optmssa_spectra.query(\"dataset == @dataset\").f1.values\n",
    "\n",
    "plt.scatter(energy_levels, f1_scores)\n",
    "plt.ylim()"
   ]
  },
  {
   "cell_type": "code",
   "execution_count": 157,
   "metadata": {
    "Collapsed": "false"
   },
   "outputs": [
    {
     "data": {
      "text/plain": [
       "<matplotlib.collections.PathCollection at 0x12531bf10>"
      ]
     },
     "execution_count": 157,
     "metadata": {},
     "output_type": "execute_result"
    },
    {
     "data": {
      "image/png": "[encoded data removed]",
      "text/plain": [
       "<Figure size 432x288 with 1 Axes>"
      ]
     },
     "metadata": {
      "needs_background": "light"
     },
     "output_type": "display_data"
    }
   ],
   "source": [
    "plt.scatter(df_optmssa_spectra.query(\"dataset == 'realAWSCloudwatch'\")['optimal_energy_level'], df_optmssa_spectra.query(\"dataset == 'realAWSCloudwatch'\")['f1'])"
   ]
  },
  {
   "cell_type": "code",
   "execution_count": 169,
   "metadata": {
    "Collapsed": "false"
   },
   "outputs": [
    {
     "data": {
      "image/png": "[encoded data removed]",
      "text/plain": [
       "<Figure size 432x288 with 1 Axes>"
      ]
     },
     "metadata": {
      "needs_background": "light"
     },
     "output_type": "display_data"
    },
    {
     "data": {
      "image/png": "[encoded data removed]",
      "text/plain": [
       "<Figure size 432x288 with 1 Axes>"
      ]
     },
     "metadata": {
      "needs_background": "light"
     },
     "output_type": "display_data"
    },
    {
     "data": {
      "image/png": "[encoded data removed]",
      "text/plain": [
       "<Figure size 432x288 with 1 Axes>"
      ]
     },
     "metadata": {
      "needs_background": "light"
     },
     "output_type": "display_data"
    },
    {
     "data": {
      "image/png": "[encoded data removed]",
      "text/plain": [
       "<Figure size 432x288 with 1 Axes>"
      ]
     },
     "metadata": {
      "needs_background": "light"
     },
     "output_type": "display_data"
    },
    {
     "data": {
      "image/png": "[encoded data removed]",
      "text/plain": [
       "<Figure size 432x288 with 1 Axes>"
      ]
     },
     "metadata": {
      "needs_background": "light"
     },
     "output_type": "display_data"
    },
    {
     "data": {
      "image/png": "[encoded data removed]",
      "text/plain": [
       "<Figure size 432x288 with 1 Axes>"
      ]
     },
     "metadata": {
      "needs_background": "light"
     },
     "output_type": "display_data"
    },
    {
     "data": {
      "image/png": "[encoded data removed]",
      "text/plain": [
       "<Figure size 432x288 with 1 Axes>"
      ]
     },
     "metadata": {
      "needs_background": "light"
     },
     "output_type": "display_data"
    },
    {
     "data": {
      "image/png": "[encoded data removed]",
      "text/plain": [
       "<Figure size 432x288 with 1 Axes>"
      ]
     },
     "metadata": {
      "needs_background": "light"
     },
     "output_type": "display_data"
    },
    {
     "data": {
      "image/png": "[encoded data removed]",
      "text/plain": [
       "<Figure size 432x288 with 1 Axes>"
      ]
     },
     "metadata": {
      "needs_background": "light"
     },
     "output_type": "display_data"
    },
    {
     "data": {
      "image/png": "[encoded data removed]",
      "text/plain": [
       "<Figure size 432x288 with 1 Axes>"
      ]
     },
     "metadata": {
      "needs_background": "light"
     },
     "output_type": "display_data"
    },
    {
     "data": {
      "image/png": "[encoded data removed]",
      "text/plain": [
       "<Figure size 432x288 with 1 Axes>"
      ]
     },
     "metadata": {
      "needs_background": "light"
     },
     "output_type": "display_data"
    }
   ],
   "source": [
    "#Caveat: we don't have rank for when \"None\" is best \n",
    "\n",
    "for dataset in df_optmssa_spectra.dataset.unique():\n",
    "    try:\n",
    "        plt.figure()\n",
    "        plt.scatter(df_optmssa_spectra.query(\"dataset == @dataset\")['optimal_energy_level'], df_optmssa_spectra.query(\"dataset == @dataset\")['f1'])\n",
    "        plt.title(dataset)\n",
    "        plt.xlabel(\"energy at optimal rank\")\n",
    "        plt.ylabel(\"f1 score\")\n",
    "        plt.ylim(-0.05,1.05)\n",
    "        plt.xlim(-0.05,1.05)\n",
    "    except:\n",
    "        print(dataset)"
   ]
  },
  {
   "cell_type": "code",
   "execution_count": 171,
   "metadata": {
    "Collapsed": "false"
   },
   "outputs": [],
   "source": [
    "#color by trajectory "
   ]
  },
  {
   "cell_type": "code",
   "execution_count": 172,
   "metadata": {
    "Collapsed": "false"
   },
   "outputs": [
    {
     "data": {
      "text/html": [
       "<div>\n",
       "<style scoped>\n",
       "    .dataframe tbody tr th:only-of-type {\n",
       "        vertical-align: middle;\n",
       "    }\n",
       "\n",
       "    .dataframe tbody tr th {\n",
       "        vertical-align: top;\n",
       "    }\n",
       "\n",
       "    .dataframe thead th {\n",
       "        text-align: right;\n",
       "    }\n",
       "</style>\n",
       "<table border=\"1\" class=\"dataframe\">\n",
       "  <thead>\n",
       "    <tr style=\"text-align: right;\">\n",
       "      <th></th>\n",
       "      <th>signal</th>\n",
       "      <th>events</th>\n",
       "    </tr>\n",
       "  </thead>\n",
       "  <tbody>\n",
       "    <tr>\n",
       "      <th>0</th>\n",
       "      <td>P-1</td>\n",
       "      <td>[[1331272800, 1335592800], [1382832000, 138948...</td>\n",
       "    </tr>\n",
       "    <tr>\n",
       "      <th>1</th>\n",
       "      <td>S-1</td>\n",
       "      <td>[[1398168000, 1407823200]]</td>\n",
       "    </tr>\n",
       "    <tr>\n",
       "      <th>2</th>\n",
       "      <td>E-1</td>\n",
       "      <td>[[1393027200, 1393675200], [1406203200, 141648...</td>\n",
       "    </tr>\n",
       "    <tr>\n",
       "      <th>3</th>\n",
       "      <td>E-2</td>\n",
       "      <td>[[1405944000, 1436119200]]</td>\n",
       "    </tr>\n",
       "    <tr>\n",
       "      <th>4</th>\n",
       "      <td>E-3</td>\n",
       "      <td>[[1395057600, 1465905600]]</td>\n",
       "    </tr>\n",
       "    <tr>\n",
       "      <th>...</th>\n",
       "      <td>...</td>\n",
       "      <td>...</td>\n",
       "    </tr>\n",
       "    <tr>\n",
       "      <th>497</th>\n",
       "      <td>Twitter_volume_GOOG</td>\n",
       "      <td>[[1426215173,1426406273],[1427001773,142712057...</td>\n",
       "    </tr>\n",
       "    <tr>\n",
       "      <th>498</th>\n",
       "      <td>Twitter_volume_IBM</td>\n",
       "      <td>[[1427026973,1427265173],[1429434173,1429672373]]</td>\n",
       "    </tr>\n",
       "    <tr>\n",
       "      <th>499</th>\n",
       "      <td>Twitter_volume_KO</td>\n",
       "      <td>[[1426774373,1426932773],[1428450173,142860857...</td>\n",
       "    </tr>\n",
       "    <tr>\n",
       "      <th>500</th>\n",
       "      <td>Twitter_volume_PFE</td>\n",
       "      <td>[[1425268373,1425387173],[1425402173,142552097...</td>\n",
       "    </tr>\n",
       "    <tr>\n",
       "      <th>501</th>\n",
       "      <td>Twitter_volume_UPS</td>\n",
       "      <td>[[1425291473,1425386273],[1425416273,142551107...</td>\n",
       "    </tr>\n",
       "  </tbody>\n",
       "</table>\n",
       "<p>502 rows × 2 columns</p>\n",
       "</div>"
      ],
      "text/plain": [
       "                  signal                                             events\n",
       "0                    P-1  [[1331272800, 1335592800], [1382832000, 138948...\n",
       "1                    S-1                         [[1398168000, 1407823200]]\n",
       "2                    E-1  [[1393027200, 1393675200], [1406203200, 141648...\n",
       "3                    E-2                         [[1405944000, 1436119200]]\n",
       "4                    E-3                         [[1395057600, 1465905600]]\n",
       "..                   ...                                                ...\n",
       "497  Twitter_volume_GOOG  [[1426215173,1426406273],[1427001773,142712057...\n",
       "498   Twitter_volume_IBM  [[1427026973,1427265173],[1429434173,1429672373]]\n",
       "499    Twitter_volume_KO  [[1426774373,1426932773],[1428450173,142860857...\n",
       "500   Twitter_volume_PFE  [[1425268373,1425387173],[1425402173,142552097...\n",
       "501   Twitter_volume_UPS  [[1425291473,1425386273],[1425416273,142551107...\n",
       "\n",
       "[502 rows x 2 columns]"
      ]
     },
     "execution_count": 172,
     "metadata": {},
     "output_type": "execute_result"
    }
   ],
   "source": [
    "pd.read_csv(\"./Orion/orion/data/anomalies.csv\")"
   ]
  },
  {
   "cell_type": "code",
   "execution_count": null,
   "metadata": {
    "Collapsed": "false"
   },
   "outputs": [],
   "source": []
  }
 ],
 "metadata": {
  "kernelspec": {
   "display_name": "Python 3",
   "language": "python",
   "name": "python3"
  },
  "language_info": {
   "codemirror_mode": {
    "name": "ipython",
    "version": 3
   },
   "file_extension": ".py",
   "mimetype": "text/x-python",
   "name": "python",
   "nbconvert_exporter": "python",
   "pygments_lexer": "ipython3",
   "version": "3.7.6"
  }
 },
 "nbformat": 4,
 "nbformat_minor": 4
}
